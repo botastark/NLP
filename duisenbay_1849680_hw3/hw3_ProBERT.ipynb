{
  "cells": [
    {
      "cell_type": "markdown",
      "metadata": {
        "id": "Fg3I8GeFJF6U"
      },
      "source": [
        "**ProBERT implementation**\n",
        "\n",
        "---\n",
        "[Gendered Ambiguous Pronouns Shared Task: Boosting Model Confidence\n",
        "by Evidence Pooling ](https://aclanthology.org/W19-3820.pdf)\n",
        "\n",
        "Sandeep Attree"
      ]
    },
    {
      "cell_type": "markdown",
      "metadata": {
        "id": "YIgKWz0cJqYp"
      },
      "source": [
        "# installs and imports"
      ]
    },
    {
      "cell_type": "code",
      "source": [
        "!pip install seqeval"
      ],
      "metadata": {
        "colab": {
          "base_uri": "https://localhost:8080/"
        },
        "id": "pzjotpjNpQqk",
        "outputId": "23bb8f57-fe70-4c0c-ebea-2eafbfa28c26"
      },
      "execution_count": 56,
      "outputs": [
        {
          "output_type": "stream",
          "name": "stdout",
          "text": [
            "Looking in indexes: https://pypi.org/simple, https://us-python.pkg.dev/colab-wheels/public/simple/\n",
            "Requirement already satisfied: seqeval in /usr/local/lib/python3.7/dist-packages (1.2.2)\n",
            "Requirement already satisfied: scikit-learn>=0.21.3 in /usr/local/lib/python3.7/dist-packages (from seqeval) (1.0.2)\n",
            "Requirement already satisfied: numpy>=1.14.0 in /usr/local/lib/python3.7/dist-packages (from seqeval) (1.21.6)\n",
            "Requirement already satisfied: threadpoolctl>=2.0.0 in /usr/local/lib/python3.7/dist-packages (from scikit-learn>=0.21.3->seqeval) (3.1.0)\n",
            "Requirement already satisfied: scipy>=1.1.0 in /usr/local/lib/python3.7/dist-packages (from scikit-learn>=0.21.3->seqeval) (1.7.3)\n",
            "Requirement already satisfied: joblib>=0.11 in /usr/local/lib/python3.7/dist-packages (from scikit-learn>=0.21.3->seqeval) (1.2.0)\n"
          ]
        }
      ]
    },
    {
      "cell_type": "code",
      "execution_count": 1,
      "metadata": {
        "colab": {
          "base_uri": "https://localhost:8080/"
        },
        "id": "RT9TUKuNIPM8",
        "outputId": "8b049842-4daf-4770-86bc-e4ce8bd776c1"
      },
      "outputs": [
        {
          "output_type": "stream",
          "name": "stdout",
          "text": [
            "fatal: destination path 'nlp2022-hw3' already exists and is not an empty directory.\n"
          ]
        }
      ],
      "source": [
        "!git clone https://github.com/SapienzaNLP/nlp2022-hw3.git"
      ]
    },
    {
      "cell_type": "code",
      "execution_count": 2,
      "metadata": {
        "colab": {
          "base_uri": "https://localhost:8080/"
        },
        "id": "TpHAPSI4IWFM",
        "outputId": "18bac77b-4e9e-472f-e138-014951d30f14"
      },
      "outputs": [
        {
          "output_type": "stream",
          "name": "stdout",
          "text": [
            "Looking in indexes: https://pypi.org/simple, https://us-python.pkg.dev/colab-wheels/public/simple/\n",
            "Requirement already satisfied: transformers in /usr/local/lib/python3.7/dist-packages (4.23.1)\n",
            "Requirement already satisfied: requests in /usr/local/lib/python3.7/dist-packages (from transformers) (2.23.0)\n",
            "Requirement already satisfied: regex!=2019.12.17 in /usr/local/lib/python3.7/dist-packages (from transformers) (2022.6.2)\n",
            "Requirement already satisfied: pyyaml>=5.1 in /usr/local/lib/python3.7/dist-packages (from transformers) (6.0)\n",
            "Requirement already satisfied: numpy>=1.17 in /usr/local/lib/python3.7/dist-packages (from transformers) (1.21.6)\n",
            "Requirement already satisfied: importlib-metadata in /usr/local/lib/python3.7/dist-packages (from transformers) (4.13.0)\n",
            "Requirement already satisfied: filelock in /usr/local/lib/python3.7/dist-packages (from transformers) (3.8.0)\n",
            "Requirement already satisfied: packaging>=20.0 in /usr/local/lib/python3.7/dist-packages (from transformers) (21.3)\n",
            "Requirement already satisfied: tqdm>=4.27 in /usr/local/lib/python3.7/dist-packages (from transformers) (4.64.1)\n",
            "Requirement already satisfied: huggingface-hub<1.0,>=0.10.0 in /usr/local/lib/python3.7/dist-packages (from transformers) (0.10.1)\n",
            "Requirement already satisfied: tokenizers!=0.11.3,<0.14,>=0.11.1 in /usr/local/lib/python3.7/dist-packages (from transformers) (0.13.1)\n",
            "Requirement already satisfied: typing-extensions>=3.7.4.3 in /usr/local/lib/python3.7/dist-packages (from huggingface-hub<1.0,>=0.10.0->transformers) (4.1.1)\n",
            "Requirement already satisfied: pyparsing!=3.0.5,>=2.0.2 in /usr/local/lib/python3.7/dist-packages (from packaging>=20.0->transformers) (3.0.9)\n",
            "Requirement already satisfied: zipp>=0.5 in /usr/local/lib/python3.7/dist-packages (from importlib-metadata->transformers) (3.9.0)\n",
            "Requirement already satisfied: urllib3!=1.25.0,!=1.25.1,<1.26,>=1.21.1 in /usr/local/lib/python3.7/dist-packages (from requests->transformers) (1.24.3)\n",
            "Requirement already satisfied: idna<3,>=2.5 in /usr/local/lib/python3.7/dist-packages (from requests->transformers) (2.10)\n",
            "Requirement already satisfied: chardet<4,>=3.0.2 in /usr/local/lib/python3.7/dist-packages (from requests->transformers) (3.0.4)\n",
            "Requirement already satisfied: certifi>=2017.4.17 in /usr/local/lib/python3.7/dist-packages (from requests->transformers) (2022.9.24)\n"
          ]
        }
      ],
      "source": [
        "!pip install transformers"
      ]
    },
    {
      "cell_type": "code",
      "execution_count": 4,
      "metadata": {
        "id": "gh4DMlAVIYHF"
      },
      "outputs": [],
      "source": [
        "import json\n",
        "import random\n",
        "import numpy as np\n",
        "import torch\n",
        "import os\n",
        "from typing import List, Dict\n",
        "import matplotlib.pyplot as plt\n",
        "from collections import Counter\n",
        "\n",
        "from torch.utils.data import DataLoader\n",
        "# from nltk.tokenize import word_tokenize\n",
        "\n"
      ]
    },
    {
      "cell_type": "code",
      "execution_count": 5,
      "metadata": {
        "colab": {
          "base_uri": "https://localhost:8080/"
        },
        "id": "MEUGx0zwIabz",
        "outputId": "85cba1d2-581c-4df1-dceb-28c50c1faafe"
      },
      "outputs": [
        {
          "output_type": "stream",
          "name": "stdout",
          "text": [
            "cuda\n"
          ]
        }
      ],
      "source": [
        "\n",
        "from tqdm import tqdm\n",
        "import torch.nn.functional as F\n",
        "SEED = 1234\n",
        "\n",
        "random.seed(SEED)\n",
        "np.random.seed(SEED)\n",
        "torch.manual_seed(SEED)\n",
        "torch.random.manual_seed(SEED)\n",
        "torch.backends.cudnn.deterministic = True\n",
        "\n",
        "device = 'cuda' if torch.cuda.is_available() else 'cpu'\n",
        "print(device)\n",
        "from seqeval.metrics import accuracy_score, f1_score\n",
        "from sklearn.metrics import confusion_matrix\n",
        "import seaborn as sns"
      ]
    },
    {
      "cell_type": "code",
      "source": [
        "!pip install sentencepiece\n"
      ],
      "metadata": {
        "colab": {
          "base_uri": "https://localhost:8080/"
        },
        "id": "GkvAfxlcIpzI",
        "outputId": "916ac3c9-044d-4659-a9f0-02135ee9f5ea"
      },
      "execution_count": 6,
      "outputs": [
        {
          "output_type": "stream",
          "name": "stdout",
          "text": [
            "Looking in indexes: https://pypi.org/simple, https://us-python.pkg.dev/colab-wheels/public/simple/\n",
            "Requirement already satisfied: sentencepiece in /usr/local/lib/python3.7/dist-packages (0.1.97)\n"
          ]
        }
      ]
    },
    {
      "cell_type": "code",
      "execution_count": 41,
      "metadata": {
        "id": "QgSN2uiiIdHZ"
      },
      "outputs": [],
      "source": [
        "# from transformers import AutoTokenizer, AutoModelForSequenceClassification, AlbertForSequenceClassification, RobertaForSequenceClassification \n",
        "from transformers import AutoTokenizer,AutoModelForSequenceClassification, RobertaForSequenceClassification, AlbertForSequenceClassification\n",
        "\n",
        "\n",
        "checkpoint = 'albert-base-v1'\n",
        "# checkpoint = 'roberta-base'\n",
        "# checkpoint = 'bert-base-uncased'\n",
        "tokenizer = AutoTokenizer.from_pretrained(checkpoint)"
      ]
    },
    {
      "cell_type": "code",
      "execution_count": 8,
      "metadata": {
        "id": "RrJCDTkeK1w_"
      },
      "outputs": [],
      "source": [
        "from transformers import DataCollatorWithPadding\n",
        "data_collator = DataCollatorWithPadding(tokenizer=tokenizer)\n"
      ]
    },
    {
      "cell_type": "code",
      "source": [
        "from google.colab import drive\n",
        "drive.mount('/content/drive')"
      ],
      "metadata": {
        "colab": {
          "base_uri": "https://localhost:8080/"
        },
        "id": "5QqVaNUrMNZO",
        "outputId": "a2a142d2-0ff0-4f28-df60-b846da41c740"
      },
      "execution_count": 9,
      "outputs": [
        {
          "output_type": "stream",
          "name": "stdout",
          "text": [
            "Drive already mounted at /content/drive; to attempt to forcibly remount, call drive.mount(\"/content/drive\", force_remount=True).\n"
          ]
        }
      ]
    },
    {
      "cell_type": "markdown",
      "metadata": {
        "id": "9HilJ0EtJwbF"
      },
      "source": [
        "# Dataset"
      ]
    },
    {
      "cell_type": "code",
      "execution_count": 10,
      "metadata": {
        "id": "O9Zr6deCIi7z"
      },
      "outputs": [],
      "source": [
        "project_folder = '/content/nlp2022-hw3'\n",
        "\n",
        "train_path = os.path.join(project_folder, 'data', 'train.tsv')\n",
        "dev_path = os.path.join(project_folder, 'data', 'dev.tsv')"
      ]
    },
    {
      "cell_type": "code",
      "execution_count": 11,
      "metadata": {
        "id": "GeewEaZ_Igi7"
      },
      "outputs": [],
      "source": [
        "# taken from evaluate.py\n",
        "def read_dataset(path: str) -> List[Dict]:\n",
        "    samples: List[Dict] = []\n",
        "    pron_counter = Counter()\n",
        "    with open(path) as f:\n",
        "        next(f)\n",
        "        for line in f:\n",
        "            (\n",
        "                id,\n",
        "                text,\n",
        "                pron,\n",
        "                p_offset,\n",
        "                entity_A,\n",
        "                offset_A,\n",
        "                is_coref_A,\n",
        "                entity_B,\n",
        "                offset_B,\n",
        "                is_coref_B,\n",
        "                _,\n",
        "            ) = line.strip().split(\"\\t\")\n",
        "            pron_counter[pron.lower()] += 1\n",
        "            samples.append(\n",
        "                {\n",
        "                    \"id\": id,\n",
        "                    \"text\": text,\n",
        "                    \"pron\": pron,\n",
        "                    \"p_offset\": int(p_offset),\n",
        "                    \"entity_A\": entity_A,\n",
        "                    \"offset_A\": int(offset_A),\n",
        "                    \"is_coref_A\": is_coref_A,\n",
        "                    \"entity_B\": entity_B,\n",
        "                    \"offset_B\": int(offset_B),\n",
        "                    \"is_coref_B\": is_coref_B,\n",
        "                }\n",
        "            )\n",
        "    # print(pron_counter)\n",
        "    return samples"
      ]
    },
    {
      "cell_type": "code",
      "execution_count": 12,
      "metadata": {
        "colab": {
          "base_uri": "https://localhost:8080/"
        },
        "id": "uV2ZRQfeIkfA",
        "outputId": "69f3ebeb-5ea2-4ad4-e0c4-ef05899a81af"
      },
      "outputs": [
        {
          "output_type": "execute_result",
          "data": {
            "text/plain": [
              "{'id': 'validation-1',\n",
              " 'text': 'He admitted making four trips to China and playing golf there. He also admitted that ZTE officials, whom he says are his golf buddies, hosted and paid for the trips. Jose de Venecia III, son of House Speaker Jose de Venecia Jr, alleged that Abalos offered him US$10 million to withdraw his proposal on the NBN project.',\n",
              " 'pron': 'him',\n",
              " 'p_offset': 256,\n",
              " 'entity_A': 'Jose de Venecia Jr',\n",
              " 'offset_A': 208,\n",
              " 'is_coref_A': 'FALSE',\n",
              " 'entity_B': 'Abalos',\n",
              " 'offset_B': 241,\n",
              " 'is_coref_B': 'FALSE'}"
            ]
          },
          "metadata": {},
          "execution_count": 12
        }
      ],
      "source": [
        "samples = read_dataset(dev_path)\n",
        "samples[0]"
      ]
    },
    {
      "cell_type": "code",
      "execution_count": 13,
      "metadata": {
        "id": "1Vg_wYPxJCoJ"
      },
      "outputs": [],
      "source": [
        "# enclosing pornouns and entities with mention tags\n",
        "def add_tags(sample):\n",
        "  # <A> <B> <P> enclosing with tags\n",
        "  out = \"\"\n",
        "  pos_dict = {}\n",
        "  \n",
        "  pos_dict[sample['p_offset']] = ['<P>', len(sample['pron'])]\n",
        "  # pos_dict[sample['p_offset']] = ['<P>', len(sample['pron'])]\n",
        "  pos_dict[sample['offset_A']] = ['<A>', len(sample['entity_A'])]\n",
        "  pos_dict[sample['offset_B']] = ['<B>', len(sample['entity_B'])]\n",
        "  positions = list(pos_dict.keys())\n",
        "  positions.sort()\n",
        "\n",
        "  start = 0\n",
        "  end = 0\n",
        "  pronoun_id = None\n",
        "\n",
        "  for i, offset in enumerate(positions):\n",
        "    end = offset\n",
        "    [tag, word_len] = pos_dict[offset]\n",
        "    out += sample['text'][start:end] + tag\n",
        "    if tag == '<P>':\n",
        "      pronoun_id = len(list(out.split(\" \")))\n",
        "    out += \" \" + sample['text'][end:end+word_len] + \" \" +tag\n",
        "    start = offset + word_len\n",
        "    if i == 2:\n",
        "      out +=  sample['text'][start:]\n",
        "  return pronoun_id, out\n",
        "\n",
        "# giving numerical tags to the labels\n",
        "def get_label(example):\n",
        "  if example['is_coref_A'] == 'TRUE':\n",
        "    return 0 # entity A\n",
        "  elif example['is_coref_B'] == 'TRUE':\n",
        "    return 1 #entity B\n",
        "  else:\n",
        "    return 2 #Neither\n",
        "\n"
      ]
    },
    {
      "cell_type": "code",
      "execution_count": 14,
      "metadata": {
        "id": "ak4eRgLLX_q_"
      },
      "outputs": [],
      "source": [
        "# tokenising and by mapping to original positions to get word position of the pronoun to be used for pronoun pooling\n",
        "def tokenize_and_align_pronoun_pos(sentence, pronoun_id):\n",
        "    tokenized_inputs = tokenizer(sentence)\n",
        "    word_ids = tokenized_inputs.word_ids()  # Map tokens to their respective word.\n",
        "\n",
        "    new_pronoun_id = 0\n",
        "    for word_idx in word_ids:  \n",
        "        if word_idx is None:\n",
        "            new_pronoun_id += 1\n",
        "        else:\n",
        "            if word_idx == pronoun_id:\n",
        "                break\n",
        "            else:\n",
        "                new_pronoun_id += 1\n",
        "\n",
        "    tokenized_inputs['pronoun_ind'] = new_pronoun_id\n",
        "    # print(pronoun_id)\n",
        "    # for i, wor in enumerate(word_tokenize(sentence)):\n",
        "    # for i, wor in enumerate(sentence.split()):\n",
        "      # print(\"{} - {}\".format(i, wor))\n",
        "    \n",
        "    # print(new_pronoun_id)\n",
        "    # for i, wor in enumerate(tokenized_inputs['input_ids']):\n",
        "      # print(\"{} - {} - {}\".format(i, tokenizer.decode(wor), word_ids[i]))\n",
        "\n",
        "    return tokenized_inputs"
      ]
    },
    {
      "cell_type": "code",
      "source": [
        "# helper function to display dataset statistics\n",
        "def get_stats(text):\n",
        "  n_sents = len(text.split('.'))\n",
        "  n_words = len(text.split(' '))\n",
        "  return n_sents, n_words\n"
      ],
      "metadata": {
        "id": "e5boZaj0J6fB"
      },
      "execution_count": 15,
      "outputs": []
    },
    {
      "cell_type": "code",
      "execution_count": 17,
      "metadata": {
        "id": "zUhKz2uTJEjT"
      },
      "outputs": [],
      "source": [
        "# Dataset class\n",
        "# self.stat collecs and stores statistical information to be used for report\n",
        "class Dataset(torch.utils.data.Dataset):\n",
        "  \n",
        "    def __init__(self, dataset_path: str):\n",
        "        self.x = []\n",
        "        self.stat = {'Nsentences':[], 'Nwords': [], 'Na':0, 'Nb':0, 'Nn':0, 'pronoun':{} }\n",
        "        self.build(dataset_path)\n",
        "\n",
        "    def __len__(self):\n",
        "        return len(self.x)\n",
        "\n",
        "    def __getitem__(self, idx):\n",
        "        return self.x[idx]\n",
        "\n",
        "    def __get_stat___(self):\n",
        "        print(\"{} samples \". format(len(self.x)))\n",
        "        print(\"avg length of text is {} sentences  \". format(sum(self.stat['Nsentences']) / len(self.stat['Nsentences'])))\n",
        "        print(\"avg length of sentence is {} words  \". format(sum(self.stat['Nwords']) / len(self.stat['Nwords'])))\n",
        "        print(\"{} true A\\t{} true B\\t{} true Neither\\t\".format(self.stat['Na'],self.stat['Nb'], self.stat['Nn'] ))\n",
        "\n",
        "        ord_list = ['He', 'he', 'She', 'she', 'His','his','Her','her', 'him']\n",
        "        sorted_dict = dict()\n",
        "        for key in ord_list:\n",
        "            sorted_dict[key] = self.stat['pronoun'][key]\n",
        "\n",
        "        names = list(sorted_dict.keys())\n",
        "        values = list(sorted_dict.values())\n",
        "        plt.pie(values, labels=names)\n",
        "        plt.axis('equal')\n",
        "        plt.show()\n",
        "\n",
        "    def build(self, dataset_path: str) -> None:\n",
        "        samples = read_dataset(dataset_path)\n",
        "        # preprocess_function\n",
        "        for i, sample in enumerate(samples):\n",
        "          if sample['pron'] in self.stat['pronoun']:\n",
        "            self.stat['pronoun'][sample['pron']] +=1\n",
        "          else:\n",
        "\n",
        "            self.stat['pronoun'][sample['pron']] =1\n",
        "          pronoun_id, sentence = add_tags(sample)\n",
        "          n_sents, n_words = get_stats(sentence)\n",
        "          self.stat['Nsentences'].append(n_sents)\n",
        "          self.stat['Nwords'].append(n_words)\n",
        "\n",
        "          input = tokenize_and_align_pronoun_pos(sentence, pronoun_id)\n",
        "          label = get_label(sample)\n",
        "          if label == 0:\n",
        "            self.stat['Na']+=1\n",
        "          elif label == 1:\n",
        "            self.stat['Nb']+=1\n",
        "          else:\n",
        "            self.stat['Nn']+=1\n",
        "\n",
        "          input['label'] = label\n",
        "          self.x.append(input)\n"
      ]
    },
    {
      "cell_type": "code",
      "execution_count": 18,
      "metadata": {
        "id": "bHhVZrUuJ7e3"
      },
      "outputs": [],
      "source": [
        "train_dataset = Dataset(train_path)\n",
        "dev_dataset = Dataset(dev_path)"
      ]
    },
    {
      "cell_type": "code",
      "source": [
        "train_dataset.__get_stat___()"
      ],
      "metadata": {
        "colab": {
          "base_uri": "https://localhost:8080/",
          "height": 324
        },
        "id": "YmMhnu4GM2VB",
        "outputId": "eeca27a8-c074-451f-aa33-69da34c7d009"
      },
      "execution_count": 19,
      "outputs": [
        {
          "output_type": "stream",
          "name": "stdout",
          "text": [
            "2998 samples \n",
            "avg length of text is 4.361240827218145 sentences  \n",
            "avg length of sentence is 77.75850567044697 words  \n",
            "1330 true A\t1353 true B\t315 true Neither\t\n"
          ]
        },
        {
          "output_type": "display_data",
          "data": {
            "text/plain": [
              "<Figure size 432x288 with 1 Axes>"
            ],
            "image/png": "[encoded data removed]"
          },
          "metadata": {}
        }
      ]
    },
    {
      "cell_type": "code",
      "source": [
        "dev_dataset.__get_stat___()"
      ],
      "metadata": {
        "colab": {
          "base_uri": "https://localhost:8080/",
          "height": 323
        },
        "id": "8R5uql2sNEkL",
        "outputId": "d9b25818-7b25-420f-f284-237208783c16"
      },
      "execution_count": 20,
      "outputs": [
        {
          "output_type": "stream",
          "name": "stdout",
          "text": [
            "454 samples \n",
            "avg length of text is 4.405286343612334 sentences  \n",
            "avg length of sentence is 76.95374449339207 words  \n",
            "187 true A\t205 true B\t62 true Neither\t\n"
          ]
        },
        {
          "output_type": "display_data",
          "data": {
            "text/plain": [
              "<Figure size 432x288 with 1 Axes>"
            ],
            "image/png": "[encoded data removed]"
          },
          "metadata": {}
        }
      ]
    },
    {
      "cell_type": "markdown",
      "source": [
        "## Data exploration"
      ],
      "metadata": {
        "id": "67pTBVxaJI6I"
      }
    },
    {
      "cell_type": "markdown",
      "metadata": {
        "id": "2FTzMmhCKBQb"
      },
      "source": [
        "# ProBERT Model"
      ]
    },
    {
      "cell_type": "code",
      "execution_count": 42,
      "metadata": {
        "id": "puz72VGGKEay"
      },
      "outputs": [],
      "source": [
        "# the model architecture is an imprelemtation of ProBERT paper\n",
        "# slightly modified from my submission for hw 2\n",
        "\n",
        "class ProBERT(torch.nn.Module):\n",
        "    def __init__(self, \n",
        "                 hparams,\n",
        "                 *args, **kwargs) -> None:\n",
        "        super().__init__()\n",
        "\n",
        "        self.num_labels = hparams.num_labels\n",
        "        # layers AutoModel\n",
        "        \n",
        "        self.bert_model = AutoModelForSequenceClassification.from_pretrained(hparams.language_model_name, output_hidden_states = True )\n",
        "        # self.bert_model = RobertaForSequenceClassification.from_pretrained(hparams.language_model_name, output_hidden_states = True )\n",
        "        # self.bert_model = AlbertForSequenceClassification.from_pretrained(hparams.language_model_name, output_hidden_states = True )\n",
        "        self.dropout = torch.nn.Dropout(0.1)\n",
        "\n",
        "        self.classifier = torch.nn.Linear(\n",
        "            self.bert_model.config.hidden_size, hparams.num_labels, bias=False\n",
        "        )\n",
        "        self.softmax = torch.nn.Softmax(dim = -1)\n",
        "\n",
        "    def forward(\n",
        "        self,\n",
        "        input_ids: torch.Tensor = None,\n",
        "        attention_mask: torch.Tensor = None,\n",
        "        token_type_ids: torch.Tensor = None,\n",
        "        pronoun_ind: torch.Tensor = None,\n",
        "        labels: torch.Tensor = None,\n",
        "        compute_predictions: bool = False,\n",
        "        compute_loss: bool = True,\n",
        "        *args,\n",
        "        **kwargs,\n",
        "    ) -> torch.Tensor:\n",
        "        # group model inputs and pass to the model\n",
        "        model_kwargs = {\n",
        "          \"input_ids\": input_ids, \n",
        "          \"attention_mask\": attention_mask\n",
        "        }\n",
        "\n",
        "\n",
        "        if token_type_ids != None :\n",
        "            model_kwargs[\"token_type_ids\"] = token_type_ids\n",
        "\n",
        "\n",
        "        transformers_outputs = self.bert_model(input_ids = input_ids, \n",
        "                                               token_type_ids = token_type_ids, \n",
        "                                               attention_mask = attention_mask,)\n",
        "\n",
        "        transformers_outputs = self.dropout(transformers_outputs.hidden_states[-1])\n",
        "        pronoun_representations = torch.tensor([])\n",
        "        for pronoun in pronoun_ind:\n",
        "          p_repr = transformers_outputs[:,pronoun,:]\n",
        "          if pronoun_representations.shape[0] ==  0:\n",
        "              pronoun_representations = p_repr\n",
        "          else:\n",
        "              torch.stack((pronoun_representations, p_repr))\n",
        "\n",
        "        classifier_output = self.classifier(pronoun_representations)\n",
        "        logits = self.softmax(classifier_output)\n",
        "        output = {\"logits\": logits}\n",
        "\n",
        "        if compute_predictions:\n",
        "            predictions = logits.argmax(dim=-1)\n",
        "            output[\"predictions\"] = predictions\n",
        "\n",
        "        if compute_loss and labels is not None:\n",
        "            output[\"loss\"] = self.compute_loss(logits, labels)\n",
        "        return output\n",
        "\n",
        "    def compute_loss(\n",
        "        self, logits: torch.Tensor, labels: torch.Tensor\n",
        "    ) -> torch.Tensor:\n",
        "        \"\"\"\n",
        "        Compute the loss of the model.\n",
        "        Args:\n",
        "            logits (`torch.Tensor`):\n",
        "                The logits of the model.\n",
        "            labels (`torch.Tensor`):\n",
        "                The labels of the model.\n",
        "        Returns:\n",
        "            obj:`torch.Tensor`: The loss of the model.\n",
        "        \"\"\"\n",
        "        return F.cross_entropy(\n",
        "            logits.view(-1, self.num_labels),\n",
        "            labels.view(-1),\n",
        "            ignore_index=-100,\n",
        "            )\n",
        "\n"
      ]
    },
    {
      "cell_type": "code",
      "execution_count": 43,
      "metadata": {
        "id": "VO3vA9KlKdeF"
      },
      "outputs": [],
      "source": [
        "project_folder = '/content/nlp2022-hw3'\n",
        "state_dict_path ='/content/drive/MyDrive/Colab Notebooks/NLP_HW3/model/'"
      ]
    },
    {
      "cell_type": "markdown",
      "metadata": {
        "id": "ICRd182vKfu4"
      },
      "source": [
        "# Train"
      ]
    },
    {
      "cell_type": "code",
      "execution_count": 23,
      "metadata": {
        "id": "iJHJqH75Kgs4"
      },
      "outputs": [],
      "source": [
        "# training function with early stop with patience\n",
        "def train(device, model: torch.nn.Module, epochs: int, optimizer: torch.optim.Optimizer):\n",
        "    epoch_loss = list()\n",
        "    val_epoch_loss = list()\n",
        "\n",
        "    early_stopping = True\n",
        "    early_stopping_mode = 'loss'\n",
        "    early_stopping_patience = 2\n",
        "    patience_counter = 0\n",
        "\n",
        "    number_of_training_steps = len([b for b in train_dataloader])\n",
        "\n",
        "    for epoch in range(epochs):  # loop over the dataset multiple times\n",
        "      batch_pbar = tqdm(enumerate(train_dataloader), total=number_of_training_steps)\n",
        "      losses = []\n",
        "      for i, batch in batch_pbar:\n",
        "        # zero the parameter gradients\n",
        "        optimizer.zero_grad()\n",
        "        batch = {k: v.to(device) for k, v in batch.items()}\n",
        "        outputs = model(**batch)\n",
        "        \n",
        "        loss = outputs[\"loss\"]\n",
        "        loss.backward()\n",
        "        optimizer.step()\n",
        "        batch_pbar.set_postfix({'loss': loss.item()})\n",
        "        losses.append(loss.item())\n",
        "      epoch_loss.append(torch.mean(torch.tensor(losses)))\n",
        "      print('loss {:.3f} \\n'.format( epoch_loss[-1]))\n",
        "\n",
        "      torch.save(model.state_dict(),\n",
        "            os.path.join(state_dict_path, 'state_{}.pt'.format(epoch)))\n",
        "\n",
        "      number_of_validation_steps = len([b for b in dev_dataloader])\n",
        "      eval_pbar = tqdm(enumerate(dev_dataloader), total=number_of_validation_steps)\n",
        "      val_losses = []\n",
        "      for i, batch in eval_pbar:\n",
        "          with torch.no_grad():\n",
        "              batch = {k: v.to(device) for k, v in batch.items()}\n",
        "              # ** operator converts batch items in named arguments, (e.g. 'input_ids', 'attention_mask_ids' ...), taken as input by the model forward pass\n",
        "              outputs = model(**batch, compute_predictions = False)\n",
        "              val_loss = outputs[\"loss\"]\n",
        "              batch_pbar.set_postfix({'loss': loss.item()})\n",
        "              val_losses.append(val_loss.item())\n",
        "      val_epoch_loss.append(torch.mean(torch.tensor(val_losses)))\n",
        "      print('val loss {:.3f} \\n'.format( val_epoch_loss[-1]))\n",
        "      # to  stop training before overfitting\n",
        "      if early_stopping:\n",
        "          # choose metric to monitor\n",
        "          stop = early_stopping_mode == 'loss' and epoch > 0 and val_epoch_loss[-1] >= val_epoch_loss[-2]\n",
        "          # set patience\n",
        "          if stop:\n",
        "              if patience_counter >= early_stopping_patience:\n",
        "                  print('Early stop.')\n",
        "                  torch.save(model.state_dict(),\n",
        "                      os.path.join(state_dict_path, 'state_LATEST.pt'))\n",
        "                  break\n",
        "              else:\n",
        "                  patience_counter += 1\n",
        "                  print(f'-- Patience {patience_counter} out of {early_stopping_patience}.\\n')\n",
        "    return epoch_loss, val_epoch_loss"
      ]
    },
    {
      "cell_type": "markdown",
      "metadata": {
        "id": "hrIC1krHsfsV"
      },
      "source": [
        "# Predict PostProcess Evaluate"
      ]
    },
    {
      "cell_type": "code",
      "execution_count": 24,
      "metadata": {
        "id": "g5IJFqp3skTH"
      },
      "outputs": [],
      "source": [
        "# prediction model that predict loading the model from saves state\n",
        "def predict(model_to_predict, weights_path, sentences, device):\n",
        "\n",
        "  model_to_predict.load_state_dict(torch.load(weights_path, map_location=torch.device(device)))\n",
        "  sentences_pbar = tqdm(enumerate(sentences), total=len(sentences))\n",
        "  out = []\n",
        "  for i, sample in sentences_pbar:\n",
        "    pronoun_id, sentence = add_tags(sample)\n",
        "    input = tokenize_and_align_pronoun_pos(sentence, pronoun_id)\n",
        "    label = get_label(sample)\n",
        "    input['label'] = get_label(sample)\n",
        "    batch = {k: torch.unsqueeze(torch.tensor(v), 0).to(device) for k, v in input.items()}\n",
        "    Y_hat = model_to_predict.forward(**batch, compute_predictions = True)\n",
        "    output = torch.squeeze(Y_hat['predictions'],0)\n",
        "    out.append( output)\n",
        "  predictions = postprocess(sentences, out)\n",
        "  \n",
        "  return predictions\n",
        "\n",
        "# postprocess function used to transform from prediction of a class to the expected format for evaluation\n",
        "# with list of [[pronoun, pornoun offset], [correct entity, entity offset]]\n",
        "def postprocess(sentences, outputs):\n",
        "  predictions = []\n",
        "  for sent, pred in zip(sentences,outputs ):\n",
        "    prediction = []\n",
        "    prediction.append([sent['pron'], sent['p_offset']])\n",
        "    if pred == 0: # entity A\n",
        "      prediction.append([sent['entity_A'], sent['offset_A']])\n",
        "    elif pred == 1: # entity B\n",
        "      prediction.append([sent['entity_B'], sent['offset_B']])\n",
        "    else:\n",
        "      prediction.append([None, None])\n",
        "    predictions.append(prediction)\n",
        "  return predictions\n",
        "\n",
        "# evaluation function taken from evaluate.py \n",
        "def evaluate(predictions_s, samples):\n",
        "    total = 0\n",
        "    correct = 0\n",
        "    for pred, label in zip(predictions_s, samples):\n",
        "        gold_pron_offset = label[\"p_offset\"]\n",
        "        pred_pron_offset = pred[0][1] if len(pred[0]) > 0 else None\n",
        "        gold_pron = label[\"pron\"]\n",
        "        pred_pron = pred[0][0] if len(pred[0]) > 0 else None\n",
        "        gold_both_wrong = label[\"is_coref_A\"] == \"FALSE\" and label[\"is_coref_B\"] == \"FALSE\"\n",
        "        pred_entity_offset = pred[1][1] if len(pred[1]) > 0 else None\n",
        "        pred_entity = pred[1][0] if len(pred[1]) > 0 else None\n",
        "        if gold_both_wrong:\n",
        "            if pred_entity is None and gold_pron_offset == pred_pron_offset and gold_pron == pred_pron:\n",
        "                correct += 1\n",
        "            total += 1\n",
        "        else:\n",
        "            gold_entity_offset = (\n",
        "                label[\"offset_A\"] if label[\"is_coref_A\"] == \"TRUE\" else label[\"offset_B\"]\n",
        "            )\n",
        "            gold_entity = (\n",
        "                label[\"entity_A\"] if label[\"is_coref_A\"] == \"TRUE\" else label[\"entity_B\"]\n",
        "            )\n",
        "            if (\n",
        "                gold_pron_offset == pred_pron_offset\n",
        "                and gold_pron == pred_pron\n",
        "                and gold_entity_offset == pred_entity_offset\n",
        "                and gold_entity == pred_entity\n",
        "            ):\n",
        "                correct += 1\n",
        "            total += 1\n",
        "    print(f\"# instances: {total}\")\n",
        "    acc = float(correct) / total\n",
        "    print(f\"# accuracy: {acc:.4f}\")"
      ]
    },
    {
      "cell_type": "code",
      "source": [
        "# function used to reformat predictions back to classes to build confusion matrix\n",
        "def flatten_pred(samples, preds):\n",
        "  pred_flat = []\n",
        "  for i, sample in enumerate(samples):\n",
        "    pred_entity = preds[i][1][0]\n",
        "    pred_entity_offset = preds[i][1][1]\n",
        "\n",
        "    if pred_entity == sample['entity_A']:\n",
        "      if pred_entity_offset == sample['offset_A']:\n",
        "        pred_flat.append(0)\n",
        "    elif pred_entity == sample['entity_B']:\n",
        "      if pred_entity_offset == sample['offset_B']:\n",
        "        pred_flat.append(1)\n",
        "    elif pred_entity == None:\n",
        "      if pred_entity_offset == None:\n",
        "        pred_flat.append(2)\n",
        "  return pred_flat\n",
        "\n",
        "    \n",
        "tags = ['A', 'B','Neither']\n",
        "\n",
        "# func that computes and plot confusion matrix \n",
        "def plots(Y_true, Y_pred):\n",
        "  \n",
        "  y_true_flat = [get_label(sample) for sample in Y_true]\n",
        "\n",
        "  pred_flat = flatten_pred(Y_true, Y_pred)\n",
        "  cm = confusion_matrix(y_true_flat, pred_flat)\n",
        "  cmn = cm.astype('float') / cm.sum(axis=1)[:, np.newaxis]\n",
        "  fig, ax = plt.subplots(figsize=(10,10))\n",
        "  sns.heatmap(cmn, annot=True, fmt='.2f', xticklabels=tags, yticklabels=tags)\n",
        "  plt.ylabel('Actual')\n",
        "  plt.xlabel('Predicted')\n",
        "  plt.show(block=False)"
      ],
      "metadata": {
        "id": "g-AvSrCIEHQH"
      },
      "execution_count": 38,
      "outputs": []
    },
    {
      "cell_type": "markdown",
      "metadata": {
        "id": "vSYDvB-MKsXL"
      },
      "source": [
        "# Experiment"
      ]
    },
    {
      "cell_type": "code",
      "execution_count": 25,
      "metadata": {
        "id": "fS7asLZfKx4D"
      },
      "outputs": [],
      "source": [
        "batch_size = 8\n",
        "num_workers = 8\n",
        "epochs = 10\n",
        "device = \"cuda\" if torch.cuda.is_available() else \"cpu\""
      ]
    },
    {
      "cell_type": "code",
      "execution_count": 26,
      "metadata": {
        "id": "aYNqpO6DKnPE"
      },
      "outputs": [],
      "source": [
        "train_dataloader = DataLoader(\n",
        "    train_dataset, shuffle=True, batch_size=batch_size, collate_fn=data_collator\n",
        ")\n",
        "dev_dataloader = DataLoader(\n",
        "    dev_dataset, shuffle=True, batch_size=batch_size, collate_fn=data_collator\n",
        ")"
      ]
    },
    {
      "cell_type": "code",
      "execution_count": 44,
      "metadata": {
        "id": "arpp1PpNK8TX"
      },
      "outputs": [],
      "source": [
        "\n",
        "class HyperParams():\n",
        "    language_model_name = checkpoint\n",
        "    num_labels = 3\n",
        "    fine_tune_lm = True\n",
        "    batch_size = batch_size\n",
        "\n",
        "hparams = HyperParams()"
      ]
    },
    {
      "cell_type": "code",
      "execution_count": 45,
      "metadata": {
        "colab": {
          "base_uri": "https://localhost:8080/"
        },
        "id": "ZoFAZWU6K-Cj",
        "outputId": "d41fe3d6-5a0b-4c73-9f1b-2391d71d8809"
      },
      "outputs": [
        {
          "output_type": "stream",
          "name": "stderr",
          "text": [
            "Some weights of the model checkpoint at albert-base-v1 were not used when initializing AlbertForSequenceClassification: ['predictions.dense.bias', 'predictions.decoder.weight', 'predictions.LayerNorm.weight', 'predictions.decoder.bias', 'predictions.bias', 'predictions.LayerNorm.bias', 'predictions.dense.weight']\n",
            "- This IS expected if you are initializing AlbertForSequenceClassification from the checkpoint of a model trained on another task or with another architecture (e.g. initializing a BertForSequenceClassification model from a BertForPreTraining model).\n",
            "- This IS NOT expected if you are initializing AlbertForSequenceClassification from the checkpoint of a model that you expect to be exactly identical (initializing a BertForSequenceClassification model from a BertForSequenceClassification model).\n",
            "Some weights of AlbertForSequenceClassification were not initialized from the model checkpoint at albert-base-v1 and are newly initialized: ['classifier.bias', 'classifier.weight']\n",
            "You should probably TRAIN this model on a down-stream task to be able to use it for predictions and inference.\n"
          ]
        },
        {
          "output_type": "execute_result",
          "data": {
            "text/plain": [
              "ProBERT(\n",
              "  (bert_model): AlbertForSequenceClassification(\n",
              "    (albert): AlbertModel(\n",
              "      (embeddings): AlbertEmbeddings(\n",
              "        (word_embeddings): Embedding(30000, 128, padding_idx=0)\n",
              "        (position_embeddings): Embedding(512, 128)\n",
              "        (token_type_embeddings): Embedding(2, 128)\n",
              "        (LayerNorm): LayerNorm((128,), eps=1e-12, elementwise_affine=True)\n",
              "        (dropout): Dropout(p=0.1, inplace=False)\n",
              "      )\n",
              "      (encoder): AlbertTransformer(\n",
              "        (embedding_hidden_mapping_in): Linear(in_features=128, out_features=768, bias=True)\n",
              "        (albert_layer_groups): ModuleList(\n",
              "          (0): AlbertLayerGroup(\n",
              "            (albert_layers): ModuleList(\n",
              "              (0): AlbertLayer(\n",
              "                (full_layer_layer_norm): LayerNorm((768,), eps=1e-12, elementwise_affine=True)\n",
              "                (attention): AlbertAttention(\n",
              "                  (query): Linear(in_features=768, out_features=768, bias=True)\n",
              "                  (key): Linear(in_features=768, out_features=768, bias=True)\n",
              "                  (value): Linear(in_features=768, out_features=768, bias=True)\n",
              "                  (attention_dropout): Dropout(p=0.1, inplace=False)\n",
              "                  (output_dropout): Dropout(p=0.1, inplace=False)\n",
              "                  (dense): Linear(in_features=768, out_features=768, bias=True)\n",
              "                  (LayerNorm): LayerNorm((768,), eps=1e-12, elementwise_affine=True)\n",
              "                )\n",
              "                (ffn): Linear(in_features=768, out_features=3072, bias=True)\n",
              "                (ffn_output): Linear(in_features=3072, out_features=768, bias=True)\n",
              "                (activation): GELUActivation()\n",
              "                (dropout): Dropout(p=0.1, inplace=False)\n",
              "              )\n",
              "            )\n",
              "          )\n",
              "        )\n",
              "      )\n",
              "      (pooler): Linear(in_features=768, out_features=768, bias=True)\n",
              "      (pooler_activation): Tanh()\n",
              "    )\n",
              "    (dropout): Dropout(p=0.1, inplace=False)\n",
              "    (classifier): Linear(in_features=768, out_features=2, bias=True)\n",
              "  )\n",
              "  (dropout): Dropout(p=0.1, inplace=False)\n",
              "  (classifier): Linear(in_features=768, out_features=3, bias=False)\n",
              "  (softmax): Softmax(dim=-1)\n",
              ")"
            ]
          },
          "metadata": {},
          "execution_count": 45
        }
      ],
      "source": [
        "model = ProBERT(hparams)\n",
        "model.to(device)\n"
      ]
    },
    {
      "cell_type": "code",
      "execution_count": 46,
      "metadata": {
        "id": "mzTMUtgWLAwR"
      },
      "outputs": [],
      "source": [
        "# from torch.optim import Adam\n",
        "# optim\n",
        "learning_rate = 4e-6\n",
        "weight_decay = 0.01\n",
        "transformer_learning_rate = 4e-6\n",
        "transformer_weight_decay = 0.01\n",
        "# optimizer\n",
        "groups = [\n",
        "  {\n",
        "    \"params\": model.classifier.parameters(),\n",
        "    \"lr\": learning_rate,\n",
        "    \"weight_decay\": weight_decay,\n",
        "  },\n",
        "  {\n",
        "    \"params\": model.bert_model.parameters(),\n",
        "    \"lr\": transformer_learning_rate,\n",
        "    \"weight_decay\": transformer_weight_decay,\n",
        "  }, ]\n",
        "\n",
        "# optimizer = Adam(groups,lr=5*1e-6, betas=(0.9, 0.999), eps=1e-04,)"
      ]
    },
    {
      "cell_type": "code",
      "source": [
        "from torch.optim import AdamW\n",
        "optimizer = AdamW(groups, betas=(0.9, 0.999), eps=1e-06,)"
      ],
      "metadata": {
        "id": "nSqN92y7-HEm"
      },
      "execution_count": 47,
      "outputs": []
    },
    {
      "cell_type": "code",
      "execution_count": 48,
      "metadata": {
        "colab": {
          "base_uri": "https://localhost:8080/"
        },
        "id": "4Jxo2lAFLGo0",
        "outputId": "6c5156a8-3070-4dba-c18e-71a9d0ed9f37"
      },
      "outputs": [
        {
          "output_type": "stream",
          "name": "stderr",
          "text": [
            "100%|██████████| 375/375 [01:20<00:00,  4.65it/s, loss=1.07]\n"
          ]
        },
        {
          "output_type": "stream",
          "name": "stdout",
          "text": [
            "loss 1.026 \n",
            "\n"
          ]
        },
        {
          "output_type": "stream",
          "name": "stderr",
          "text": [
            "100%|██████████| 57/57 [00:04<00:00, 13.44it/s]\n"
          ]
        },
        {
          "output_type": "stream",
          "name": "stdout",
          "text": [
            "val loss 1.029 \n",
            "\n"
          ]
        },
        {
          "output_type": "stream",
          "name": "stderr",
          "text": [
            "100%|██████████| 375/375 [01:20<00:00,  4.66it/s, loss=0.984]\n"
          ]
        },
        {
          "output_type": "stream",
          "name": "stdout",
          "text": [
            "loss 1.014 \n",
            "\n"
          ]
        },
        {
          "output_type": "stream",
          "name": "stderr",
          "text": [
            "100%|██████████| 57/57 [00:04<00:00, 13.48it/s]\n"
          ]
        },
        {
          "output_type": "stream",
          "name": "stdout",
          "text": [
            "val loss 1.028 \n",
            "\n"
          ]
        },
        {
          "output_type": "stream",
          "name": "stderr",
          "text": [
            "100%|██████████| 375/375 [01:20<00:00,  4.66it/s, loss=0.992]\n"
          ]
        },
        {
          "output_type": "stream",
          "name": "stdout",
          "text": [
            "loss 1.011 \n",
            "\n"
          ]
        },
        {
          "output_type": "stream",
          "name": "stderr",
          "text": [
            "100%|██████████| 57/57 [00:04<00:00, 13.32it/s]\n"
          ]
        },
        {
          "output_type": "stream",
          "name": "stdout",
          "text": [
            "val loss 1.023 \n",
            "\n"
          ]
        },
        {
          "output_type": "stream",
          "name": "stderr",
          "text": [
            "100%|██████████| 375/375 [01:20<00:00,  4.68it/s, loss=1.25]\n"
          ]
        },
        {
          "output_type": "stream",
          "name": "stdout",
          "text": [
            "loss 1.005 \n",
            "\n"
          ]
        },
        {
          "output_type": "stream",
          "name": "stderr",
          "text": [
            "100%|██████████| 57/57 [00:04<00:00, 13.18it/s]\n"
          ]
        },
        {
          "output_type": "stream",
          "name": "stdout",
          "text": [
            "val loss 1.038 \n",
            "\n",
            "-- Patience 1 out of 2.\n",
            "\n"
          ]
        },
        {
          "output_type": "stream",
          "name": "stderr",
          "text": [
            "100%|██████████| 375/375 [01:20<00:00,  4.66it/s, loss=0.985]\n"
          ]
        },
        {
          "output_type": "stream",
          "name": "stdout",
          "text": [
            "loss 0.998 \n",
            "\n"
          ]
        },
        {
          "output_type": "stream",
          "name": "stderr",
          "text": [
            "100%|██████████| 57/57 [00:04<00:00, 13.46it/s]\n"
          ]
        },
        {
          "output_type": "stream",
          "name": "stdout",
          "text": [
            "val loss 1.026 \n",
            "\n"
          ]
        },
        {
          "output_type": "stream",
          "name": "stderr",
          "text": [
            "100%|██████████| 375/375 [01:20<00:00,  4.65it/s, loss=0.9]\n"
          ]
        },
        {
          "output_type": "stream",
          "name": "stdout",
          "text": [
            "loss 0.985 \n",
            "\n"
          ]
        },
        {
          "output_type": "stream",
          "name": "stderr",
          "text": [
            "100%|██████████| 57/57 [00:04<00:00, 13.32it/s]\n"
          ]
        },
        {
          "output_type": "stream",
          "name": "stdout",
          "text": [
            "val loss 1.004 \n",
            "\n"
          ]
        },
        {
          "output_type": "stream",
          "name": "stderr",
          "text": [
            "100%|██████████| 375/375 [01:20<00:00,  4.67it/s, loss=1.12]\n"
          ]
        },
        {
          "output_type": "stream",
          "name": "stdout",
          "text": [
            "loss 0.954 \n",
            "\n"
          ]
        },
        {
          "output_type": "stream",
          "name": "stderr",
          "text": [
            "100%|██████████| 57/57 [00:04<00:00, 13.54it/s]\n"
          ]
        },
        {
          "output_type": "stream",
          "name": "stdout",
          "text": [
            "val loss 0.998 \n",
            "\n"
          ]
        },
        {
          "output_type": "stream",
          "name": "stderr",
          "text": [
            "100%|██████████| 375/375 [01:20<00:00,  4.66it/s, loss=0.834]\n"
          ]
        },
        {
          "output_type": "stream",
          "name": "stdout",
          "text": [
            "loss 0.913 \n",
            "\n"
          ]
        },
        {
          "output_type": "stream",
          "name": "stderr",
          "text": [
            "100%|██████████| 57/57 [00:04<00:00, 13.34it/s]\n"
          ]
        },
        {
          "output_type": "stream",
          "name": "stdout",
          "text": [
            "val loss 0.978 \n",
            "\n"
          ]
        },
        {
          "output_type": "stream",
          "name": "stderr",
          "text": [
            "100%|██████████| 375/375 [01:20<00:00,  4.65it/s, loss=0.773]\n"
          ]
        },
        {
          "output_type": "stream",
          "name": "stdout",
          "text": [
            "loss 0.880 \n",
            "\n"
          ]
        },
        {
          "output_type": "stream",
          "name": "stderr",
          "text": [
            "100%|██████████| 57/57 [00:04<00:00, 13.21it/s]\n"
          ]
        },
        {
          "output_type": "stream",
          "name": "stdout",
          "text": [
            "val loss 0.969 \n",
            "\n"
          ]
        },
        {
          "output_type": "stream",
          "name": "stderr",
          "text": [
            "100%|██████████| 375/375 [01:19<00:00,  4.70it/s, loss=0.917]\n"
          ]
        },
        {
          "output_type": "stream",
          "name": "stdout",
          "text": [
            "loss 0.846 \n",
            "\n"
          ]
        },
        {
          "output_type": "stream",
          "name": "stderr",
          "text": [
            "100%|██████████| 57/57 [00:04<00:00, 13.26it/s]"
          ]
        },
        {
          "output_type": "stream",
          "name": "stdout",
          "text": [
            "val loss 0.978 \n",
            "\n",
            "-- Patience 2 out of 2.\n",
            "\n"
          ]
        },
        {
          "output_type": "stream",
          "name": "stderr",
          "text": [
            "\n"
          ]
        }
      ],
      "source": [
        "# CUDA_LAUNCH_BLOCKING=1\n",
        "epoch_loss, val_epoch_loss = train(device, model, epochs = 10, optimizer = optimizer)"
      ]
    },
    {
      "cell_type": "code",
      "source": [
        "# TRaining loss to determine best state for evaluation\n",
        "plt.plot(np.array(epoch_loss), 'r', np.array(val_epoch_loss), 'b')"
      ],
      "metadata": {
        "colab": {
          "base_uri": "https://localhost:8080/",
          "height": 301
        },
        "id": "7ApyqGn46olV",
        "outputId": "9aa3e15e-e305-4774-e877-c6074a96d078"
      },
      "execution_count": 50,
      "outputs": [
        {
          "output_type": "execute_result",
          "data": {
            "text/plain": [
              "[<matplotlib.lines.Line2D at 0x7efc431a1950>,\n",
              " <matplotlib.lines.Line2D at 0x7efc431a7fd0>]"
            ]
          },
          "metadata": {},
          "execution_count": 50
        },
        {
          "output_type": "display_data",
          "data": {
            "text/plain": [
              "<Figure size 432x288 with 1 Axes>"
            ],
            "image/png": "[encoded data removed]"
          },
          "metadata": {
            "needs_background": "light"
          }
        }
      ]
    },
    {
      "cell_type": "code",
      "execution_count": 53,
      "metadata": {
        "colab": {
          "base_uri": "https://localhost:8080/"
        },
        "id": "Jgk_c-Fkgfip",
        "outputId": "70dbc9ec-9f4d-48b7-c503-3fa09fe70af0"
      },
      "outputs": [
        {
          "output_type": "stream",
          "name": "stderr",
          "text": [
            "100%|██████████| 454/454 [00:06<00:00, 72.87it/s]\n"
          ]
        }
      ],
      "source": [
        "# Prediction\n",
        "sentences = read_dataset(dev_path)\n",
        "state_dict_path='/content/drive/MyDrive/Colab Notebooks/NLP_HW3/model/'\n",
        "# state_5_albert_v1_base_best\n",
        "# state_8 for roberta best\n",
        "# state_7 for bert best\n",
        "state_path = os.path.join(state_dict_path, 'albert_best.pt')\n",
        "predictions = predict(model, state_path, sentences, device)"
      ]
    },
    {
      "cell_type": "code",
      "execution_count": 54,
      "metadata": {
        "colab": {
          "base_uri": "https://localhost:8080/"
        },
        "id": "fTTU5cwisF6k",
        "outputId": "ce7cbfb5-a05d-4231-8cc6-999ca7bb31df"
      },
      "outputs": [
        {
          "output_type": "stream",
          "name": "stdout",
          "text": [
            "# instances: 454\n",
            "# accuracy: 0.7863\n"
          ]
        }
      ],
      "source": [
        "evaluate(predictions, sentences)"
      ]
    },
    {
      "cell_type": "code",
      "source": [
        "plots(sentences, predictions )"
      ],
      "metadata": {
        "colab": {
          "base_uri": "https://localhost:8080/",
          "height": 606
        },
        "id": "xOAe2DoxMEwd",
        "outputId": "c3b57622-4d29-46b1-a723-5ae9a9b3bcdb"
      },
      "execution_count": 55,
      "outputs": [
        {
          "output_type": "display_data",
          "data": {
            "text/plain": [
              "<Figure size 720x720 with 2 Axes>"
            ],
            "image/png": "[encoded data removed]"
          },
          "metadata": {
            "needs_background": "light"
          }
        }
      ]
    }
  ],
  "metadata": {
    "accelerator": "GPU",
    "colab": {
      "collapsed_sections": [
        "YIgKWz0cJqYp"
      ],
      "machine_shape": "hm",
      "provenance": []
    },
    "gpuClass": "standard",
    "kernelspec": {
      "display_name": "Python 3",
      "name": "python3"
    },
    "language_info": {
      "name": "python"
    }
  },
  "nbformat": 4,
  "nbformat_minor": 0
}