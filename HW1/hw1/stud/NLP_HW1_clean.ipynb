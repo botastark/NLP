{
  "cells": [
    {
      "cell_type": "markdown",
      "metadata": {
        "id": "EHKOsSfWyWkE"
      },
      "source": [
        "#Downloads and imports"
      ]
    },
    {
      "cell_type": "code",
      "execution_count": 49,
      "metadata": {
        "colab": {
          "base_uri": "https://localhost:8080/"
        },
        "id": "lKbiyxFtyy6_",
        "outputId": "932c4063-84d3-45c4-dd8c-a7da4005b40a"
      },
      "outputs": [
        {
          "output_type": "stream",
          "name": "stdout",
          "text": [
            "Looking in indexes: https://pypi.org/simple, https://us-python.pkg.dev/colab-wheels/public/simple/\n",
            "Requirement already satisfied: seqeval==1.2.2 in /usr/local/lib/python3.7/dist-packages (1.2.2)\n",
            "Requirement already satisfied: numpy>=1.14.0 in /usr/local/lib/python3.7/dist-packages (from seqeval==1.2.2) (1.21.6)\n",
            "Requirement already satisfied: scikit-learn>=0.21.3 in /usr/local/lib/python3.7/dist-packages (from seqeval==1.2.2) (1.0.2)\n",
            "Requirement already satisfied: threadpoolctl>=2.0.0 in /usr/local/lib/python3.7/dist-packages (from scikit-learn>=0.21.3->seqeval==1.2.2) (3.1.0)\n",
            "Requirement already satisfied: scipy>=1.1.0 in /usr/local/lib/python3.7/dist-packages (from scikit-learn>=0.21.3->seqeval==1.2.2) (1.7.3)\n",
            "Requirement already satisfied: joblib>=0.11 in /usr/local/lib/python3.7/dist-packages (from scikit-learn>=0.21.3->seqeval==1.2.2) (1.1.0)\n",
            "Looking in indexes: https://pypi.org/simple, https://us-python.pkg.dev/colab-wheels/public/simple/\n",
            "Requirement already satisfied: matplotlib==3.4 in /usr/local/lib/python3.7/dist-packages (3.4.0)\n",
            "Requirement already satisfied: pillow>=6.2.0 in /usr/local/lib/python3.7/dist-packages (from matplotlib==3.4) (7.1.2)\n",
            "Requirement already satisfied: pyparsing>=2.2.1 in /usr/local/lib/python3.7/dist-packages (from matplotlib==3.4) (3.0.9)\n",
            "Requirement already satisfied: kiwisolver>=1.0.1 in /usr/local/lib/python3.7/dist-packages (from matplotlib==3.4) (1.4.4)\n",
            "Requirement already satisfied: cycler>=0.10 in /usr/local/lib/python3.7/dist-packages (from matplotlib==3.4) (0.11.0)\n",
            "Requirement already satisfied: python-dateutil>=2.7 in /usr/local/lib/python3.7/dist-packages (from matplotlib==3.4) (2.8.2)\n",
            "Requirement already satisfied: numpy>=1.16 in /usr/local/lib/python3.7/dist-packages (from matplotlib==3.4) (1.21.6)\n",
            "Requirement already satisfied: typing-extensions in /usr/local/lib/python3.7/dist-packages (from kiwisolver>=1.0.1->matplotlib==3.4) (4.1.1)\n",
            "Requirement already satisfied: six>=1.5 in /usr/local/lib/python3.7/dist-packages (from python-dateutil>=2.7->matplotlib==3.4) (1.15.0)\n"
          ]
        }
      ],
      "source": [
        "!pip install seqeval==1.2.2\n",
        "\n",
        "!pip install matplotlib==3.4\n",
        "from seqeval.metrics import accuracy_score, f1_score\n"
      ]
    },
    {
      "cell_type": "code",
      "execution_count": 50,
      "metadata": {
        "id": "Stwt6vvTdEeI"
      },
      "outputs": [],
      "source": [
        "import pandas as pd\n",
        "import numpy as np\n",
        "\n",
        "from typing import Tuple, List, Dict, Optional\n",
        "from collections import Counter, defaultdict\n",
        "\n",
        "from tqdm.notebook import tqdm\n",
        "\n",
        "import torch\n",
        "from torch import nn\n",
        "from torch.autograd import Variable\n",
        "\n",
        "from torch.utils.data import Dataset, DataLoader\n",
        "from torch.optim import SGD, Adam, RMSprop\n",
        "import torch.nn.functional as F\n",
        "# import torch.optim as optim\n",
        "\n",
        "torch.manual_seed(42)\n",
        "\n",
        "from sklearn.metrics import accuracy_score\n",
        "\n",
        "import matplotlib.pyplot as plt\n",
        "import csv\n",
        "\n",
        "import sklearn.metrics\n",
        "import seaborn as sns\n",
        "\n",
        "import os\n",
        "import string\n",
        "import re\n"
      ]
    },
    {
      "cell_type": "code",
      "source": [
        "import matplotlib\n",
        "print(matplotlib.__version__)"
      ],
      "metadata": {
        "colab": {
          "base_uri": "https://localhost:8080/"
        },
        "id": "8rmYpbmvBj3U",
        "outputId": "7aa89033-0716-424d-e9e8-7281a5866cb7"
      },
      "execution_count": 2,
      "outputs": [
        {
          "output_type": "stream",
          "name": "stdout",
          "text": [
            "3.4.0\n"
          ]
        }
      ]
    },
    {
      "cell_type": "code",
      "execution_count": 4,
      "metadata": {
        "colab": {
          "base_uri": "https://localhost:8080/"
        },
        "id": "-1-5qJlujD5r",
        "outputId": "c026e8a8-996f-43a0-c41f-d700deba0bc1"
      },
      "outputs": [
        {
          "output_type": "stream",
          "name": "stdout",
          "text": [
            "Cloning into 'nlp2022-hw1'...\n",
            "remote: Enumerating objects: 86, done.\u001b[K\n",
            "remote: Counting objects: 100% (86/86), done.\u001b[K\n",
            "remote: Compressing objects: 100% (79/79), done.\u001b[K\n",
            "remote: Total 86 (delta 39), reused 26 (delta 4), pack-reused 0\u001b[K\n",
            "Unpacking objects: 100% (86/86), done.\n",
            "--2022-07-29 09:29:26--  http://nlp.stanford.edu/data/glove.6B.zip\n",
            "Resolving nlp.stanford.edu (nlp.stanford.edu)... 171.64.67.140\n",
            "Connecting to nlp.stanford.edu (nlp.stanford.edu)|171.64.67.140|:80... connected.\n",
            "HTTP request sent, awaiting response... 302 Found\n",
            "Location: https://nlp.stanford.edu/data/glove.6B.zip [following]\n",
            "--2022-07-29 09:29:27--  https://nlp.stanford.edu/data/glove.6B.zip\n",
            "Connecting to nlp.stanford.edu (nlp.stanford.edu)|171.64.67.140|:443... connected.\n",
            "HTTP request sent, awaiting response... 301 Moved Permanently\n",
            "Location: https://downloads.cs.stanford.edu/nlp/data/glove.6B.zip [following]\n",
            "--2022-07-29 09:29:27--  https://downloads.cs.stanford.edu/nlp/data/glove.6B.zip\n",
            "Resolving downloads.cs.stanford.edu (downloads.cs.stanford.edu)... 171.64.64.22\n",
            "Connecting to downloads.cs.stanford.edu (downloads.cs.stanford.edu)|171.64.64.22|:443... connected.\n",
            "HTTP request sent, awaiting response... 200 OK\n",
            "Length: 862182613 (822M) [application/zip]\n",
            "Saving to: ‘glove.6B.zip’\n",
            "\n",
            "glove.6B.zip        100%[===================>] 822.24M  4.93MB/s    in 2m 42s  \n",
            "\n",
            "2022-07-29 09:32:10 (5.08 MB/s) - ‘glove.6B.zip’ saved [862182613/862182613]\n",
            "\n",
            "Archive:  glove.6B.zip\n",
            "  inflating: glove.6B.50d.txt        \n",
            "  inflating: glove.6B.100d.txt       \n",
            "  inflating: glove.6B.200d.txt       \n",
            "  inflating: glove.6B.300d.txt       \n"
          ]
        }
      ],
      "source": [
        "!git clone https://github.com/botastark/nlp2022-hw1.git\n",
        "\n",
        "#get GloVe embeddings\n",
        "!wget http://nlp.stanford.edu/data/glove.6B.zip\n",
        "!unzip glove.6B.zip\n",
        "#tried with 100d, 200d, 300d, finally 50d are chosen\n",
        "!rm glove.6B.100d.txt\n",
        "!rm glove.6B.200d.txt\n",
        "# !rm glove.6B.300d.txt\n",
        "!rm glove.6B.zip"
      ]
    },
    {
      "cell_type": "markdown",
      "metadata": {
        "id": "MbtwMEnTumG9"
      },
      "source": [
        "#Dataset: reading, preprocessing"
      ]
    },
    {
      "cell_type": "code",
      "execution_count": 5,
      "metadata": {
        "id": "MREdaDuUdaCL"
      },
      "outputs": [],
      "source": [
        "#datasets\n",
        "train_path = 'nlp2022-hw1/data/train.tsv'\n",
        "dev_path = 'nlp2022-hw1/data/dev.tsv'"
      ]
    },
    {
      "cell_type": "code",
      "execution_count": 6,
      "metadata": {
        "id": "nuYQhcJ4dfdY"
      },
      "outputs": [],
      "source": [
        "\n",
        "def read_dataset(path: str) -> Tuple[List[List[str]], List[List[str]]]:\n",
        "    tokens_s = []\n",
        "    labels_s = []\n",
        "\n",
        "    tokens = []\n",
        "    labels = []\n",
        "    total_tokens = 0\n",
        "    with open(path) as f:\n",
        "        for line in f:\n",
        "\n",
        "            line = line.strip()\n",
        "\n",
        "            if line.startswith(\"#\\t\"):\n",
        "                tokens = []\n",
        "                labels = []\n",
        "            elif line == \"\":\n",
        "                tokens_s.append(tokens)\n",
        "                labels_s.append(labels)\n",
        "                total_tokens += len(tokens)\n",
        "            else:\n",
        "                token, label = line.split(\"\\t\")\n",
        "                tokens.append(token)\n",
        "                labels.append(label)\n",
        "\n",
        "    assert len(tokens_s) == len(labels_s)\n",
        "    # print( total_tokens )\n",
        "\n",
        "\n",
        "    return tokens_s, labels_s"
      ]
    },
    {
      "cell_type": "code",
      "execution_count": 7,
      "metadata": {
        "id": "GTwIs0lkdrIM"
      },
      "outputs": [],
      "source": [
        "#auxiliary function to check labels distribution (does not influence on the solution, just a part of data exploration)\n",
        "def draw_labels(dataset_path: str, mode: str):\n",
        "\n",
        "    _, labels = read_dataset(dataset_path)\n",
        "\n",
        "    counter = Counter(x for xs in labels for x in set(xs))\n",
        "    fig = plt.figure(figsize=(5, 5))\n",
        "    classes = list(counter.keys())\n",
        "\n",
        "    print('{}: '.format(mode), dict(counter))\n",
        "    sizes = list(counter.values())\n",
        "\n",
        "    plt.pie(sizes, labels=classes, autopct='%1.1f%%', shadow=True, startangle=90)\n",
        "\n",
        "    plt.axis('equal')\n",
        "    fig.savefig('{}.png'.format(mode),  dpi=fig.dpi)\n",
        "\n",
        "    plt.show()\n",
        "    "
      ]
    },
    {
      "cell_type": "code",
      "execution_count": 8,
      "metadata": {
        "id": "Z0oYTy2Cdu3n",
        "colab": {
          "base_uri": "https://localhost:8080/",
          "height": 672
        },
        "outputId": "6e8a3baf-d1b7-4707-cfbc-69f658afbfa0"
      },
      "outputs": [
        {
          "output_type": "stream",
          "name": "stdout",
          "text": [
            "Train:  {'O': 14535, 'B-LOC': 3021, 'B-CW': 3017, 'I-CW': 2345, 'B-PER': 3739, 'I-PER': 3592, 'I-CORP': 1801, 'B-CORP': 2673, 'I-GRP': 2699, 'B-GRP': 2944, 'B-PROD': 2401, 'I-PROD': 1201, 'I-LOC': 1362}\n"
          ]
        },
        {
          "output_type": "display_data",
          "data": {
            "text/plain": [
              "<Figure size 360x360 with 1 Axes>"
            ],
            "image/png": "[encoded data removed]"
          },
          "metadata": {}
        },
        {
          "output_type": "stream",
          "name": "stdout",
          "text": [
            "Dev:  {'B-PER': 211, 'O': 765, 'I-PER': 206, 'B-CW': 146, 'I-CW': 109, 'I-GRP': 156, 'B-GRP': 172, 'B-PROD': 124, 'I-PROD': 67, 'B-CORP': 126, 'I-LOC': 85, 'B-LOC': 162, 'I-CORP': 84}\n"
          ]
        },
        {
          "output_type": "display_data",
          "data": {
            "text/plain": [
              "<Figure size 360x360 with 1 Axes>"
            ],
            "image/png": "[encoded data removed]"
          },
          "metadata": {}
        }
      ],
      "source": [
        "tags = draw_labels(train_path, 'Train')\n",
        "draw_labels(dev_path, 'Dev')"
      ]
    },
    {
      "cell_type": "code",
      "execution_count": 9,
      "metadata": {
        "id": "7t8bGyE_j-Z9"
      },
      "outputs": [],
      "source": [
        "word_vector = pd.read_csv('glove.6B.300d.txt', sep=\" \", header=None,engine='c', quoting=csv.QUOTE_NONE, index_col=0)\n",
        "\n",
        "\n",
        "glove = {key: val.values for key, val in word_vector.T.items()}"
      ]
    },
    {
      "cell_type": "markdown",
      "metadata": {
        "id": "2iX4iIrD6ABH"
      },
      "source": [
        ""
      ]
    },
    {
      "cell_type": "code",
      "execution_count": 10,
      "metadata": {
        "id": "7oLt19yFQVwo"
      },
      "outputs": [],
      "source": [
        "def word2id_builder(word_dataset):\n",
        "  word2id_dict = {\"<UNK>\":0, \"<PAD>\":1}\n",
        "  id2word_dict = {0: \"<UNK>\",1: \"<PAD>\"}\n",
        "  # for sentence in word_dataset:\n",
        "  for i, word in enumerate(word_dataset):\n",
        "    if word not in word2id_dict:\n",
        "      id = len(word2id_dict)\n",
        "      word2id_dict[word ] = id\n",
        "      id2word_dict[id] = word\n",
        "  return word2id_dict, id2word_dict\n",
        "words = list(glove.keys())\n",
        "word2id_dict, id2word_dict = word2id_builder(words)"
      ]
    },
    {
      "cell_type": "code",
      "execution_count": 11,
      "metadata": {
        "colab": {
          "base_uri": "https://localhost:8080/"
        },
        "id": "VAXUTAuQxBJc",
        "outputId": "9b63825c-cca7-468c-bb45-1312380aabad"
      },
      "outputs": [
        {
          "output_type": "stream",
          "name": "stdout",
          "text": [
            "(400000, 300)\n",
            "300\n"
          ]
        }
      ],
      "source": [
        "weight_matrix = np.asarray(list(glove.values()), dtype=np.float32)\n",
        "vocab_size, emb_dim  = weight_matrix.shape\n",
        "\n",
        "# for <UNK> take avg of vectors\n",
        "average_vec = np.mean(weight_matrix, axis=0)\n",
        "weight_matrix = np.concatenate((average_vec.reshape(1, emb_dim), weight_matrix), axis = 0)\n",
        "# for <PAD> instert all zeros\n",
        "weight_matrix = np.concatenate((np.zeros((1, emb_dim)), weight_matrix), axis = 0)\n",
        "\n",
        "vocab_size  = weight_matrix.shape\n",
        "print(vocab_size)\n",
        "print(emb_dim)\n",
        "# weight_matrix.insert(0, )\n",
        "weights_matrix_torch = torch.tensor(weight_matrix, dtype=torch.float)"
      ]
    },
    {
      "cell_type": "code",
      "execution_count": 12,
      "metadata": {
        "id": "heKdcxfiHpDi"
      },
      "outputs": [],
      "source": [
        "tags = [\"<PAD>\",\"B-PER\", \"B-LOC\", \"B-GRP\", \"B-CORP\", \"B-PROD\", \"B-CW\", \"I-PER\", \"I-LOC\", \"I-GRP\", \"I-CORP\", \"I-PROD\", \"I-CW\", \"O\"]\n",
        "tag2id_dict = {key: value for value, key in enumerate(tags)}\n",
        "id2tag_dict = {value: key for value, key in enumerate(tags)}\n",
        "def tags2ids(labels: List[List]) -> List[List]:\n",
        "  return [[tag2id_dict[label] for label in label_sent] for label_sent in labels]\n",
        "def ids2tags(label_ids: List[List]) -> List[List]:\n",
        "  return [[id2tag_dict[id] for id in ids] for ids in label_ids]"
      ]
    },
    {
      "cell_type": "code",
      "source": [
        "def unk_checker(tokens, tags):\n",
        "    unk_tokens = []\n",
        "    unk_token_tags = []\n",
        "    \n",
        "    for (sent_w, sent_t) in zip(tokens, tags) :\n",
        "      for (w , t) in zip(sent_w, sent_t):\n",
        "        # print(w)\n",
        "        if not w in word2id_dict:\n",
        "          # sentence_word_vector.append(word2id_dict[\"<UNK>\"])\n",
        "          unk_tokens.append(w)\n",
        "          unk_token_tags.append(t)\n",
        "    return unk_tokens, unk_token_tags"
      ],
      "metadata": {
        "id": "j1tVBVFVyIAg"
      },
      "execution_count": 20,
      "outputs": []
    },
    {
      "cell_type": "code",
      "source": [
        "def merger_tags(counter):\n",
        "  counter_merged = {}\n",
        "  counter_merged['LOC'] = counter['I-LOC']+counter['B-LOC']\n",
        "  counter_merged['PER'] = counter['I-PER']+counter['B-PER']\n",
        "  counter_merged['PROD'] = counter['I-PROD']+counter['B-PROD']\n",
        "  counter_merged['CORP'] = counter['I-CORP']+counter['B-CORP']\n",
        "  counter_merged['GRP'] = counter['I-GRP'] +counter['B-GRP']\n",
        "  counter_merged['CW'] = counter['I-CW'] +counter['B-CW']\n",
        "  counter_merged['O'] = counter['O']\n",
        "  counter_merged = dict(sorted(counter_merged.items(), key=lambda item: item[1]))\n",
        "  return counter_merged"
      ],
      "metadata": {
        "id": "CArT5MUl6O7Z"
      },
      "execution_count": 22,
      "outputs": []
    },
    {
      "cell_type": "code",
      "source": [
        "def plot_unk_distr(data):\n",
        "  tokens, labels = data\n",
        "  unk_tokens, unk_token_tags = unk_checker(tokens, labels )\n",
        "  counter_all = Counter(x for xs in labels for x in set(xs))\n",
        "  counter = Counter(x for x in (unk_token_tags))\n",
        "\n",
        "  counter_merged = merger_tags(counter)\n",
        "  counter_merged_all = merger_tags(counter_all)\n",
        "\n",
        "\n",
        "  sizes = list(counter_merged.values())\n",
        "  classes = list(counter_merged.keys())\n",
        "  sizes_all = []\n",
        "  for c in classes:\n",
        "    sizes_all.append(counter_merged_all[c])\n",
        "\n",
        "  fig = plt.figure(figsize=(5, 5))\n",
        "  fig, ax = plt.subplots()\n",
        "  width = 1  # the width of the bars\n",
        "\n",
        "  bars = ax.barh(classes, sizes, width, color =sns.color_palette(\"husl\", 8)) #the green bar has the smallest width as it is contained within the other two\n",
        "  bars_all = ax.barh(classes, sizes_all,width, edgecolor =sns.color_palette(\"husl\", 8), fill=False) #the blue bar has a greater width than the green bar\n",
        "\n",
        "  ax.set_ylabel('tags')\n",
        "  ax.set_title('unknown tokens by tags')\n",
        "  ax.bar_label(bars, padding=3)\n",
        "\n",
        "  fig.tight_layout()\n",
        "  plt.show()\n"
      ],
      "metadata": {
        "id": "QIFuqgMU0V1Z"
      },
      "execution_count": 31,
      "outputs": []
    },
    {
      "cell_type": "code",
      "source": [
        "\n",
        "# train_path\n",
        "plot_unk_distr(read_dataset(dev_path))"
      ],
      "metadata": {
        "colab": {
          "base_uri": "https://localhost:8080/",
          "height": 314
        },
        "id": "R0g-Yzs_CeJ4",
        "outputId": "b4fe3a46-05d4-4ffc-d3f2-414a0be4b8ea"
      },
      "execution_count": 32,
      "outputs": [
        {
          "output_type": "display_data",
          "data": {
            "text/plain": [
              "<Figure size 360x360 with 0 Axes>"
            ]
          },
          "metadata": {}
        },
        {
          "output_type": "display_data",
          "data": {
            "text/plain": [
              "<Figure size 432x288 with 1 Axes>"
            ],
            "image/png": "[encoded data removed]"
          },
          "metadata": {
            "needs_background": "light"
          }
        }
      ]
    },
    {
      "cell_type": "code",
      "execution_count": 33,
      "metadata": {
        "id": "Amy4Fk1vkK7c"
      },
      "outputs": [],
      "source": [
        "#preprocessong function\n",
        "def sentence2vector(sentenceList: List) -> List:    \n",
        "    sentence_word_vector = [word2id_dict[w] if w in word2id_dict else word2id_dict[\"<UNK>\"] for w in sentenceList ]\n",
        "    return sentence_word_vector\n"
      ]
    },
    {
      "cell_type": "code",
      "execution_count": 34,
      "metadata": {
        "id": "oWTbovCHlmRc"
      },
      "outputs": [],
      "source": [
        "#Dataset class\n",
        "class NERDataset(torch.utils.data.Dataset):\n",
        "\n",
        "    def __init__(self, dataset_path: str):\n",
        "        self.sentences = []\n",
        "        self.labels = []\n",
        "        self.build(dataset_path)\n",
        "\n",
        "    def build(self, dataset_path: str) -> None:\n",
        "\n",
        "        tokens, labels = read_dataset(dataset_path)\n",
        "        self.sentences = [sentence2vector(sentence) for sentence in tokens]\n",
        "\n",
        "        self.labels = tags2ids(labels)\n",
        "\n",
        "    def batch_gen(self, batch_size, shuffle=False, dropout=True):\n",
        "      n_samples = len(self.sentences)\n",
        "      if shuffle:\n",
        "          order = np.random.permutation(n_samples)\n",
        "      else:\n",
        "          order = np.arange(n_samples)\n",
        "\n",
        "      n_batches = n_samples // batch_size\n",
        "      lengths = []\n",
        "      for n in range(n_batches):\n",
        "        max_len_token = 0\n",
        "        for sent in self.labels[n*batch_size: (n+1)*batch_size]:\n",
        "          max_len_token = max(max_len_token, len(sent))\n",
        "\n",
        "        token_batch = np.zeros((batch_size, max_len_token), dtype=np.int32)\n",
        "        tag_batch = np.zeros((batch_size, max_len_token), dtype=np.int32)\n",
        "        lengths.append(max_len_token)\n",
        "        for i in order[n*batch_size: (n+1)*batch_size]:\n",
        "          to_fill = max_len_token - len(self.sentences[i])\n",
        "\n",
        "          token_batch[i-n*batch_size] = np.pad(self.sentences[i], (0, to_fill), 'constant', constant_values=(word2id_dict['<PAD>']))\n",
        "          tag_batch[i-n*batch_size] =np.pad(self.labels[i], (0, to_fill), 'constant', constant_values=(tag2id_dict[\"<PAD>\"]))\n",
        "        yield lengths, token_batch, tag_batch, "
      ]
    },
    {
      "cell_type": "markdown",
      "metadata": {
        "id": "ilHsTdssu460"
      },
      "source": [
        "#Model"
      ]
    },
    {
      "cell_type": "code",
      "execution_count": 35,
      "metadata": {
        "id": "IE6H1HNq19w4"
      },
      "outputs": [],
      "source": [
        "class NER(nn.Module):\n",
        "    def __init__(self, weight_matrix: torch.Tensor, hparams, device):\n",
        "        super(NER, self).__init__()\n",
        "        self.device = device\n",
        "\n",
        "        self.embedding = nn.Embedding.from_pretrained(weight_matrix)\n",
        "        self.embedding.requires_grad = False\n",
        "        self.stacked = hparams.stacked\n",
        "\n",
        "        _, embedding_dim = weight_matrix.shape\n",
        "\n",
        "        num_dirs = 1\n",
        "        if hparams.bi_dir:\n",
        "          num_dirs = 2\n",
        "        \n",
        "        self.lstm = nn.LSTM(\n",
        "            input_size=embedding_dim,\n",
        "            hidden_size=hparams.hidden_size,\n",
        "            num_layers=hparams.num_layers,\n",
        "            batch_first=True,\n",
        "            bidirectional = hparams.bi_dir\n",
        "        )\n",
        "\n",
        "        if hparams.stacked:\n",
        "          self.lstm2 = nn.LSTM(\n",
        "              input_size=hparams.hidden_size*num_dirs,\n",
        "              hidden_size=hparams.hidden_size,\n",
        "              num_layers=hparams.num_layers,\n",
        "              batch_first=True,\n",
        "              bidirectional = hparams.bi_dir\n",
        "          )\n",
        "\n",
        "        self.dropout = nn.Dropout(hparams.dropout)\n",
        "        self.hidden_to_tag = nn.Linear(hparams.hidden_size*num_dirs , 14)\n",
        "    def init_hidden(self, size):\n",
        "        # the weights's shape (nb_layers, batch_size, nb_lstm_units)\n",
        "        num_dirs = 1\n",
        "        if hparams.bi_dir:\n",
        "          num_dirs = 2\n",
        "        hidden_a = Variable(torch.randn(hparams.num_layers*num_dirs, size, hparams.hidden_size))\n",
        "        hidden_b = Variable(torch.randn(hparams.num_layers*num_dirs, size, hparams.hidden_size))\n",
        "\n",
        "        return (hidden_a, hidden_b)\n",
        "\n",
        "    def forward(self, X: torch.Tensor, X_lengths: torch.Tensor):\n",
        "        batch_size, seq_len = X.shape\n",
        "        #init weights\n",
        "        (h_0, c_0) = self.init_hidden(X.shape[0])\n",
        "        (h_2, c_2) = self.init_hidden(X.shape[0])\n",
        "  \n",
        "        # shape(batch_size, seq_len, embedding_dim)\n",
        "        embedded = self.embedding(X)\n",
        "        # shape (batch_size, seq_len, numb_lstm_units)\n",
        "        X_lengths = torch.ones(batch_size, dtype=torch.int32)*X_lengths\n",
        "        # packing\n",
        "        packed_embedded = torch.nn.utils.rnn.pack_padded_sequence(embedded, X_lengths, batch_first=True)\n",
        "        #LSTM\n",
        "        packed_out, (h_n, c_n)  = self.lstm(packed_embedded,  (h_0, c_0))\n",
        "        #if 2 LSTMs stacked\n",
        "        if self.stacked:\n",
        "          packed_out, (h_n, c_n)  = self.lstm2(packed_out,  (h_2, c_2))\n",
        "\n",
        "        # unpacking\n",
        "        X, _ = torch.nn.utils.rnn.pad_packed_sequence(packed_out, batch_first=True)\n",
        "\n",
        "        # shape change for FC layer (batch_size * seq_len, numb_lstm_units) \n",
        "        X = X.contiguous()\n",
        "        X = X.view(-1, X.shape[2])\n",
        "        # dropout\n",
        "        X = self.dropout(X)\n",
        "        # FC\n",
        "        X = self.hidden_to_tag(X)\n",
        "\n",
        "        # shape (batch_size, seq_len, 14)\n",
        "        X = F.log_softmax(X, dim=1)\n",
        "\n",
        "        X = X.view(batch_size, seq_len, 14)\n",
        "        Y_hat = X\n",
        "\n",
        "        return Y_hat\n",
        "\n",
        "    def neglogloss(self, Y_hat, Y):\n",
        "        loss_f = torch.nn.NLLLoss()\n",
        "        # flattening shapes \n",
        "        Y_hat = Y_hat.view(-1, Y_hat.shape[2])\n",
        "        Y = Y.view(-1)\n",
        "        loss = loss_f(Y_hat, Y)\n",
        "        # removing PAD tokens (tag2id('<PAD>') = 0)\n",
        "        mask = (Y > 0).float()\n",
        "        loss = loss * mask\n",
        "        return torch.sum(loss) / torch.sum(mask)\n",
        "        "
      ]
    },
    {
      "cell_type": "markdown",
      "metadata": {
        "id": "v8TU7uoBu7cv"
      },
      "source": [
        "#Training"
      ]
    },
    {
      "cell_type": "code",
      "execution_count": 45,
      "metadata": {
        "id": "aqi859BupcZX"
      },
      "outputs": [],
      "source": [
        "def train(device, model: nn.Module, n_epochs: int, optimizer: torch.optim.Optimizer):\n",
        "    epoch_loss = list()\n",
        "    val_epoch_loss = list()\n",
        "    f1_epoch = []\n",
        "    project_folder = '/content/nlp2022-hw1'\n",
        "    state_dict_path = os.path.join( project_folder, 'model' )\n",
        "    early_stopping = True\n",
        "    early_stopping_mode = 'loss'\n",
        "    early_stopping_patience = 2\n",
        "    patience_counter = 0\n",
        "    \n",
        "    for epoch in range(n_epochs):\n",
        "        print('Epoch {}'.format(epoch))\n",
        "        training_generator = train_dataset.batch_gen(batch_size )\n",
        "        validation_generator = val_dataset.batch_gen(batch_size )\n",
        "\n",
        "        losses = list()\n",
        "        val_losses = []\n",
        "\n",
        "        model.train()\n",
        "        for length, x_sample, y_real in training_generator:\n",
        "            x_sample = torch.tensor(x_sample)\n",
        "            y_real = torch.LongTensor(y_real)\n",
        "         \n",
        "            x_sample = x_sample.to(device)\n",
        "            y_real = y_real.to(device)\n",
        "\n",
        "                  #compute loss and make an optimization step\n",
        "            optimizer.zero_grad()\n",
        "            Y_hat = model.forward(x_sample, length[-1])\n",
        "            loss = model.neglogloss(Y_hat, y_real)\n",
        "            losses.append(loss)\n",
        "            loss.backward() #calculates the loss of the loss function\n",
        "            optimizer.step()\n",
        "        epoch_loss.append(torch.mean(torch.tensor(losses)))\n",
        "        print('loss {:.3f} \\n'.format( epoch_loss[-1]))\n",
        "\n",
        "        #Validation \n",
        "        model.eval()\n",
        "        f1_batch = []\n",
        "        for length, x_val, y_real_val in validation_generator: \n",
        "            x_val = torch.tensor(x_val)\n",
        "            y_real_val = torch.LongTensor(y_real_val)\n",
        "            x_val = x_val.to(device)\n",
        "            y_real_val = y_real_val.to(device)\n",
        "            y_hat_val = model.forward(x_val, length[-1])\n",
        "            val_loss = model.neglogloss(y_hat_val, y_real_val)\n",
        "            val_losses.append(val_loss.item())\n",
        "            # f1_batch.append(eval_accuracy(vector2ids(y_hat_val), y_real_val.tolist()))\n",
        "        # f1_epoch.append(f1_batch)\n",
        "        val_epoch_loss.append(torch.mean(torch.tensor(val_losses)))\n",
        "        print('val loss {:.3f} \\n'.format( val_epoch_loss[-1]))\n",
        "\n",
        "        \n",
        "        # to stop training before overfitting\n",
        "        if early_stopping:\n",
        "            # choose metric to monitor\n",
        "            stop = early_stopping_mode == 'loss' and epoch > 0 and val_epoch_loss[-1] > val_epoch_loss[-2]\n",
        "            # set patience\n",
        "            if stop:\n",
        "                if patience_counter >= early_stopping_patience:\n",
        "                    # print('Early stop.')\n",
        "                    break\n",
        "                else:\n",
        "                    patience_counter += 1\n",
        "                    print(f'-- Patience {patience_counter} out of {early_stopping_patience}.\\n')\n",
        "\n",
        "        torch.save(model.state_dict(), os.path.join(state_dict_path, 'state_{}.pt'.format(epoch)))\n",
        "    return epoch_loss, val_epoch_loss\n"
      ]
    },
    {
      "cell_type": "markdown",
      "metadata": {
        "id": "EnnNDbvqxfgX"
      },
      "source": [
        "#Predict and evaluate"
      ]
    },
    {
      "cell_type": "code",
      "execution_count": 37,
      "metadata": {
        "id": "NiTmr3sw_i4e"
      },
      "outputs": [],
      "source": [
        "def vector2ids(out):\n",
        "  tags_per_batch = [[torch.argmax(tag_dist).item() for tag_dist in sentence ] for sentence in out]\n",
        "  return ids2tags(tags_per_batch) #store all tags per each sentences"
      ]
    },
    {
      "cell_type": "code",
      "execution_count": 38,
      "metadata": {
        "id": "0GUxD1ayyENE"
      },
      "outputs": [],
      "source": [
        "def predict(tokens): \n",
        "    predictions = []\n",
        "    tokens_vectors = [sentence2vector(sentence) for sentence in tokens ]\n",
        "    #convert all sentences into vectors\n",
        "\n",
        "    with torch.no_grad():\n",
        "        for j, sentence in enumerate(tokens_vectors): #for each sentence\n",
        "            \n",
        "            d_tensor = torch.unsqueeze(torch.as_tensor(sentence), 0)\n",
        "            out = trial_model(d_tensor, d_tensor.shape[1]).squeeze()\n",
        "            tags_per_sent = [ torch.argmax(tag_dist).item() for tag_dist in out ]\n",
        "\n",
        "            predictions.append(tags_per_sent) #store all tags per each sentences\n",
        "\n",
        "    return ids2tags(predictions)\n",
        "\n",
        "def eval_accuracy(predictions_s, labels_s, verbose= False):\n",
        "    labels_s_id = ids2tags(labels_s)\n",
        "\n",
        "\n",
        "    acc = accuracy_score(flatten(labels_s_id), flatten(predictions_s))\n",
        "    f = f1_score(labels_s_id, predictions_s, average=\"macro\")\n",
        "    if verbose:\n",
        "      print(f\"# accuracy: {acc:.4f}\")\n",
        "      print(f\"# f1: {f:.4f}\")\n",
        "    return f"
      ]
    },
    {
      "cell_type": "code",
      "execution_count": 38,
      "metadata": {
        "id": "DpWUGQPHx08s"
      },
      "outputs": [],
      "source": [
        ""
      ]
    },
    {
      "cell_type": "code",
      "execution_count": 39,
      "metadata": {
        "id": "2G_DUskUx3vT"
      },
      "outputs": [],
      "source": [
        "# confusion matrix with heat map\n",
        "def flatten(xss):\n",
        "    return [x for xs in xss for x in xs]\n",
        "def plots(Y_true, Y_pred):\n",
        "  cm = sklearn.metrics.confusion_matrix(flatten(Y_true), flatten(Y_pred))\n",
        "  # class_names = list(tag2id_dict.keys())[1:]\n",
        "  cmn = cm.astype('float') / cm.sum(axis=1)[:, np.newaxis]\n",
        "  fig, ax = plt.subplots(figsize=(10,10))\n",
        "  sns.heatmap(cmn, annot=True, fmt='.2f', xticklabels=tags, yticklabels=tags)\n",
        "  plt.ylabel('Actual')\n",
        "  plt.xlabel('Predicted')\n",
        "  plt.show(block=False)"
      ]
    },
    {
      "cell_type": "markdown",
      "metadata": {
        "id": "SgyxJQDDS7lL"
      },
      "source": [
        "#Experiments\n"
      ]
    },
    {
      "cell_type": "code",
      "execution_count": 40,
      "metadata": {
        "id": "Bzun9M3y3API"
      },
      "outputs": [],
      "source": [
        "tokens, labels = read_dataset(train_path)\n",
        "\n",
        "tokens, labels = read_dataset(dev_path)\n"
      ]
    },
    {
      "cell_type": "code",
      "execution_count": 41,
      "metadata": {
        "id": "N-sNR_KHpj1U"
      },
      "outputs": [],
      "source": [
        "device = 'cuda' if torch.cuda.is_available() else 'cpu'\n",
        "\n",
        "train_dataset = NERDataset(train_path)\n",
        "val_dataset = NERDataset(dev_path)"
      ]
    },
    {
      "cell_type": "code",
      "execution_count": 42,
      "metadata": {
        "id": "XWR4-W5J58LH"
      },
      "outputs": [],
      "source": [
        "\n",
        "class HParams():\n",
        "  bi_dir = True\n",
        "  stacked = True\n",
        "  dropout = 0.4 \n",
        "  hidden_size = 512\n",
        "  num_layers = 1 \n",
        "  \n",
        "hparams = HParams()\n",
        "batch_size = 32 \n",
        "\n",
        "patience = 3\n",
        "epochs = 50 \n",
        "\n",
        "learning_rate = 1e-3\n",
        "weight_decay = 1e-6\n"
      ]
    },
    {
      "cell_type": "code",
      "execution_count": 43,
      "metadata": {
        "id": "z_X5xJtY5mnp"
      },
      "outputs": [],
      "source": [
        "trial_model = NER(weights_matrix_torch, hparams, device)\n",
        "optimizer = torch.optim.Adam(trial_model.parameters(), lr=learning_rate)#, weight_decay = weight_decay)"
      ]
    },
    {
      "cell_type": "code",
      "execution_count": 46,
      "metadata": {
        "colab": {
          "base_uri": "https://localhost:8080/"
        },
        "id": "osidwrxHpwhY",
        "outputId": "3b1afc60-cca8-4cf6-eec0-f5910fba5fd8"
      },
      "outputs": [
        {
          "output_type": "stream",
          "name": "stdout",
          "text": [
            "Epoch 0\n",
            "loss 0.133 \n",
            "\n",
            "val loss 0.133 \n",
            "\n",
            "Epoch 1\n",
            "loss 0.097 \n",
            "\n",
            "val loss 0.123 \n",
            "\n",
            "Epoch 2\n",
            "loss 0.071 \n",
            "\n",
            "val loss 0.128 \n",
            "\n",
            "-- Patience 1 out of 2.\n",
            "\n",
            "Epoch 3\n",
            "loss 0.048 \n",
            "\n",
            "val loss 0.136 \n",
            "\n",
            "-- Patience 2 out of 2.\n",
            "\n",
            "Epoch 4\n",
            "loss 0.034 \n",
            "\n",
            "val loss 0.144 \n",
            "\n"
          ]
        }
      ],
      "source": [
        "epoch_loss, val_epoch_loss = train(device, trial_model, n_epochs = epochs, optimizer = optimizer)"
      ]
    },
    {
      "cell_type": "code",
      "execution_count": 47,
      "metadata": {
        "colab": {
          "base_uri": "https://localhost:8080/",
          "height": 300
        },
        "id": "60GWD4xilg4e",
        "outputId": "a27f96e6-ad6f-48a7-ada2-ce0db936ecea"
      },
      "outputs": [
        {
          "output_type": "execute_result",
          "data": {
            "text/plain": [
              "[<matplotlib.lines.Line2D at 0x7fc48ad29e50>,\n",
              " <matplotlib.lines.Line2D at 0x7fc48ad29c10>]"
            ]
          },
          "metadata": {},
          "execution_count": 47
        },
        {
          "output_type": "display_data",
          "data": {
            "text/plain": [
              "<Figure size 432x288 with 1 Axes>"
            ],
            "image/png": "[encoded data removed]"
          },
          "metadata": {
            "needs_background": "light"
          }
        }
      ],
      "source": [
        "plt.plot(np.array(epoch_loss), 'r', np.array(val_epoch_loss), 'b')"
      ]
    },
    {
      "cell_type": "code",
      "execution_count": 51,
      "metadata": {
        "colab": {
          "base_uri": "https://localhost:8080/",
          "height": 758
        },
        "id": "x46HjU8lyNrQ",
        "outputId": "5706580c-8685-453b-ee65-824f2f0795bf"
      },
      "outputs": [
        {
          "output_type": "stream",
          "name": "stderr",
          "text": [
            "/usr/local/lib/python3.7/dist-packages/seqeval/metrics/sequence_labeling.py:171: UserWarning: <PAD> seems not to be NE tag.\n",
            "  warnings.warn('{} seems not to be NE tag.'.format(chunk))\n",
            "/usr/local/lib/python3.7/dist-packages/ipykernel_launcher.py:7: RuntimeWarning: invalid value encountered in true_divide\n",
            "  import sys\n"
          ]
        },
        {
          "output_type": "stream",
          "name": "stdout",
          "text": [
            "# accuracy: 0.9326\n",
            "# f1: 0.5551\n"
          ]
        },
        {
          "output_type": "display_data",
          "data": {
            "text/plain": [
              "<Figure size 720x720 with 2 Axes>"
            ],
            "image/png": "[encoded data removed]"
          },
          "metadata": {
            "needs_background": "light"
          }
        }
      ],
      "source": [
        "# val_dataset\n",
        "out = predict(tokens)\n",
        "eval_accuracy(out, val_dataset.labels, verbose =True)\n",
        "plots(labels, out)"
      ]
    }
  ],
  "metadata": {
    "colab": {
      "collapsed_sections": [
        "ilHsTdssu460"
      ],
      "name": "NLP_HW1_clean.ipynb",
      "provenance": []
    },
    "kernelspec": {
      "display_name": "Python 3",
      "name": "python3"
    },
    "language_info": {
      "name": "python"
    }
  },
  "nbformat": 4,
  "nbformat_minor": 0
}