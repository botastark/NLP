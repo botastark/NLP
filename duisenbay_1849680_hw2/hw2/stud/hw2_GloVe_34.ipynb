{
  "nbformat": 4,
  "nbformat_minor": 0,
  "metadata": {
    "colab": {
      "provenance": [],
      "collapsed_sections": [
        "UHXkeD6IzvoT"
      ]
    },
    "kernelspec": {
      "name": "python3",
      "display_name": "Python 3"
    },
    "language_info": {
      "name": "python"
    },
    "widgets": {
      "application/vnd.jupyter.widget-state+json": {
        "c82d06f478b84e379b32ad9442b3531b": {
          "model_module": "@jupyter-widgets/output",
          "model_name": "OutputModel",
          "model_module_version": "1.0.0",
          "state": {
            "_dom_classes": [],
            "_model_module": "@jupyter-widgets/output",
            "_model_module_version": "1.0.0",
            "_model_name": "OutputModel",
            "_view_count": null,
            "_view_module": "@jupyter-widgets/output",
            "_view_module_version": "1.0.0",
            "_view_name": "OutputView",
            "layout": "IPY_MODEL_cf018cf82d45479aa2fae46afdaeabe4",
            "msg_id": "",
            "outputs": [
              {
                "output_type": "display_data",
                "data": {
                  "text/plain": "Loading dataset \u001b[38;2;114;156;31m━━━━━━━━━━━━━━━━━━━━━━━━━━━━━━━━━━━━━━━━\u001b[0m \u001b[35m100%\u001b[0m \u001b[36m0:00:00\u001b[0m\n",
                  "text/html": "<pre style=\"white-space:pre;overflow-x:auto;line-height:normal;font-family:Menlo,'DejaVu Sans Mono',consolas,'Courier New',monospace\">Loading dataset <span style=\"color: #729c1f; text-decoration-color: #729c1f\">━━━━━━━━━━━━━━━━━━━━━━━━━━━━━━━━━━━━━━━━</span> <span style=\"color: #800080; text-decoration-color: #800080\">100%</span> <span style=\"color: #008080; text-decoration-color: #008080\">0:00:00</span>\n</pre>\n"
                },
                "metadata": {}
              }
            ]
          }
        },
        "cf018cf82d45479aa2fae46afdaeabe4": {
          "model_module": "@jupyter-widgets/base",
          "model_name": "LayoutModel",
          "model_module_version": "1.2.0",
          "state": {
            "_model_module": "@jupyter-widgets/base",
            "_model_module_version": "1.2.0",
            "_model_name": "LayoutModel",
            "_view_count": null,
            "_view_module": "@jupyter-widgets/base",
            "_view_module_version": "1.2.0",
            "_view_name": "LayoutView",
            "align_content": null,
            "align_items": null,
            "align_self": null,
            "border": null,
            "bottom": null,
            "display": null,
            "flex": null,
            "flex_flow": null,
            "grid_area": null,
            "grid_auto_columns": null,
            "grid_auto_flow": null,
            "grid_auto_rows": null,
            "grid_column": null,
            "grid_gap": null,
            "grid_row": null,
            "grid_template_areas": null,
            "grid_template_columns": null,
            "grid_template_rows": null,
            "height": null,
            "justify_content": null,
            "justify_items": null,
            "left": null,
            "margin": null,
            "max_height": null,
            "max_width": null,
            "min_height": null,
            "min_width": null,
            "object_fit": null,
            "object_position": null,
            "order": null,
            "overflow": null,
            "overflow_x": null,
            "overflow_y": null,
            "padding": null,
            "right": null,
            "top": null,
            "visibility": null,
            "width": null
          }
        },
        "e5c48f24c16c4aa893253fcbb95d29cd": {
          "model_module": "@jupyter-widgets/output",
          "model_name": "OutputModel",
          "model_module_version": "1.0.0",
          "state": {
            "_dom_classes": [],
            "_model_module": "@jupyter-widgets/output",
            "_model_module_version": "1.0.0",
            "_model_name": "OutputModel",
            "_view_count": null,
            "_view_module": "@jupyter-widgets/output",
            "_view_module_version": "1.0.0",
            "_view_name": "OutputView",
            "layout": "IPY_MODEL_b3c4f983161d45cda1ccc07340460e2e",
            "msg_id": "",
            "outputs": [
              {
                "output_type": "display_data",
                "data": {
                  "text/plain": "Loading dataset \u001b[38;2;114;156;31m━━━━━━━━━━━━━━━━━━━━━━━━━━━━━━━━━━━━━━━━\u001b[0m \u001b[35m100%\u001b[0m \u001b[36m0:00:00\u001b[0m\n",
                  "text/html": "<pre style=\"white-space:pre;overflow-x:auto;line-height:normal;font-family:Menlo,'DejaVu Sans Mono',consolas,'Courier New',monospace\">Loading dataset <span style=\"color: #729c1f; text-decoration-color: #729c1f\">━━━━━━━━━━━━━━━━━━━━━━━━━━━━━━━━━━━━━━━━</span> <span style=\"color: #800080; text-decoration-color: #800080\">100%</span> <span style=\"color: #008080; text-decoration-color: #008080\">0:00:00</span>\n</pre>\n"
                },
                "metadata": {}
              }
            ]
          }
        },
        "b3c4f983161d45cda1ccc07340460e2e": {
          "model_module": "@jupyter-widgets/base",
          "model_name": "LayoutModel",
          "model_module_version": "1.2.0",
          "state": {
            "_model_module": "@jupyter-widgets/base",
            "_model_module_version": "1.2.0",
            "_model_name": "LayoutModel",
            "_view_count": null,
            "_view_module": "@jupyter-widgets/base",
            "_view_module_version": "1.2.0",
            "_view_name": "LayoutView",
            "align_content": null,
            "align_items": null,
            "align_self": null,
            "border": null,
            "bottom": null,
            "display": null,
            "flex": null,
            "flex_flow": null,
            "grid_area": null,
            "grid_auto_columns": null,
            "grid_auto_flow": null,
            "grid_auto_rows": null,
            "grid_column": null,
            "grid_gap": null,
            "grid_row": null,
            "grid_template_areas": null,
            "grid_template_columns": null,
            "grid_template_rows": null,
            "height": null,
            "justify_content": null,
            "justify_items": null,
            "left": null,
            "margin": null,
            "max_height": null,
            "max_width": null,
            "min_height": null,
            "min_width": null,
            "object_fit": null,
            "object_position": null,
            "order": null,
            "overflow": null,
            "overflow_x": null,
            "overflow_y": null,
            "padding": null,
            "right": null,
            "top": null,
            "visibility": null,
            "width": null
          }
        },
        "aa84d0bccbac41a0899153cb933c2cf1": {
          "model_module": "@jupyter-widgets/output",
          "model_name": "OutputModel",
          "model_module_version": "1.0.0",
          "state": {
            "_dom_classes": [],
            "_model_module": "@jupyter-widgets/output",
            "_model_module_version": "1.0.0",
            "_model_name": "OutputModel",
            "_view_count": null,
            "_view_module": "@jupyter-widgets/output",
            "_view_module_version": "1.0.0",
            "_view_name": "OutputView",
            "layout": "IPY_MODEL_8a393f62d5924fbdb5bf999a4b077feb",
            "msg_id": "",
            "outputs": [
              {
                "output_type": "display_data",
                "data": {
                  "text/plain": "training \u001b[38;2;249;38;114m━━━━━━━━━━━━━━━━━━━━━━━━━━━━━━━━━━━━\u001b[0m\u001b[38;5;237m╺\u001b[0m\u001b[38;5;237m━━━\u001b[0m \u001b[35m 90%\u001b[0m \u001b[36m0:00:09\u001b[0m\n",
                  "text/html": "<pre style=\"white-space:pre;overflow-x:auto;line-height:normal;font-family:Menlo,'DejaVu Sans Mono',consolas,'Courier New',monospace\">training <span style=\"color: #f92672; text-decoration-color: #f92672\">━━━━━━━━━━━━━━━━━━━━━━━━━━━━━━━━━━━━</span><span style=\"color: #3a3a3a; text-decoration-color: #3a3a3a\">╺━━━</span> <span style=\"color: #800080; text-decoration-color: #800080\"> 90%</span> <span style=\"color: #008080; text-decoration-color: #008080\">0:00:09</span>\n</pre>\n"
                },
                "metadata": {}
              }
            ]
          }
        },
        "8a393f62d5924fbdb5bf999a4b077feb": {
          "model_module": "@jupyter-widgets/base",
          "model_name": "LayoutModel",
          "model_module_version": "1.2.0",
          "state": {
            "_model_module": "@jupyter-widgets/base",
            "_model_module_version": "1.2.0",
            "_model_name": "LayoutModel",
            "_view_count": null,
            "_view_module": "@jupyter-widgets/base",
            "_view_module_version": "1.2.0",
            "_view_name": "LayoutView",
            "align_content": null,
            "align_items": null,
            "align_self": null,
            "border": null,
            "bottom": null,
            "display": null,
            "flex": null,
            "flex_flow": null,
            "grid_area": null,
            "grid_auto_columns": null,
            "grid_auto_flow": null,
            "grid_auto_rows": null,
            "grid_column": null,
            "grid_gap": null,
            "grid_row": null,
            "grid_template_areas": null,
            "grid_template_columns": null,
            "grid_template_rows": null,
            "height": null,
            "justify_content": null,
            "justify_items": null,
            "left": null,
            "margin": null,
            "max_height": null,
            "max_width": null,
            "min_height": null,
            "min_width": null,
            "object_fit": null,
            "object_position": null,
            "order": null,
            "overflow": null,
            "overflow_x": null,
            "overflow_y": null,
            "padding": null,
            "right": null,
            "top": null,
            "visibility": null,
            "width": null
          }
        },
        "869c382fd3144fda89240896fc40577f": {
          "model_module": "@jupyter-widgets/output",
          "model_name": "OutputModel",
          "model_module_version": "1.0.0",
          "state": {
            "_dom_classes": [],
            "_model_module": "@jupyter-widgets/output",
            "_model_module_version": "1.0.0",
            "_model_name": "OutputModel",
            "_view_count": null,
            "_view_module": "@jupyter-widgets/output",
            "_view_module_version": "1.0.0",
            "_view_name": "OutputView",
            "layout": "IPY_MODEL_4e5fe529e65a42dabd2bbd13fd5f490c",
            "msg_id": "",
            "outputs": [
              {
                "output_type": "display_data",
                "data": {
                  "text/plain": "Predicting \u001b[38;2;114;156;31m━━━━━━━━━━━━━━━━━━━━━━━━━━━━━━━━━━━━━━━━\u001b[0m \u001b[35m100%\u001b[0m \u001b[36m0:00:00\u001b[0m\n",
                  "text/html": "<pre style=\"white-space:pre;overflow-x:auto;line-height:normal;font-family:Menlo,'DejaVu Sans Mono',consolas,'Courier New',monospace\">Predicting <span style=\"color: #729c1f; text-decoration-color: #729c1f\">━━━━━━━━━━━━━━━━━━━━━━━━━━━━━━━━━━━━━━━━</span> <span style=\"color: #800080; text-decoration-color: #800080\">100%</span> <span style=\"color: #008080; text-decoration-color: #008080\">0:00:00</span>\n</pre>\n"
                },
                "metadata": {}
              }
            ]
          }
        },
        "4e5fe529e65a42dabd2bbd13fd5f490c": {
          "model_module": "@jupyter-widgets/base",
          "model_name": "LayoutModel",
          "model_module_version": "1.2.0",
          "state": {
            "_model_module": "@jupyter-widgets/base",
            "_model_module_version": "1.2.0",
            "_model_name": "LayoutModel",
            "_view_count": null,
            "_view_module": "@jupyter-widgets/base",
            "_view_module_version": "1.2.0",
            "_view_name": "LayoutView",
            "align_content": null,
            "align_items": null,
            "align_self": null,
            "border": null,
            "bottom": null,
            "display": null,
            "flex": null,
            "flex_flow": null,
            "grid_area": null,
            "grid_auto_columns": null,
            "grid_auto_flow": null,
            "grid_auto_rows": null,
            "grid_column": null,
            "grid_gap": null,
            "grid_row": null,
            "grid_template_areas": null,
            "grid_template_columns": null,
            "grid_template_rows": null,
            "height": null,
            "justify_content": null,
            "justify_items": null,
            "left": null,
            "margin": null,
            "max_height": null,
            "max_width": null,
            "min_height": null,
            "min_width": null,
            "object_fit": null,
            "object_position": null,
            "order": null,
            "overflow": null,
            "overflow_x": null,
            "overflow_y": null,
            "padding": null,
            "right": null,
            "top": null,
            "visibility": null,
            "width": null
          }
        }
      }
    },
    "accelerator": "GPU",
    "gpuClass": "standard"
  },
  "cells": [
    {
      "cell_type": "markdown",
      "source": [
        "#Tasks\n",
        "The mouse ate cheese disgrafully with a mouth full of blood\n",
        "1. Predicate identification (find the verb): ate\n",
        "2. associate the predicate with meaning: ate-> eat\n",
        "3. identify arguments: mouse, cheese\n",
        "4. argument classification: mouse - agent, cheese - patient\n"
      ],
      "metadata": {
        "id": "1p_ZnilGjjYr"
      }
    },
    {
      "cell_type": "markdown",
      "source": [
        "# Downlaods, installs and imports\n",
        "\n"
      ],
      "metadata": {
        "id": "KcH41XTUUald"
      }
    },
    {
      "cell_type": "code",
      "source": [
        "# !pip install Flask==2.0.3\n",
        "# !pip install requests==2.27.1\n",
        "# !pip install scikit-learn==1.0.2\n",
        "# !pip install numpy==1.21.5\n",
        "# !pip install tqdm==4.63.0\n",
        "# # !pip install torch==1.9.0\n",
        "!pip install rich==12.0.0\n"
      ],
      "metadata": {
        "colab": {
          "base_uri": "https://localhost:8080/"
        },
        "id": "_L4Wo59GTCzl",
        "outputId": "f3e56fa0-8cb0-4701-baa5-1f01d706c414"
      },
      "execution_count": 1,
      "outputs": [
        {
          "output_type": "stream",
          "name": "stdout",
          "text": [
            "Looking in indexes: https://pypi.org/simple, https://us-python.pkg.dev/colab-wheels/public/simple/\n",
            "Collecting rich==12.0.0\n",
            "  Downloading rich-12.0.0-py3-none-any.whl (224 kB)\n",
            "\u001b[K     |████████████████████████████████| 224 kB 9.8 MB/s \n",
            "\u001b[?25hCollecting commonmark<0.10.0,>=0.9.0\n",
            "  Downloading commonmark-0.9.1-py2.py3-none-any.whl (51 kB)\n",
            "\u001b[K     |████████████████████████████████| 51 kB 8.3 MB/s \n",
            "\u001b[?25hRequirement already satisfied: typing-extensions<5.0,>=3.7.4 in /usr/local/lib/python3.7/dist-packages (from rich==12.0.0) (4.1.1)\n",
            "Requirement already satisfied: pygments<3.0.0,>=2.6.0 in /usr/local/lib/python3.7/dist-packages (from rich==12.0.0) (2.6.1)\n",
            "Installing collected packages: commonmark, rich\n",
            "Successfully installed commonmark-0.9.1 rich-12.0.0\n"
          ]
        }
      ]
    },
    {
      "cell_type": "code",
      "source": [
        "import torch\n",
        "from torch import nn\n",
        "from torch import nn\n",
        "from torch.autograd import Variable\n",
        "\n",
        "from torch.utils.data import Dataset, DataLoader\n",
        "from torch.optim import SGD, Adam, RMSprop\n",
        "import torch.nn.functional as F\n",
        "from typing import List, Dict\n",
        "\n",
        "import numpy as np\n",
        "import random\n",
        "import re"
      ],
      "metadata": {
        "id": "5w8dqYbxUlIa"
      },
      "execution_count": 2,
      "outputs": []
    },
    {
      "cell_type": "code",
      "source": [
        "torch.cuda.is_available()"
      ],
      "metadata": {
        "colab": {
          "base_uri": "https://localhost:8080/"
        },
        "id": "BbXWgf73xHHr",
        "outputId": "5a2e871d-165b-43aa-cc08-f63c3007862f"
      },
      "execution_count": 3,
      "outputs": [
        {
          "output_type": "execute_result",
          "data": {
            "text/plain": [
              "True"
            ]
          },
          "metadata": {},
          "execution_count": 3
        }
      ]
    },
    {
      "cell_type": "code",
      "source": [
        "import os\n",
        "import pandas as pd\n",
        "import json\n",
        "import csv\n",
        "import matplotlib.pyplot as plt\n",
        "\n",
        "import seaborn as sns\n",
        "from sklearn.metrics import confusion_matrix"
      ],
      "metadata": {
        "id": "teJBonugYZoh"
      },
      "execution_count": 4,
      "outputs": []
    },
    {
      "cell_type": "code",
      "source": [
        "from rich.progress import track"
      ],
      "metadata": {
        "id": "OB_ukTsANjpE"
      },
      "execution_count": 5,
      "outputs": []
    },
    {
      "cell_type": "code",
      "execution_count": 6,
      "metadata": {
        "colab": {
          "base_uri": "https://localhost:8080/"
        },
        "id": "ikXSDVBOQP00",
        "outputId": "3488eadc-45d7-4d4e-928f-90c2c3ad465a"
      },
      "outputs": [
        {
          "output_type": "stream",
          "name": "stdout",
          "text": [
            "Mounted at /content/drive\n",
            "Cloning into 'nlp2022-hw2'...\n",
            "remote: Enumerating objects: 49, done.\u001b[K\n",
            "remote: Counting objects: 100% (49/49), done.\u001b[K\n",
            "remote: Compressing objects: 100% (32/32), done.\u001b[K\n",
            "remote: Total 49 (delta 21), reused 42 (delta 15), pack-reused 0\u001b[K\n",
            "Unpacking objects: 100% (49/49), done.\n"
          ]
        }
      ],
      "source": [
        "from google.colab import drive\n",
        "drive.mount('/content/drive')\n",
        "\n",
        "!git clone https://github.com/SapienzaNLP/nlp2022-hw2.git"
      ]
    },
    {
      "cell_type": "code",
      "source": [
        "SEED = 1234\n",
        "\n",
        "random.seed(SEED)\n",
        "np.random.seed(SEED)\n",
        "torch.manual_seed(SEED)\n",
        "torch.random.manual_seed(SEED)\n",
        "torch.backends.cudnn.deterministic = True\n",
        "device = 'cuda' if torch.cuda.is_available() else 'cpu'\n",
        "print(device)"
      ],
      "metadata": {
        "id": "-JXfml_UXq5g",
        "colab": {
          "base_uri": "https://localhost:8080/"
        },
        "outputId": "c1437070-8005-4a2e-fded-75f73096dd4e"
      },
      "execution_count": 7,
      "outputs": [
        {
          "output_type": "stream",
          "name": "stdout",
          "text": [
            "cuda\n"
          ]
        }
      ]
    },
    {
      "cell_type": "code",
      "source": [
        "# #get GloVe embeddings\n",
        "# !wget http://nlp.stanford.edu/data/glove.6B.zip\n",
        "# !unzip glove.6B.zip\n",
        "# #tried with 100d, 200d, 300d, finally 50d are chosen\n",
        "# !rm glove.6B.100d.txt\n",
        "# !rm glove.6B.200d.txt\n",
        "# # !rm glove.6B.300d.txt\n",
        "# !rm glove.6B.zip"
      ],
      "metadata": {
        "id": "CC3Wgg6VY4j0"
      },
      "execution_count": 8,
      "outputs": []
    },
    {
      "cell_type": "markdown",
      "source": [
        "Read data EN"
      ],
      "metadata": {
        "id": "H1Y7RGvqWYRq"
      }
    },
    {
      "cell_type": "code",
      "source": [
        "project_path = '/content/drive/MyDrive/Colab Notebooks/NLP HW2'\n",
        "en_train_path = os.path.join(project_path, 'data_hw2', 'EN', 'train.json')\n",
        "en_dev_path = os.path.join(project_path, 'data_hw2', 'EN', 'dev.json')"
      ],
      "metadata": {
        "id": "PQEOTa4CWH81"
      },
      "execution_count": 9,
      "outputs": []
    },
    {
      "cell_type": "markdown",
      "source": [
        "# Vocabulary\n",
        "\n",
        "\n"
      ],
      "metadata": {
        "id": "hsdRM7cRDVsX"
      }
    },
    {
      "cell_type": "code",
      "source": [
        "glove_path = '/content/drive/MyDrive/Colab Notebooks/NLP_HW1/glove_pretrained/glove.6B.100d.txt'\n",
        "# glove_path_d = 'glove.6B.50d.txt'"
      ],
      "metadata": {
        "id": "x-vM8dYl8xbv"
      },
      "execution_count": 10,
      "outputs": []
    },
    {
      "cell_type": "code",
      "source": [
        "\n",
        "word_vector = pd.read_csv(glove_path, sep=\" \", header=None,engine='c', quoting=csv.QUOTE_NONE, index_col=0)\n",
        "\n",
        "glove = {key: val.values for key, val in word_vector.T.items()}"
      ],
      "metadata": {
        "id": "NFW45vxLQr98"
      },
      "execution_count": 11,
      "outputs": []
    },
    {
      "cell_type": "code",
      "source": [
        "def word2id_builder(word_dataset):\n",
        "  word2id_dict = {\"<UNK>\":1, \"<PAD>\":0}\n",
        "  id2word_dict = {1: \"<UNK>\",0: \"<PAD>\"}\n",
        "  for i, word in enumerate(word_dataset):\n",
        "    if word not in word2id_dict:\n",
        "      id = len(word2id_dict)\n",
        "      word2id_dict[word ] = id\n",
        "      id2word_dict[id] = word\n",
        "  return word2id_dict, id2word_dict\n",
        "words = list(glove.keys())\n",
        "word2id_dict, id2word_dict = word2id_builder(words)"
      ],
      "metadata": {
        "id": "DpZP-LnHRP1e"
      },
      "execution_count": 12,
      "outputs": []
    },
    {
      "cell_type": "code",
      "source": [
        "weight_matrix = np.asarray(list(glove.values()), dtype=np.float32)\n",
        "vocab_size, emb_dim  = weight_matrix.shape\n",
        "\n",
        "# for <UNK> take avg of vectors\n",
        "average_vec = np.mean(weight_matrix, axis=0)\n",
        "weight_matrix = np.concatenate((average_vec.reshape(1, emb_dim), weight_matrix), axis = 0)\n",
        "# for <PAD> instert all zeros\n",
        "weight_matrix = np.concatenate((np.zeros((1, emb_dim)), weight_matrix), axis = 0)\n",
        "\n",
        "vocab_size  = weight_matrix.shape\n",
        "print(\"Vocabulary shape: {}\".format(vocab_size))\n",
        "print(\"Embedding dimension: {}\".format(emb_dim))\n",
        "\n",
        "weights_matrix_torch = torch.tensor(weight_matrix, dtype=torch.float)"
      ],
      "metadata": {
        "colab": {
          "base_uri": "https://localhost:8080/"
        },
        "id": "qvBJniPURV3T",
        "outputId": "15698508-317f-405e-a4ca-cfdbc3e31195"
      },
      "execution_count": 13,
      "outputs": [
        {
          "output_type": "stream",
          "name": "stdout",
          "text": [
            "Vocabulary shape: (400000, 100)\n",
            "Embedding dimension: 100\n"
          ]
        }
      ]
    },
    {
      "cell_type": "code",
      "source": [
        "def word2id(w: str)-> List:\n",
        "  id = word2id_dict[w] if w in word2id_dict else word2id_dict[\"<UNK>\"] \n",
        "  return id"
      ],
      "metadata": {
        "id": "Bnu5yOBxWWyP"
      },
      "execution_count": 14,
      "outputs": []
    },
    {
      "cell_type": "code",
      "source": [
        "# Taken from utils.read_dataset\n",
        "def read_dataset(path: str):\n",
        "    with open(path) as f:\n",
        "        dataset = json.load(f)\n",
        "\n",
        "    sentences, labels = {}, {}\n",
        "    for sentence_id, sentence in dataset.items():\n",
        "        sentence_id = sentence_id\n",
        "        sentences[sentence_id] = {\n",
        "            \"words\": sentence[\"words\"],\n",
        "            \"lemmas\": sentence[\"lemmas\"],\n",
        "            \"pos_tags\": sentence[\"pos_tags\"],\n",
        "            \"dependency_heads\": [int(head) for head in sentence[\"dependency_heads\"]],\n",
        "            \"dependency_relations\": sentence[\"dependency_relations\"],\n",
        "            \"predicates\": sentence[\"predicates\"],\n",
        "        }\n",
        "\n",
        "        labels[sentence_id] = {\n",
        "            \"predicates\": sentence[\"predicates\"],\n",
        "            \"roles\": {int(p): r for p, r in sentence[\"roles\"].items()}\n",
        "            if \"roles\" in sentence\n",
        "            else dict(),\n",
        "        }\n",
        "    return sentences, labels"
      ],
      "metadata": {
        "id": "lz6UhM2_Ri6V"
      },
      "execution_count": 15,
      "outputs": []
    },
    {
      "cell_type": "code",
      "source": [
        "sentences, labels = read_dataset(en_train_path)\n",
        "role_tags = set()\n",
        "\n",
        "for sent_id in labels:\n",
        "  roles = list(labels[sent_id]['roles'].values())\n",
        "  for sent in roles:\n",
        "    for role in sent:\n",
        "      role_tags.add(role)\n",
        "role_tags.add('<PAD>')\n",
        "tags = list(role_tags)\n",
        "tags.sort()\n",
        "\n",
        "id2tag_dict = {i: key for i, key in enumerate(tags)}\n",
        "tag2id_dict = {key: value for value, key in id2tag_dict.items()}"
      ],
      "metadata": {
        "id": "NkRsusyPZF3b"
      },
      "execution_count": 16,
      "outputs": []
    },
    {
      "cell_type": "code",
      "source": [
        "# def tags2ids(labels: List[List]) -> List[List]:\n",
        "#   return [[tag2id_dict[label] for label in label_sent] for label_sent in labels]\n",
        "\n",
        "def tags2ids_(labels: List) -> List[List]:\n",
        "  for label in labels:\n",
        "    if not label in tag2id_dict:\n",
        "      print(label)\n",
        "      return []\n",
        "  return [tag2id_dict[label] for label in labels]\n",
        "\n",
        "def ids2tags(label_ids: List[List]) -> List[List]:\n",
        "  return [[id2tag_dict[id] for id in ids] for ids in label_ids]"
      ],
      "metadata": {
        "id": "hkJ8n2IsfYx7"
      },
      "execution_count": 17,
      "outputs": []
    },
    {
      "cell_type": "markdown",
      "source": [
        "# Dataset class"
      ],
      "metadata": {
        "id": "id3YJa1h6hb3"
      }
    },
    {
      "cell_type": "code",
      "source": [
        "#preprocessong function\n",
        "def preprocess(word: str) -> str: \n",
        "    return re.sub('[\\.,:;!@#$\\(\\)\\-&\\\\<>/0-9]', '', word).lower()\n",
        "\n",
        "def sentence2vector(sentenceList: List) -> List:    \n",
        "    sentence_word_vector = [word2id_dict[preprocess(w)] if preprocess(w) in word2id_dict else word2id_dict[\"<UNK>\"] for w in sentenceList ]\n",
        "    return sentence_word_vector\n"
      ],
      "metadata": {
        "id": "mB1fm-9KRgS4"
      },
      "execution_count": 18,
      "outputs": []
    },
    {
      "cell_type": "code",
      "source": [
        "def predicate_ids(predicates: List) -> List:\n",
        "  out = []\n",
        "  n_words = len(predicates)\n",
        "  predicate_pos = []\n",
        "  for pos, word in enumerate(predicates):\n",
        "    if word != '_': # word is a predicate\n",
        "      predicate_pos.append(pos)\n",
        "      sent = [word2id(\"<PAD>\")]*n_words\n",
        "      predicate_word = preprocess(word).split(\"_\")\n",
        "      for pw in predicate_word:\n",
        "        if word2id(pw) != 1:\n",
        "          break\n",
        "      sent[pos] = word2id(pw)\n",
        "      out.append(sent)\n",
        "  if out==[]:\n",
        "    out = [[0]*n_words]\n",
        "  return out, predicate_pos\n",
        "\n",
        "# def predicates_binary(predicates: List) -> List:\n",
        "#   out = []\n",
        "#   n_words = len(predicates)\n",
        "#   for pos, word in enumerate(predicates):\n",
        "#     if word != '_': # word is a predicate\n",
        "#       sent = [0]*n_words\n",
        "#       sent[pos] = 1\n",
        "#       out.append(sent)\n",
        "#   if out==[]:\n",
        "#     out = [[0]*n_words]\n",
        "#   return out\n",
        "\n",
        "def arg_binary(args: List) -> List:\n",
        "  return [1 if arg!='_' else 0 for arg in args]\n",
        "\n",
        "def get_true_labels(roles, n_words) -> List:\n",
        "  if not type(roles) is dict: #is float:\n",
        "    return [[0]*n_words]\n",
        "  binary_args_per_predicates = []\n",
        "  pred_rs = list(roles.keys())\n",
        "  for pred in pred_rs:\n",
        "    binary_args_per_predicates.append(arg_binary(roles[pred]))\n",
        "  if binary_args_per_predicates==[]:\n",
        "    binary_args_per_predicates = [[0]*n_words]\n",
        "  return binary_args_per_predicates\n",
        "\n",
        "def get_true_labels_for_classification(roles, n_words) -> List:\n",
        "  if not type(roles) is dict: #is float:\n",
        "    return [[0]*n_words]\n",
        "  args_per_predicates = []\n",
        "  \n",
        "  for pred in roles.keys():\n",
        "    \n",
        "    args_per_predicates.append(tags2ids_(roles[pred]))\n",
        "  if args_per_predicates==[]:\n",
        "    args_per_predicates = [[0]*n_words]\n",
        "  return args_per_predicates"
      ],
      "metadata": {
        "id": "dc1IlBO4-MxY"
      },
      "execution_count": 19,
      "outputs": []
    },
    {
      "cell_type": "code",
      "source": [
        "# Dataset class\n",
        "class Dataset(torch.utils.data.Dataset):\n",
        "  \n",
        "    def __init__(self, dataset_path: str, device = 'cpu'):\n",
        "        self.words = []\n",
        "        self.lemmas = []\n",
        "        self.predicates = []\n",
        "        self.labels = []\n",
        "        self.device = device\n",
        "        self.build(dataset_path)\n",
        "\n",
        "    def build(self, dataset_path: str) -> None:\n",
        "        sentences, labels = read_dataset(dataset_path)\n",
        "        \n",
        "        for sentence_id in track(sentences, description=\"Loading dataset\"):\n",
        "          sentence = sentences[sentence_id]\n",
        "          label = labels[sentence_id]\n",
        "\n",
        "          predicate_binary, _ = predicate_ids(list(sentence[\"predicates\"]))\n",
        "          args = get_true_labels_for_classification(label[\"roles\"], len(sentence[\"words\"]))\n",
        "          # Makes n (number of predicates in a sentence) dublicates of words and lemmas\n",
        "          word_ids = [sentence2vector(sentence[\"words\"]) for n in range(len(predicate_binary))]\n",
        "          lemma_ids = [sentence2vector(sentence[\"lemmas\"]) for n in range(len(predicate_binary))]\n",
        "          \n",
        "          # To ensure sentence has the same number of dublicates in each category\n",
        "          assert len(predicate_binary) == len(args)\n",
        "\n",
        "          self.words.extend(word_ids)\n",
        "          self.lemmas.extend(lemma_ids)\n",
        "          self.predicates.extend(predicate_binary)\n",
        "          self.labels.extend(args)\n",
        "          \n",
        "        print(\"{} sentences in original\".format(len(sentences)))\n",
        "        print(\"{} sentences with duplicates\". format(len(self.words)))\n",
        "  \n",
        "    def batch_gen(self, batch_size, shuffle=False, dropout=True) :\n",
        "      n_samples = len(self.words)\n",
        "      if shuffle:\n",
        "          order = np.random.permutation(n_samples)\n",
        "      else:\n",
        "          order = np.arange(n_samples)\n",
        "\n",
        "      n_batches = n_samples // batch_size\n",
        "      lengths = []\n",
        "\n",
        "      for n in range(n_batches):\n",
        "        max_len_token = 0\n",
        "        for sent in self.labels[n*batch_size: (n+1)*batch_size]:\n",
        "          max_len_token = max(max_len_token, len(sent))\n",
        "          \n",
        "        token_batch = np.zeros((batch_size, max_len_token), dtype=np.int32)\n",
        "        predicate_batch = np.zeros((batch_size, max_len_token), dtype=np.int32)\n",
        "        lemma_batch = np.zeros((batch_size, max_len_token), dtype=np.int32)\n",
        "        tag_batch = np.zeros((batch_size, max_len_token), dtype=np.int32)\n",
        "        lengths.append(max_len_token)\n",
        "\n",
        "        for i in order[n*batch_size: (n+1)*batch_size]:\n",
        "          to_fill = max_len_token - len(self.words[i])\n",
        "\n",
        "          token_batch[i-n*batch_size] = np.pad(self.words[i], (0, to_fill), 'constant', constant_values=(word2id_dict['<PAD>']))\n",
        "          lemma_batch[i-n*batch_size] = np.pad(self.lemmas[i], (0, to_fill), 'constant', constant_values=(word2id_dict['<PAD>']))\n",
        "          predicate_batch[i-n*batch_size] = np.pad(self.predicates[i], (0, to_fill), 'constant', constant_values=(tag2id_dict['<PAD>']))\n",
        "\n",
        "          tag_batch[i-n*batch_size] =np.pad(self.labels[i], (0, to_fill), 'constant', constant_values=(tag2id_dict[\"<PAD>\"]))\n",
        "\n",
        "        yield lengths, token_batch, lemma_batch, predicate_batch, tag_batch,"
      ],
      "metadata": {
        "id": "-4np_glkOMWG"
      },
      "execution_count": 20,
      "outputs": []
    },
    {
      "cell_type": "markdown",
      "source": [
        "# Model"
      ],
      "metadata": {
        "id": "KfncxhxxxsYs"
      }
    },
    {
      "cell_type": "code",
      "source": [
        "#Modified model from HW1 model\n",
        "class ArgIdent(torch.nn.Module):\n",
        "    def __init__(self, weight_matrix: torch.Tensor, hparams, device):\n",
        "        super(ArgIdent, self).__init__()\n",
        "        self.device = device\n",
        "\n",
        "        self.embedding = nn.Embedding.from_pretrained(weight_matrix)\n",
        "        self.embedding.requires_grad = False\n",
        "        self.stacked = hparams.stacked\n",
        "        self.n_classes = len(tags)\n",
        "\n",
        "        _, embedding_dim = weight_matrix.shape\n",
        "\n",
        "        num_dirs = 1\n",
        "        if hparams.bi_dir:\n",
        "          num_dirs = 2\n",
        "        \n",
        "        self.lstm = nn.LSTM(\n",
        "            input_size = embedding_dim*3,\n",
        "            hidden_size = hparams.hidden_size,\n",
        "            num_layers = hparams.num_layers,\n",
        "            batch_first = True,\n",
        "            bidirectional = hparams.bi_dir\n",
        "        )\n",
        "\n",
        "        if hparams.stacked:\n",
        "          self.lstm2 = nn.LSTM(\n",
        "              input_size=hparams.hidden_size*num_dirs,\n",
        "              hidden_size=hparams.hidden_size,\n",
        "              num_layers=hparams.num_layers,\n",
        "              batch_first=True,\n",
        "              bidirectional = hparams.bi_dir\n",
        "          )\n",
        "\n",
        "        self.dropout = nn.Dropout(hparams.dropout)\n",
        "        self.hidden_to_tag = nn.Linear(hparams.hidden_size*num_dirs , self.n_classes)\n",
        "    def init_hidden(self, size):\n",
        "        # the weights's shape (nb_layers, batch_size, nb_lstm_units)\n",
        "        num_dirs = 1\n",
        "        if hparams.bi_dir:\n",
        "          num_dirs = 2\n",
        "        hidden_a = Variable(torch.randn(hparams.num_layers*num_dirs, size, hparams.hidden_size)).to(self.device)\n",
        "        hidden_b = Variable(torch.randn(hparams.num_layers*num_dirs, size, hparams.hidden_size)).to(self.device)\n",
        "\n",
        "        return (hidden_a, hidden_b)\n",
        "\n",
        "    def forward(self, X: torch.Tensor, L: torch.Tensor, V: torch.Tensor, X_lengths: torch.Tensor):\n",
        "      \n",
        "        batch_size, seq_len = X.shape\n",
        "        #init weights\n",
        "        (h_0, c_0) = self.init_hidden(X.shape[0])\n",
        "        (h_2, c_2) = self.init_hidden(X.shape[0])\n",
        "\n",
        "  \n",
        "        # shape(batch_size, seq_len, embedding_dim)\n",
        "        # Embed tokens, lemmas and predicates and concateneate them\n",
        "        embedded_x = self.embedding(X)\n",
        "        embedded_l = self.embedding(L)\n",
        "        embedded_v = self.embedding(V) \n",
        "        # V = torch.unsqueeze(V, -1)\n",
        "        embedded = torch.cat((embedded_x, embedded_l, embedded_v), 2)\n",
        "        # print(embedded.shape)\n",
        "\n",
        "        # shape (batch_size, seq_len, numb_lstm_units)\n",
        "        X_lengths = torch.ones(batch_size, dtype=torch.int32)*X_lengths\n",
        "        # packing\n",
        "        packed_embedded = torch.nn.utils.rnn.pack_padded_sequence(embedded, X_lengths, batch_first=True)\n",
        "        #LSTM\n",
        "        packed_out, (h_n, c_n)  = self.lstm(packed_embedded,  (h_0, c_0))\n",
        "        #if 2 LSTMs stacked\n",
        "        if self.stacked:\n",
        "          packed_out, (h_n, c_n)  = self.lstm2(packed_out,  (h_2, c_2))\n",
        "\n",
        "        # unpacking\n",
        "        X, _ = torch.nn.utils.rnn.pad_packed_sequence(packed_out, batch_first=True)\n",
        "\n",
        "        # shape change for FC layer (batch_size * seq_len, numb_lstm_units) \n",
        "        X = X.contiguous()\n",
        "        X = X.view(-1, X.shape[2])\n",
        "        # dropout\n",
        "        X = self.dropout(X)\n",
        "        # FC\n",
        "        X = self.hidden_to_tag(X)\n",
        "\n",
        "        # shape (batch_size, seq_len, 3)\n",
        "        X = F.log_softmax(X, dim=1)\n",
        "\n",
        "        X = X.view(batch_size, seq_len, self.n_classes)\n",
        "        Y_hat = X\n",
        "\n",
        "        return Y_hat\n",
        "\n",
        "    def neglogloss(self, Y_hat, Y):\n",
        "        loss_f = torch.nn.NLLLoss()\n",
        "        # flattening shapes \n",
        "        Y_hat = Y_hat.view(-1, Y_hat.shape[2])\n",
        "        Y = Y.view(-1)\n",
        "        loss = loss_f(Y_hat, Y)\n",
        "        # removing PAD tokens (tag2id('<PAD>') = 0)\n",
        "        mask = (Y > 0).float()\n",
        "        loss = loss * mask\n",
        "        return torch.sum(loss) / torch.sum(mask)\n",
        "        "
      ],
      "metadata": {
        "id": "9_p-BlEUTLa1"
      },
      "execution_count": 21,
      "outputs": []
    },
    {
      "cell_type": "markdown",
      "source": [
        "# Training"
      ],
      "metadata": {
        "id": "UHXkeD6IzvoT"
      }
    },
    {
      "cell_type": "code",
      "source": [
        "def train(device, model: nn.Module, n_epochs: int, optimizer: torch.optim.Optimizer):\n",
        "    epoch_loss = list()\n",
        "    val_epoch_loss = list()\n",
        "    f1_epoch = []\n",
        "    project_folder = '/content/nlp2022-hw2'\n",
        "    state_dict_path = os.path.join( project_folder, 'model' )\n",
        "    early_stopping = True\n",
        "    early_stopping_mode = 'loss'\n",
        "    early_stopping_patience = 2\n",
        "    patience_counter = 0\n",
        "    for epoch in track(range(n_epochs), description=\"training\"):\n",
        "        print('Epoch {}'.format(epoch))\n",
        "        training_generator = train_dataset.batch_gen(batch_size )\n",
        "        validation_generator = dev_dataset.batch_gen(batch_size )\n",
        "\n",
        "        losses = list()\n",
        "        val_losses = []\n",
        "\n",
        "        model.train()\n",
        "        for length, x_sample, lemma_sample, pred_sample, y_real in training_generator:\n",
        "            x_sample = torch.tensor(x_sample)\n",
        "            lemma_sample = torch.tensor(lemma_sample)\n",
        "            pred_sample = torch.tensor(pred_sample)\n",
        "            y_real = torch.LongTensor(y_real)\n",
        "         \n",
        "            x_sampled = x_sample.to(device)\n",
        "            lemma_sampled = lemma_sample.to(device)\n",
        "            pred_sampled = pred_sample.to(device)\n",
        "            y_reald = y_real.to(device)\n",
        "\n",
        "\n",
        "                  #compute loss and make an optimization step\n",
        "            optimizer.zero_grad()\n",
        "            Y_hat = model.forward(x_sampled, lemma_sampled, pred_sampled, length[-1])\n",
        "            Y_hatd = Y_hat.to(device)\n",
        "            loss = model.neglogloss(Y_hatd, y_reald)\n",
        "            losses.append(loss)\n",
        "            loss.backward() #calculates the loss of the loss function\n",
        "            optimizer.step()\n",
        "        epoch_loss.append(torch.mean(torch.tensor(losses)))\n",
        "        print('loss {:.3f} \\n'.format( epoch_loss[-1]))\n",
        "\n",
        "        #Validation \n",
        "        model.eval()\n",
        "        f1_batch = []\n",
        "        for length, x_val, l_val, p_val, y_real_val in validation_generator: \n",
        "            x_val = torch.tensor(x_val)\n",
        "            l_val = torch.tensor(l_val)\n",
        "            p_val = torch.tensor(p_val)\n",
        "            y_real_val = torch.LongTensor(y_real_val)\n",
        "\n",
        "            x_vald = x_val.to(device)\n",
        "            l_vald = l_val.to(device)\n",
        "            p_vald = p_val.to(device)\n",
        "            y_real_vald = y_real_val.to(device)\n",
        "\n",
        "            y_hat_val = model.forward(x_vald,l_vald, p_vald, length[-1]).to(device)\n",
        "            val_loss = model.neglogloss(y_hat_val, y_real_vald)\n",
        "            val_losses.append(val_loss.item())\n",
        "        val_epoch_loss.append(torch.mean(torch.tensor(val_losses)))\n",
        "        print('val loss {:.3f} \\n'.format( val_epoch_loss[-1]))\n",
        "\n",
        "        \n",
        "        # to stop training before overfitting\n",
        "        if early_stopping:\n",
        "            # choose metric to monitor\n",
        "            stop = early_stopping_mode == 'loss' and epoch > 0 and val_epoch_loss[-1] > val_epoch_loss[-2]\n",
        "            # set patience\n",
        "            if stop:\n",
        "                if patience_counter >= early_stopping_patience:\n",
        "                    # print('Early stop.')\n",
        "                    break\n",
        "                else:\n",
        "                    patience_counter += 1\n",
        "                    print(f'-- Patience {patience_counter} out of {early_stopping_patience}.\\n')\n",
        "\n",
        "        torch.save(model.state_dict(), os.path.join(state_dict_path, 'state_{}.pt'.format(epoch)))\n",
        "    return epoch_loss, val_epoch_loss"
      ],
      "metadata": {
        "id": "t4BJ86RJzvVe"
      },
      "execution_count": 22,
      "outputs": []
    },
    {
      "cell_type": "markdown",
      "source": [
        "# Predict & Evaluate"
      ],
      "metadata": {
        "id": "6aymnVGyxyIc"
      }
    },
    {
      "cell_type": "code",
      "source": [
        "def predict(model, sentences):\n",
        "  predictions = {}\n",
        "  for sentence_id in track(sentences, description=\"Predicting\"):\n",
        "    roles = {}\n",
        "    sentence = sentences[sentence_id]\n",
        "    predicate_id, predicate_pos = predicate_ids(list(sentence[\"predicates\"]))\n",
        "    for predicate, pos in zip(predicate_id, predicate_pos):\n",
        "      # n (number of predicates in a sentence) predications\n",
        "      word_ids = sentence2vector(sentence[\"words\"])\n",
        "      lemma_ids = sentence2vector(sentence[\"lemmas\"])\n",
        "\n",
        "      x_sample = torch.unsqueeze(torch.tensor(word_ids), 0)\n",
        "      lemma_sample = torch.unsqueeze(torch.tensor(lemma_ids),0)\n",
        "      pred_sample = torch.unsqueeze(torch.tensor(predicate),0)\n",
        "      x_sample = x_sample.to(device)\n",
        "      lemma_sample = lemma_sample.to(device)\n",
        "      pred_sample = pred_sample.to(device)\n",
        "\n",
        "      #make prediction\n",
        "      Y_hat = model.forward(x_sample, lemma_sample, pred_sample, len(word_ids)).squeeze()\n",
        "      tags_per_sent = ids2tags([[ torch.argmax(tag_dist).item() for tag_dist in Y_hat]])[0]\n",
        "      roles[pos]=tags_per_sent\n",
        "     \n",
        "    predictions[sentence_id] = {\"roles\": roles}\n",
        "  return predictions\n",
        "  \n",
        "  \n",
        "  "
      ],
      "metadata": {
        "id": "ke0nRBPkzBRm"
      },
      "execution_count": 23,
      "outputs": []
    },
    {
      "cell_type": "code",
      "source": [
        "def evaluate_argument_identification(labels, predictions, null_tag=\"_\"):\n",
        "    true_positives, false_positives, false_negatives = 0, 0, 0\n",
        "    for sentence_id in labels:\n",
        "        gold = labels[sentence_id][\"roles\"]\n",
        "        pred = predictions[sentence_id][\"roles\"]\n",
        "        predicate_indices = set(gold.keys()).union(pred.keys())\n",
        "        for idx in predicate_indices:\n",
        "            if idx in gold and idx not in pred:\n",
        "                false_negatives += sum(1 for role in gold[idx] if role != null_tag)\n",
        "            elif idx in pred and idx not in gold:\n",
        "                false_positives += sum(1 for role in pred[idx] if role != null_tag)\n",
        "            else:  # idx in both gold and pred\n",
        "                for r_g, r_p in zip(gold[idx], pred[idx]):\n",
        "                    if r_g != null_tag and r_p != null_tag:\n",
        "                        true_positives += 1\n",
        "                    elif r_g != null_tag and r_p == null_tag:\n",
        "                        false_negatives += 1\n",
        "                    elif r_g == null_tag and r_p != null_tag:\n",
        "                        false_positives += 1\n",
        "\n",
        "    precision = true_positives / (true_positives + false_positives)\n",
        "    recall = true_positives / (true_positives + false_negatives)\n",
        "    f1 = 2 * (precision * recall) / (precision + recall)\n",
        "    return {\n",
        "        \"true_positives\": true_positives,\n",
        "        \"false_positives\": false_positives,\n",
        "        \"false_negatives\": false_negatives,\n",
        "        \"precision\": precision,\n",
        "        \"recall\": recall,\n",
        "        \"f1\": f1,\n",
        "    }"
      ],
      "metadata": {
        "id": "AYPetsB_L2Vz"
      },
      "execution_count": 24,
      "outputs": []
    },
    {
      "cell_type": "code",
      "source": [
        "def evaluate_argument_classification(labels, predictions, null_tag=\"_\"):\n",
        "    true_positives, false_positives, false_negatives = 0, 0, 0\n",
        "    for sentence_id in labels:\n",
        "        gold = labels[sentence_id][\"roles\"]\n",
        "        pred = predictions[sentence_id][\"roles\"]\n",
        "        predicate_indices = set(gold.keys()).union(pred.keys())\n",
        "\n",
        "        for idx in predicate_indices:\n",
        "            if idx in gold and idx not in pred:\n",
        "                false_negatives += sum(1 for role in gold[idx] if role != null_tag)\n",
        "            elif idx in pred and idx not in gold:\n",
        "                false_positives += sum(1 for role in pred[idx] if role != null_tag)\n",
        "            else:  # idx in both gold and pred\n",
        "                for r_g, r_p in zip(gold[idx], pred[idx]):\n",
        "                    if r_g != null_tag and r_p != null_tag:\n",
        "                        if r_g == r_p:\n",
        "                            true_positives += 1\n",
        "                        else:\n",
        "                            false_positives += 1\n",
        "                            false_negatives += 1\n",
        "                    elif r_g != null_tag and r_p == null_tag:\n",
        "                        false_negatives += 1\n",
        "                    elif r_g == null_tag and r_p != null_tag:\n",
        "                        false_positives += 1\n",
        "\n",
        "    precision = true_positives / (true_positives + false_positives)\n",
        "    recall = true_positives / (true_positives + false_negatives)\n",
        "    f1 = 2 * (precision * recall) / (precision + recall)\n",
        "    return {\n",
        "        \"true_positives\": true_positives,\n",
        "        \"false_positives\": false_positives,\n",
        "        \"false_negatives\": false_negatives,\n",
        "        \"precision\": precision,\n",
        "        \"recall\": recall,\n",
        "        \"f1\": f1,\n",
        "    }"
      ],
      "metadata": {
        "id": "Kii-CE6LMxEf"
      },
      "execution_count": 25,
      "outputs": []
    },
    {
      "cell_type": "markdown",
      "source": [
        "# Experiment"
      ],
      "metadata": {
        "id": "pHfN2iFdyJcu"
      }
    },
    {
      "cell_type": "code",
      "source": [
        "train_dataset = Dataset(en_train_path)\n",
        "dev_dataset = Dataset(en_dev_path)"
      ],
      "metadata": {
        "colab": {
          "base_uri": "https://localhost:8080/",
          "height": 118,
          "referenced_widgets": [
            "c82d06f478b84e379b32ad9442b3531b",
            "cf018cf82d45479aa2fae46afdaeabe4",
            "e5c48f24c16c4aa893253fcbb95d29cd",
            "b3c4f983161d45cda1ccc07340460e2e"
          ]
        },
        "id": "34QkVVU4S3QT",
        "outputId": "4d54ebe6-8c32-45b4-b862-b166798ae917"
      },
      "execution_count": 26,
      "outputs": [
        {
          "output_type": "display_data",
          "data": {
            "text/plain": [
              "Output()"
            ],
            "application/vnd.jupyter.widget-view+json": {
              "version_major": 2,
              "version_minor": 0,
              "model_id": "c82d06f478b84e379b32ad9442b3531b"
            }
          },
          "metadata": {}
        },
        {
          "output_type": "display_data",
          "data": {
            "text/plain": [],
            "text/html": [
              "<pre style=\"white-space:pre;overflow-x:auto;line-height:normal;font-family:Menlo,'DejaVu Sans Mono',consolas,'Courier New',monospace\"></pre>\n"
            ]
          },
          "metadata": {}
        },
        {
          "output_type": "display_data",
          "data": {
            "text/plain": [
              "\n"
            ],
            "text/html": [
              "<pre style=\"white-space:pre;overflow-x:auto;line-height:normal;font-family:Menlo,'DejaVu Sans Mono',consolas,'Courier New',monospace\">\n",
              "</pre>\n"
            ]
          },
          "metadata": {}
        },
        {
          "output_type": "stream",
          "name": "stdout",
          "text": [
            "5501 sentences in original\n",
            "12641 sentences with duplicates\n"
          ]
        },
        {
          "output_type": "display_data",
          "data": {
            "text/plain": [
              "Output()"
            ],
            "application/vnd.jupyter.widget-view+json": {
              "version_major": 2,
              "version_minor": 0,
              "model_id": "e5c48f24c16c4aa893253fcbb95d29cd"
            }
          },
          "metadata": {}
        },
        {
          "output_type": "display_data",
          "data": {
            "text/plain": [],
            "text/html": [
              "<pre style=\"white-space:pre;overflow-x:auto;line-height:normal;font-family:Menlo,'DejaVu Sans Mono',consolas,'Courier New',monospace\"></pre>\n"
            ]
          },
          "metadata": {}
        },
        {
          "output_type": "display_data",
          "data": {
            "text/plain": [
              "\n"
            ],
            "text/html": [
              "<pre style=\"white-space:pre;overflow-x:auto;line-height:normal;font-family:Menlo,'DejaVu Sans Mono',consolas,'Courier New',monospace\">\n",
              "</pre>\n"
            ]
          },
          "metadata": {}
        },
        {
          "output_type": "stream",
          "name": "stdout",
          "text": [
            "1026 sentences in original\n",
            "2563 sentences with duplicates\n"
          ]
        }
      ]
    },
    {
      "cell_type": "code",
      "source": [
        "sentences, labels = read_dataset(en_dev_path)"
      ],
      "metadata": {
        "id": "Y8dsRZAjyMpI"
      },
      "execution_count": 27,
      "outputs": []
    },
    {
      "cell_type": "markdown",
      "source": [
        "# to check\n"
      ],
      "metadata": {
        "id": "_W-4WWLoicbK"
      }
    },
    {
      "cell_type": "code",
      "source": [
        "\n",
        "class HParams():\n",
        "  bi_dir = True\n",
        "  stacked = False\n",
        "  dropout = 0\n",
        "  hidden_size = 512\n",
        "  num_layers = 1\n",
        "  \n",
        "hparams = HParams()\n",
        "batch_size = 32\n",
        "\n",
        "patience = 2\n",
        "epochs = 10\n",
        "\n",
        "learning_rate = 0.001\n"
      ],
      "metadata": {
        "id": "GwTYmwJexPBg"
      },
      "execution_count": 37,
      "outputs": []
    },
    {
      "cell_type": "code",
      "source": [
        "trial_model = ArgIdent(weights_matrix_torch, hparams, device)\n",
        "trial_model.to(device)\n",
        "\n",
        "optimizer = torch.optim.Adam(trial_model.parameters(), lr=learning_rate)#, weight_decay = weight_decay)"
      ],
      "metadata": {
        "id": "A8bnPMWnyS3d"
      },
      "execution_count": 38,
      "outputs": []
    },
    {
      "cell_type": "code",
      "source": [
        "epoch_loss, val_epoch_loss = train(device, trial_model, n_epochs = epochs, optimizer = optimizer)"
      ],
      "metadata": {
        "colab": {
          "base_uri": "https://localhost:8080/",
          "height": 545,
          "referenced_widgets": [
            "aa84d0bccbac41a0899153cb933c2cf1",
            "8a393f62d5924fbdb5bf999a4b077feb"
          ]
        },
        "id": "yxcSYNlpyhBZ",
        "outputId": "6b48f183-ed09-4594-8bee-924d6d8d3fc2"
      },
      "execution_count": 39,
      "outputs": [
        {
          "output_type": "display_data",
          "data": {
            "text/plain": [
              "Output()"
            ],
            "application/vnd.jupyter.widget-view+json": {
              "version_major": 2,
              "version_minor": 0,
              "model_id": "aa84d0bccbac41a0899153cb933c2cf1"
            }
          },
          "metadata": {}
        },
        {
          "output_type": "display_data",
          "data": {
            "text/plain": [
              "Epoch 0\n"
            ],
            "text/html": [
              "<pre style=\"white-space:pre;overflow-x:auto;line-height:normal;font-family:Menlo,'DejaVu Sans Mono',consolas,'Courier New',monospace\">Epoch 0\n",
              "</pre>\n"
            ]
          },
          "metadata": {}
        },
        {
          "output_type": "display_data",
          "data": {
            "text/plain": [
              "loss 0.205 \n"
            ],
            "text/html": [
              "<pre style=\"white-space:pre;overflow-x:auto;line-height:normal;font-family:Menlo,'DejaVu Sans Mono',consolas,'Courier New',monospace\">loss 0.205 \n",
              "</pre>\n"
            ]
          },
          "metadata": {}
        },
        {
          "output_type": "display_data",
          "data": {
            "text/plain": [
              "\n"
            ],
            "text/html": [
              "<pre style=\"white-space:pre;overflow-x:auto;line-height:normal;font-family:Menlo,'DejaVu Sans Mono',consolas,'Courier New',monospace\">\n",
              "</pre>\n"
            ]
          },
          "metadata": {}
        },
        {
          "output_type": "display_data",
          "data": {
            "text/plain": [
              "val loss 0.094 \n"
            ],
            "text/html": [
              "<pre style=\"white-space:pre;overflow-x:auto;line-height:normal;font-family:Menlo,'DejaVu Sans Mono',consolas,'Courier New',monospace\">val loss 0.094 \n",
              "</pre>\n"
            ]
          },
          "metadata": {}
        },
        {
          "output_type": "display_data",
          "data": {
            "text/plain": [
              "\n"
            ],
            "text/html": [
              "<pre style=\"white-space:pre;overflow-x:auto;line-height:normal;font-family:Menlo,'DejaVu Sans Mono',consolas,'Courier New',monospace\">\n",
              "</pre>\n"
            ]
          },
          "metadata": {}
        },
        {
          "output_type": "display_data",
          "data": {
            "text/plain": [
              "Epoch 1\n"
            ],
            "text/html": [
              "<pre style=\"white-space:pre;overflow-x:auto;line-height:normal;font-family:Menlo,'DejaVu Sans Mono',consolas,'Courier New',monospace\">Epoch 1\n",
              "</pre>\n"
            ]
          },
          "metadata": {}
        },
        {
          "output_type": "display_data",
          "data": {
            "text/plain": [
              "loss 0.090 \n"
            ],
            "text/html": [
              "<pre style=\"white-space:pre;overflow-x:auto;line-height:normal;font-family:Menlo,'DejaVu Sans Mono',consolas,'Courier New',monospace\">loss 0.090 \n",
              "</pre>\n"
            ]
          },
          "metadata": {}
        },
        {
          "output_type": "display_data",
          "data": {
            "text/plain": [
              "\n"
            ],
            "text/html": [
              "<pre style=\"white-space:pre;overflow-x:auto;line-height:normal;font-family:Menlo,'DejaVu Sans Mono',consolas,'Courier New',monospace\">\n",
              "</pre>\n"
            ]
          },
          "metadata": {}
        },
        {
          "output_type": "display_data",
          "data": {
            "text/plain": [
              "val loss 0.066 \n"
            ],
            "text/html": [
              "<pre style=\"white-space:pre;overflow-x:auto;line-height:normal;font-family:Menlo,'DejaVu Sans Mono',consolas,'Courier New',monospace\">val loss 0.066 \n",
              "</pre>\n"
            ]
          },
          "metadata": {}
        },
        {
          "output_type": "display_data",
          "data": {
            "text/plain": [
              "\n"
            ],
            "text/html": [
              "<pre style=\"white-space:pre;overflow-x:auto;line-height:normal;font-family:Menlo,'DejaVu Sans Mono',consolas,'Courier New',monospace\">\n",
              "</pre>\n"
            ]
          },
          "metadata": {}
        },
        {
          "output_type": "display_data",
          "data": {
            "text/plain": [
              "Epoch 2\n"
            ],
            "text/html": [
              "<pre style=\"white-space:pre;overflow-x:auto;line-height:normal;font-family:Menlo,'DejaVu Sans Mono',consolas,'Courier New',monospace\">Epoch 2\n",
              "</pre>\n"
            ]
          },
          "metadata": {}
        },
        {
          "output_type": "display_data",
          "data": {
            "text/plain": [
              "loss 0.066 \n"
            ],
            "text/html": [
              "<pre style=\"white-space:pre;overflow-x:auto;line-height:normal;font-family:Menlo,'DejaVu Sans Mono',consolas,'Courier New',monospace\">loss 0.066 \n",
              "</pre>\n"
            ]
          },
          "metadata": {}
        },
        {
          "output_type": "display_data",
          "data": {
            "text/plain": [
              "\n"
            ],
            "text/html": [
              "<pre style=\"white-space:pre;overflow-x:auto;line-height:normal;font-family:Menlo,'DejaVu Sans Mono',consolas,'Courier New',monospace\">\n",
              "</pre>\n"
            ]
          },
          "metadata": {}
        },
        {
          "output_type": "display_data",
          "data": {
            "text/plain": [
              "val loss 0.054 \n"
            ],
            "text/html": [
              "<pre style=\"white-space:pre;overflow-x:auto;line-height:normal;font-family:Menlo,'DejaVu Sans Mono',consolas,'Courier New',monospace\">val loss 0.054 \n",
              "</pre>\n"
            ]
          },
          "metadata": {}
        },
        {
          "output_type": "display_data",
          "data": {
            "text/plain": [
              "\n"
            ],
            "text/html": [
              "<pre style=\"white-space:pre;overflow-x:auto;line-height:normal;font-family:Menlo,'DejaVu Sans Mono',consolas,'Courier New',monospace\">\n",
              "</pre>\n"
            ]
          },
          "metadata": {}
        },
        {
          "output_type": "display_data",
          "data": {
            "text/plain": [
              "Epoch 3\n"
            ],
            "text/html": [
              "<pre style=\"white-space:pre;overflow-x:auto;line-height:normal;font-family:Menlo,'DejaVu Sans Mono',consolas,'Courier New',monospace\">Epoch 3\n",
              "</pre>\n"
            ]
          },
          "metadata": {}
        },
        {
          "output_type": "display_data",
          "data": {
            "text/plain": [
              "loss 0.050 \n"
            ],
            "text/html": [
              "<pre style=\"white-space:pre;overflow-x:auto;line-height:normal;font-family:Menlo,'DejaVu Sans Mono',consolas,'Courier New',monospace\">loss 0.050 \n",
              "</pre>\n"
            ]
          },
          "metadata": {}
        },
        {
          "output_type": "display_data",
          "data": {
            "text/plain": [
              "\n"
            ],
            "text/html": [
              "<pre style=\"white-space:pre;overflow-x:auto;line-height:normal;font-family:Menlo,'DejaVu Sans Mono',consolas,'Courier New',monospace\">\n",
              "</pre>\n"
            ]
          },
          "metadata": {}
        },
        {
          "output_type": "display_data",
          "data": {
            "text/plain": [
              "val loss 0.047 \n"
            ],
            "text/html": [
              "<pre style=\"white-space:pre;overflow-x:auto;line-height:normal;font-family:Menlo,'DejaVu Sans Mono',consolas,'Courier New',monospace\">val loss 0.047 \n",
              "</pre>\n"
            ]
          },
          "metadata": {}
        },
        {
          "output_type": "display_data",
          "data": {
            "text/plain": [
              "\n"
            ],
            "text/html": [
              "<pre style=\"white-space:pre;overflow-x:auto;line-height:normal;font-family:Menlo,'DejaVu Sans Mono',consolas,'Courier New',monospace\">\n",
              "</pre>\n"
            ]
          },
          "metadata": {}
        },
        {
          "output_type": "display_data",
          "data": {
            "text/plain": [
              "Epoch 4\n"
            ],
            "text/html": [
              "<pre style=\"white-space:pre;overflow-x:auto;line-height:normal;font-family:Menlo,'DejaVu Sans Mono',consolas,'Courier New',monospace\">Epoch 4\n",
              "</pre>\n"
            ]
          },
          "metadata": {}
        },
        {
          "output_type": "display_data",
          "data": {
            "text/plain": [
              "loss 0.040 \n"
            ],
            "text/html": [
              "<pre style=\"white-space:pre;overflow-x:auto;line-height:normal;font-family:Menlo,'DejaVu Sans Mono',consolas,'Courier New',monospace\">loss 0.040 \n",
              "</pre>\n"
            ]
          },
          "metadata": {}
        },
        {
          "output_type": "display_data",
          "data": {
            "text/plain": [
              "\n"
            ],
            "text/html": [
              "<pre style=\"white-space:pre;overflow-x:auto;line-height:normal;font-family:Menlo,'DejaVu Sans Mono',consolas,'Courier New',monospace\">\n",
              "</pre>\n"
            ]
          },
          "metadata": {}
        },
        {
          "output_type": "display_data",
          "data": {
            "text/plain": [
              "val loss 0.048 \n"
            ],
            "text/html": [
              "<pre style=\"white-space:pre;overflow-x:auto;line-height:normal;font-family:Menlo,'DejaVu Sans Mono',consolas,'Courier New',monospace\">val loss 0.048 \n",
              "</pre>\n"
            ]
          },
          "metadata": {}
        },
        {
          "output_type": "display_data",
          "data": {
            "text/plain": [
              "\n"
            ],
            "text/html": [
              "<pre style=\"white-space:pre;overflow-x:auto;line-height:normal;font-family:Menlo,'DejaVu Sans Mono',consolas,'Courier New',monospace\">\n",
              "</pre>\n"
            ]
          },
          "metadata": {}
        },
        {
          "output_type": "display_data",
          "data": {
            "text/plain": [
              "-- Patience 1 out of 2.\n"
            ],
            "text/html": [
              "<pre style=\"white-space:pre;overflow-x:auto;line-height:normal;font-family:Menlo,'DejaVu Sans Mono',consolas,'Courier New',monospace\">-- Patience 1 out of 2.\n",
              "</pre>\n"
            ]
          },
          "metadata": {}
        },
        {
          "output_type": "display_data",
          "data": {
            "text/plain": [
              "\n"
            ],
            "text/html": [
              "<pre style=\"white-space:pre;overflow-x:auto;line-height:normal;font-family:Menlo,'DejaVu Sans Mono',consolas,'Courier New',monospace\">\n",
              "</pre>\n"
            ]
          },
          "metadata": {}
        },
        {
          "output_type": "display_data",
          "data": {
            "text/plain": [
              "Epoch 5\n"
            ],
            "text/html": [
              "<pre style=\"white-space:pre;overflow-x:auto;line-height:normal;font-family:Menlo,'DejaVu Sans Mono',consolas,'Courier New',monospace\">Epoch 5\n",
              "</pre>\n"
            ]
          },
          "metadata": {}
        },
        {
          "output_type": "display_data",
          "data": {
            "text/plain": [
              "loss 0.036 \n"
            ],
            "text/html": [
              "<pre style=\"white-space:pre;overflow-x:auto;line-height:normal;font-family:Menlo,'DejaVu Sans Mono',consolas,'Courier New',monospace\">loss 0.036 \n",
              "</pre>\n"
            ]
          },
          "metadata": {}
        },
        {
          "output_type": "display_data",
          "data": {
            "text/plain": [
              "\n"
            ],
            "text/html": [
              "<pre style=\"white-space:pre;overflow-x:auto;line-height:normal;font-family:Menlo,'DejaVu Sans Mono',consolas,'Courier New',monospace\">\n",
              "</pre>\n"
            ]
          },
          "metadata": {}
        },
        {
          "output_type": "display_data",
          "data": {
            "text/plain": [
              "val loss 0.039 \n"
            ],
            "text/html": [
              "<pre style=\"white-space:pre;overflow-x:auto;line-height:normal;font-family:Menlo,'DejaVu Sans Mono',consolas,'Courier New',monospace\">val loss 0.039 \n",
              "</pre>\n"
            ]
          },
          "metadata": {}
        },
        {
          "output_type": "display_data",
          "data": {
            "text/plain": [
              "\n"
            ],
            "text/html": [
              "<pre style=\"white-space:pre;overflow-x:auto;line-height:normal;font-family:Menlo,'DejaVu Sans Mono',consolas,'Courier New',monospace\">\n",
              "</pre>\n"
            ]
          },
          "metadata": {}
        },
        {
          "output_type": "display_data",
          "data": {
            "text/plain": [
              "Epoch 6\n"
            ],
            "text/html": [
              "<pre style=\"white-space:pre;overflow-x:auto;line-height:normal;font-family:Menlo,'DejaVu Sans Mono',consolas,'Courier New',monospace\">Epoch 6\n",
              "</pre>\n"
            ]
          },
          "metadata": {}
        },
        {
          "output_type": "display_data",
          "data": {
            "text/plain": [
              "loss 0.028 \n"
            ],
            "text/html": [
              "<pre style=\"white-space:pre;overflow-x:auto;line-height:normal;font-family:Menlo,'DejaVu Sans Mono',consolas,'Courier New',monospace\">loss 0.028 \n",
              "</pre>\n"
            ]
          },
          "metadata": {}
        },
        {
          "output_type": "display_data",
          "data": {
            "text/plain": [
              "\n"
            ],
            "text/html": [
              "<pre style=\"white-space:pre;overflow-x:auto;line-height:normal;font-family:Menlo,'DejaVu Sans Mono',consolas,'Courier New',monospace\">\n",
              "</pre>\n"
            ]
          },
          "metadata": {}
        },
        {
          "output_type": "display_data",
          "data": {
            "text/plain": [
              "val loss 0.037 \n"
            ],
            "text/html": [
              "<pre style=\"white-space:pre;overflow-x:auto;line-height:normal;font-family:Menlo,'DejaVu Sans Mono',consolas,'Courier New',monospace\">val loss 0.037 \n",
              "</pre>\n"
            ]
          },
          "metadata": {}
        },
        {
          "output_type": "display_data",
          "data": {
            "text/plain": [
              "\n"
            ],
            "text/html": [
              "<pre style=\"white-space:pre;overflow-x:auto;line-height:normal;font-family:Menlo,'DejaVu Sans Mono',consolas,'Courier New',monospace\">\n",
              "</pre>\n"
            ]
          },
          "metadata": {}
        },
        {
          "output_type": "display_data",
          "data": {
            "text/plain": [
              "Epoch 7\n"
            ],
            "text/html": [
              "<pre style=\"white-space:pre;overflow-x:auto;line-height:normal;font-family:Menlo,'DejaVu Sans Mono',consolas,'Courier New',monospace\">Epoch 7\n",
              "</pre>\n"
            ]
          },
          "metadata": {}
        },
        {
          "output_type": "display_data",
          "data": {
            "text/plain": [
              "loss 0.025 \n"
            ],
            "text/html": [
              "<pre style=\"white-space:pre;overflow-x:auto;line-height:normal;font-family:Menlo,'DejaVu Sans Mono',consolas,'Courier New',monospace\">loss 0.025 \n",
              "</pre>\n"
            ]
          },
          "metadata": {}
        },
        {
          "output_type": "display_data",
          "data": {
            "text/plain": [
              "\n"
            ],
            "text/html": [
              "<pre style=\"white-space:pre;overflow-x:auto;line-height:normal;font-family:Menlo,'DejaVu Sans Mono',consolas,'Courier New',monospace\">\n",
              "</pre>\n"
            ]
          },
          "metadata": {}
        },
        {
          "output_type": "display_data",
          "data": {
            "text/plain": [
              "val loss 0.038 \n"
            ],
            "text/html": [
              "<pre style=\"white-space:pre;overflow-x:auto;line-height:normal;font-family:Menlo,'DejaVu Sans Mono',consolas,'Courier New',monospace\">val loss 0.038 \n",
              "</pre>\n"
            ]
          },
          "metadata": {}
        },
        {
          "output_type": "display_data",
          "data": {
            "text/plain": [
              "\n"
            ],
            "text/html": [
              "<pre style=\"white-space:pre;overflow-x:auto;line-height:normal;font-family:Menlo,'DejaVu Sans Mono',consolas,'Courier New',monospace\">\n",
              "</pre>\n"
            ]
          },
          "metadata": {}
        },
        {
          "output_type": "display_data",
          "data": {
            "text/plain": [
              "-- Patience 2 out of 2.\n"
            ],
            "text/html": [
              "<pre style=\"white-space:pre;overflow-x:auto;line-height:normal;font-family:Menlo,'DejaVu Sans Mono',consolas,'Courier New',monospace\">-- Patience 2 out of 2.\n",
              "</pre>\n"
            ]
          },
          "metadata": {}
        },
        {
          "output_type": "display_data",
          "data": {
            "text/plain": [
              "\n"
            ],
            "text/html": [
              "<pre style=\"white-space:pre;overflow-x:auto;line-height:normal;font-family:Menlo,'DejaVu Sans Mono',consolas,'Courier New',monospace\">\n",
              "</pre>\n"
            ]
          },
          "metadata": {}
        },
        {
          "output_type": "display_data",
          "data": {
            "text/plain": [
              "Epoch 8\n"
            ],
            "text/html": [
              "<pre style=\"white-space:pre;overflow-x:auto;line-height:normal;font-family:Menlo,'DejaVu Sans Mono',consolas,'Courier New',monospace\">Epoch 8\n",
              "</pre>\n"
            ]
          },
          "metadata": {}
        },
        {
          "output_type": "display_data",
          "data": {
            "text/plain": [
              "loss 0.021 \n"
            ],
            "text/html": [
              "<pre style=\"white-space:pre;overflow-x:auto;line-height:normal;font-family:Menlo,'DejaVu Sans Mono',consolas,'Courier New',monospace\">loss 0.021 \n",
              "</pre>\n"
            ]
          },
          "metadata": {}
        },
        {
          "output_type": "display_data",
          "data": {
            "text/plain": [
              "\n"
            ],
            "text/html": [
              "<pre style=\"white-space:pre;overflow-x:auto;line-height:normal;font-family:Menlo,'DejaVu Sans Mono',consolas,'Courier New',monospace\">\n",
              "</pre>\n"
            ]
          },
          "metadata": {}
        },
        {
          "output_type": "display_data",
          "data": {
            "text/plain": [
              "val loss 0.037 \n"
            ],
            "text/html": [
              "<pre style=\"white-space:pre;overflow-x:auto;line-height:normal;font-family:Menlo,'DejaVu Sans Mono',consolas,'Courier New',monospace\">val loss 0.037 \n",
              "</pre>\n"
            ]
          },
          "metadata": {}
        },
        {
          "output_type": "display_data",
          "data": {
            "text/plain": [
              "\n"
            ],
            "text/html": [
              "<pre style=\"white-space:pre;overflow-x:auto;line-height:normal;font-family:Menlo,'DejaVu Sans Mono',consolas,'Courier New',monospace\">\n",
              "</pre>\n"
            ]
          },
          "metadata": {}
        },
        {
          "output_type": "display_data",
          "data": {
            "text/plain": [
              "Epoch 9\n"
            ],
            "text/html": [
              "<pre style=\"white-space:pre;overflow-x:auto;line-height:normal;font-family:Menlo,'DejaVu Sans Mono',consolas,'Courier New',monospace\">Epoch 9\n",
              "</pre>\n"
            ]
          },
          "metadata": {}
        },
        {
          "output_type": "display_data",
          "data": {
            "text/plain": [
              "loss 0.017 \n"
            ],
            "text/html": [
              "<pre style=\"white-space:pre;overflow-x:auto;line-height:normal;font-family:Menlo,'DejaVu Sans Mono',consolas,'Courier New',monospace\">loss 0.017 \n",
              "</pre>\n"
            ]
          },
          "metadata": {}
        },
        {
          "output_type": "display_data",
          "data": {
            "text/plain": [
              "\n"
            ],
            "text/html": [
              "<pre style=\"white-space:pre;overflow-x:auto;line-height:normal;font-family:Menlo,'DejaVu Sans Mono',consolas,'Courier New',monospace\">\n",
              "</pre>\n"
            ]
          },
          "metadata": {}
        },
        {
          "output_type": "display_data",
          "data": {
            "text/plain": [
              "val loss 0.044 \n"
            ],
            "text/html": [
              "<pre style=\"white-space:pre;overflow-x:auto;line-height:normal;font-family:Menlo,'DejaVu Sans Mono',consolas,'Courier New',monospace\">val loss 0.044 \n",
              "</pre>\n"
            ]
          },
          "metadata": {}
        },
        {
          "output_type": "display_data",
          "data": {
            "text/plain": [
              "\n"
            ],
            "text/html": [
              "<pre style=\"white-space:pre;overflow-x:auto;line-height:normal;font-family:Menlo,'DejaVu Sans Mono',consolas,'Courier New',monospace\">\n",
              "</pre>\n"
            ]
          },
          "metadata": {}
        },
        {
          "output_type": "display_data",
          "data": {
            "text/plain": [],
            "text/html": [
              "<pre style=\"white-space:pre;overflow-x:auto;line-height:normal;font-family:Menlo,'DejaVu Sans Mono',consolas,'Courier New',monospace\"></pre>\n"
            ]
          },
          "metadata": {}
        },
        {
          "output_type": "display_data",
          "data": {
            "text/plain": [
              "\n"
            ],
            "text/html": [
              "<pre style=\"white-space:pre;overflow-x:auto;line-height:normal;font-family:Menlo,'DejaVu Sans Mono',consolas,'Courier New',monospace\">\n",
              "</pre>\n"
            ]
          },
          "metadata": {}
        }
      ]
    },
    {
      "cell_type": "code",
      "source": [
        "plt.plot(np.array(epoch_loss), 'r', np.array(val_epoch_loss), 'b')"
      ],
      "metadata": {
        "colab": {
          "base_uri": "https://localhost:8080/",
          "height": 300
        },
        "id": "ZJlX16lSp4af",
        "outputId": "afc0c2eb-8a23-49d7-ba24-9c453c16468b"
      },
      "execution_count": 31,
      "outputs": [
        {
          "output_type": "execute_result",
          "data": {
            "text/plain": [
              "[<matplotlib.lines.Line2D at 0x7f3f26afc090>,\n",
              " <matplotlib.lines.Line2D at 0x7f3f26af7b90>]"
            ]
          },
          "metadata": {},
          "execution_count": 31
        },
        {
          "output_type": "display_data",
          "data": {
            "text/plain": [
              "<Figure size 432x288 with 1 Axes>"
            ],
            "image/png": "[encoded data removed]"
          },
          "metadata": {
            "needs_background": "light"
          }
        }
      ]
    },
    {
      "cell_type": "code",
      "source": [
        "predictions = predict(trial_model, sentences)"
      ],
      "metadata": {
        "colab": {
          "base_uri": "https://localhost:8080/",
          "height": 33,
          "referenced_widgets": [
            "869c382fd3144fda89240896fc40577f",
            "4e5fe529e65a42dabd2bbd13fd5f490c"
          ]
        },
        "id": "Uu43rqIQoPNp",
        "outputId": "b5673c6e-2a77-48df-dec2-5ae2861ab582"
      },
      "execution_count": 40,
      "outputs": [
        {
          "output_type": "display_data",
          "data": {
            "text/plain": [
              "Output()"
            ],
            "application/vnd.jupyter.widget-view+json": {
              "version_major": 2,
              "version_minor": 0,
              "model_id": "869c382fd3144fda89240896fc40577f"
            }
          },
          "metadata": {}
        },
        {
          "output_type": "display_data",
          "data": {
            "text/plain": [],
            "text/html": [
              "<pre style=\"white-space:pre;overflow-x:auto;line-height:normal;font-family:Menlo,'DejaVu Sans Mono',consolas,'Courier New',monospace\"></pre>\n"
            ]
          },
          "metadata": {}
        },
        {
          "output_type": "display_data",
          "data": {
            "text/plain": [
              "\n"
            ],
            "text/html": [
              "<pre style=\"white-space:pre;overflow-x:auto;line-height:normal;font-family:Menlo,'DejaVu Sans Mono',consolas,'Courier New',monospace\">\n",
              "</pre>\n"
            ]
          },
          "metadata": {}
        }
      ]
    },
    {
      "cell_type": "code",
      "source": [
        "evaluate_argument_identification(labels, predictions, null_tag=\"_\")\n"
      ],
      "metadata": {
        "colab": {
          "base_uri": "https://localhost:8080/"
        },
        "id": "zHZBPAu1qsgf",
        "outputId": "56c43b6e-acf9-4ac2-f4bc-213ef3d1904a"
      },
      "execution_count": 41,
      "outputs": [
        {
          "output_type": "execute_result",
          "data": {
            "text/plain": [
              "{'true_positives': 4240,\n",
              " 'false_positives': 1038,\n",
              " 'false_negatives': 773,\n",
              " 'precision': 0.8033345964380447,\n",
              " 'recall': 0.8458009176142031,\n",
              " 'f1': 0.8240209892138763}"
            ]
          },
          "metadata": {},
          "execution_count": 41
        }
      ]
    },
    {
      "cell_type": "code",
      "source": [
        "evaluate_argument_classification(labels, predictions, null_tag=\"_\")"
      ],
      "metadata": {
        "colab": {
          "base_uri": "https://localhost:8080/"
        },
        "id": "0K9kOvV-nyhv",
        "outputId": "d332974f-fc85-4f06-aa4c-c6ad31aedded"
      },
      "execution_count": 42,
      "outputs": [
        {
          "output_type": "execute_result",
          "data": {
            "text/plain": [
              "{'true_positives': 4040,\n",
              " 'false_positives': 1238,\n",
              " 'false_negatives': 973,\n",
              " 'precision': 0.7654414550966275,\n",
              " 'recall': 0.8059046479154199,\n",
              " 'f1': 0.785152074628316}"
            ]
          },
          "metadata": {},
          "execution_count": 42
        }
      ]
    },
    {
      "cell_type": "code",
      "source": [
        "def get_confusion_matrix(labels, predictions):\n",
        "  lin_labels, lin_preds = [],[]\n",
        "  for sentence_id in labels:\n",
        "      gold = labels[sentence_id][\"roles\"]\n",
        "      pred = predictions[sentence_id][\"roles\"]\n",
        "      \n",
        "      predicate_indices = set(gold.keys()).union(pred.keys())\n",
        "      for idx in predicate_indices:\n",
        "        if idx in gold and idx in pred: #both contain\n",
        "          lin_labels.extend(gold[idx])\n",
        "          lin_preds.extend(pred[idx])\n",
        "  assert len(lin_labels)==len(lin_preds)\n",
        "  m = confusion_matrix(lin_labels, lin_preds, labels=tags)\n",
        "  return m"
      ],
      "metadata": {
        "id": "lFw35uMcTHN-"
      },
      "execution_count": 43,
      "outputs": []
    },
    {
      "cell_type": "code",
      "source": [
        "cf_matrix = get_confusion_matrix(labels, predictions)\n",
        "sns.set(font_scale=0.4) # for label size\n",
        "sns.set(rc={'figure.figsize':(20,8.27)})\n",
        "\n",
        "s = sns.heatmap(cf_matrix, annot=True,fmt=\"d\", annot_kws={\"size\": 8}, robust=True)\n",
        "s.set(xlabel='True Labels', ylabel='Predicated')\n",
        "\n",
        "plt.show()\n"
      ],
      "metadata": {
        "id": "6m7y5gO2rJe6",
        "colab": {
          "base_uri": "https://localhost:8080/",
          "height": 517
        },
        "outputId": "db86447e-e8bc-4e9f-a085-a0e5a3763757"
      },
      "execution_count": 36,
      "outputs": [
        {
          "output_type": "display_data",
          "data": {
            "text/plain": [
              "<Figure size 1440x595.44 with 2 Axes>"
            ],
            "image/png": "[encoded data removed]"
          },
          "metadata": {}
        }
      ]
    }
  ]
}