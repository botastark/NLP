{
  "cells": [
    {
      "cell_type": "markdown",
      "metadata": {
        "id": "GuFKZtvhtKZ7"
      },
      "source": [
        "# Download Import "
      ]
    },
    {
      "cell_type": "code",
      "execution_count": 1,
      "metadata": {
        "id": "RXhsgAZgtORM"
      },
      "outputs": [],
      "source": [
        "# !pip install Flask==2.0.3\n",
        "# !pip install requests==2.27.1\n",
        "# !pip install scikit-learn==1.0.2\n",
        "# !pip install numpy==1.21.5\n",
        "# !pip install tqdm==4.63.0\n",
        "# !pip install torch==1.9.0\n",
        "# !pip install rich==12.0.0\n"
      ]
    },
    {
      "cell_type": "code",
      "execution_count": 2,
      "metadata": {
        "colab": {
          "base_uri": "https://localhost:8080/"
        },
        "id": "TrR6zKRtgHZ4",
        "outputId": "307eb431-78da-49aa-fe8c-728b31ba9a04"
      },
      "outputs": [
        {
          "output_type": "stream",
          "name": "stdout",
          "text": [
            "Looking in indexes: https://pypi.org/simple, https://us-python.pkg.dev/colab-wheels/public/simple/\n",
            "Collecting transformers\n",
            "  Downloading transformers-4.21.3-py3-none-any.whl (4.7 MB)\n",
            "\u001b[K     |████████████████████████████████| 4.7 MB 4.2 MB/s \n",
            "\u001b[?25hRequirement already satisfied: filelock in /usr/local/lib/python3.7/dist-packages (from transformers) (3.8.0)\n",
            "Requirement already satisfied: requests in /usr/local/lib/python3.7/dist-packages (from transformers) (2.23.0)\n",
            "Requirement already satisfied: numpy>=1.17 in /usr/local/lib/python3.7/dist-packages (from transformers) (1.21.6)\n",
            "Collecting tokenizers!=0.11.3,<0.13,>=0.11.1\n",
            "  Downloading tokenizers-0.12.1-cp37-cp37m-manylinux_2_12_x86_64.manylinux2010_x86_64.whl (6.6 MB)\n",
            "\u001b[K     |████████████████████████████████| 6.6 MB 50.9 MB/s \n",
            "\u001b[?25hCollecting huggingface-hub<1.0,>=0.1.0\n",
            "  Downloading huggingface_hub-0.9.1-py3-none-any.whl (120 kB)\n",
            "\u001b[K     |████████████████████████████████| 120 kB 48.1 MB/s \n",
            "\u001b[?25hRequirement already satisfied: importlib-metadata in /usr/local/lib/python3.7/dist-packages (from transformers) (4.12.0)\n",
            "Requirement already satisfied: packaging>=20.0 in /usr/local/lib/python3.7/dist-packages (from transformers) (21.3)\n",
            "Requirement already satisfied: pyyaml>=5.1 in /usr/local/lib/python3.7/dist-packages (from transformers) (6.0)\n",
            "Requirement already satisfied: regex!=2019.12.17 in /usr/local/lib/python3.7/dist-packages (from transformers) (2022.6.2)\n",
            "Requirement already satisfied: tqdm>=4.27 in /usr/local/lib/python3.7/dist-packages (from transformers) (4.64.0)\n",
            "Requirement already satisfied: typing-extensions>=3.7.4.3 in /usr/local/lib/python3.7/dist-packages (from huggingface-hub<1.0,>=0.1.0->transformers) (4.1.1)\n",
            "Requirement already satisfied: pyparsing!=3.0.5,>=2.0.2 in /usr/local/lib/python3.7/dist-packages (from packaging>=20.0->transformers) (3.0.9)\n",
            "Requirement already satisfied: zipp>=0.5 in /usr/local/lib/python3.7/dist-packages (from importlib-metadata->transformers) (3.8.1)\n",
            "Requirement already satisfied: urllib3!=1.25.0,!=1.25.1,<1.26,>=1.21.1 in /usr/local/lib/python3.7/dist-packages (from requests->transformers) (1.24.3)\n",
            "Requirement already satisfied: chardet<4,>=3.0.2 in /usr/local/lib/python3.7/dist-packages (from requests->transformers) (3.0.4)\n",
            "Requirement already satisfied: certifi>=2017.4.17 in /usr/local/lib/python3.7/dist-packages (from requests->transformers) (2022.6.15)\n",
            "Requirement already satisfied: idna<3,>=2.5 in /usr/local/lib/python3.7/dist-packages (from requests->transformers) (2.10)\n",
            "Installing collected packages: tokenizers, huggingface-hub, transformers\n",
            "Successfully installed huggingface-hub-0.9.1 tokenizers-0.12.1 transformers-4.21.3\n"
          ]
        }
      ],
      "source": [
        "!pip install transformers"
      ]
    },
    {
      "cell_type": "code",
      "source": [
        "import transformers\n",
        "print(transformers.__version__)"
      ],
      "metadata": {
        "colab": {
          "base_uri": "https://localhost:8080/"
        },
        "id": "AM_VawHrak8Q",
        "outputId": "0cdacda8-5f2a-44da-d822-6beae4a35dc8"
      },
      "execution_count": 3,
      "outputs": [
        {
          "output_type": "stream",
          "name": "stdout",
          "text": [
            "4.21.3\n"
          ]
        }
      ]
    },
    {
      "cell_type": "code",
      "execution_count": 4,
      "metadata": {
        "colab": {
          "base_uri": "https://localhost:8080/"
        },
        "id": "g94A4g7dtbR8",
        "outputId": "a0f143a5-5296-4600-f248-0ddb6cea390f"
      },
      "outputs": [
        {
          "output_type": "stream",
          "name": "stdout",
          "text": [
            "Mounted at /content/drive\n",
            "Cloning into 'nlp2022-hw2'...\n",
            "remote: Enumerating objects: 49, done.\u001b[K\n",
            "remote: Counting objects: 100% (49/49), done.\u001b[K\n",
            "remote: Compressing objects: 100% (32/32), done.\u001b[K\n",
            "remote: Total 49 (delta 21), reused 42 (delta 15), pack-reused 0\u001b[K\n",
            "Unpacking objects: 100% (49/49), done.\n"
          ]
        }
      ],
      "source": [
        "from google.colab import drive\n",
        "drive.mount('/content/drive')\n",
        "\n",
        "!git clone https://github.com/SapienzaNLP/nlp2022-hw2.git"
      ]
    },
    {
      "cell_type": "code",
      "execution_count": 5,
      "metadata": {
        "colab": {
          "base_uri": "https://localhost:8080/"
        },
        "id": "FO8033X8r-zk",
        "outputId": "b86b7b38-0ba6-44db-bba8-0d7f4400d532"
      },
      "outputs": [
        {
          "output_type": "execute_result",
          "data": {
            "text/plain": [
              "True"
            ]
          },
          "metadata": {},
          "execution_count": 5
        }
      ],
      "source": [
        "import json\n",
        "import random\n",
        "import numpy as np\n",
        "import torch\n",
        "import os\n",
        "from typing import List\n",
        "import matplotlib.pyplot as plt\n",
        "\n",
        "from torch.utils.data import DataLoader\n",
        "from tqdm import tqdm\n",
        "\n",
        "torch.cuda.is_available()"
      ]
    },
    {
      "cell_type": "code",
      "execution_count": 6,
      "metadata": {
        "id": "x_uOYJgmtoCE"
      },
      "outputs": [],
      "source": [
        "project_path = '/content/drive/MyDrive/Colab Notebooks/NLP HW2'\n",
        "en_train_path = os.path.join(project_path, 'data_hw2', 'EN', 'train.json')\n",
        "en_dev_path = os.path.join(project_path, 'data_hw2', 'EN', 'dev.json')"
      ]
    },
    {
      "cell_type": "code",
      "execution_count": 7,
      "metadata": {
        "colab": {
          "base_uri": "https://localhost:8080/"
        },
        "id": "oMF8vULAtjbJ",
        "outputId": "98e55e8b-7cc6-4eb1-d3d3-ac26bdb38548"
      },
      "outputs": [
        {
          "output_type": "stream",
          "name": "stdout",
          "text": [
            "cuda\n"
          ]
        }
      ],
      "source": [
        "SEED = 1234\n",
        "\n",
        "random.seed(SEED)\n",
        "np.random.seed(SEED)\n",
        "torch.manual_seed(SEED)\n",
        "torch.random.manual_seed(SEED)\n",
        "torch.backends.cudnn.deterministic = True\n",
        "\n",
        "device = 'cuda' if torch.cuda.is_available() else 'cpu'\n",
        "print(device)"
      ]
    },
    {
      "cell_type": "markdown",
      "metadata": {
        "id": "jd8s3IsXf8zF"
      },
      "source": [
        "## BERT params\n",
        "\n",
        "\n"
      ]
    },
    {
      "cell_type": "code",
      "execution_count": 8,
      "metadata": {
        "id": "O4J27kVwgAxK"
      },
      "outputs": [],
      "source": [
        "from transformers import AutoTokenizer, AutoModel\n",
        "import torch.nn.functional as F\n",
        "from transformers import AlbertTokenizerFast, AlbertForTokenClassification\n",
        "from transformers import AutoModelForTokenClassification"
      ]
    },
    {
      "cell_type": "code",
      "execution_count": 9,
      "metadata": {
        "id": "ZGKWqQFMtA5-",
        "colab": {
          "base_uri": "https://localhost:8080/",
          "height": 113,
          "referenced_widgets": [
            "70c00294b16e451cbdc7d8e29d4210ae",
            "fa9981993dee4b74b3d2c0330a7dcb5f",
            "9e89dd23b25949dabd62167400d9fb25",
            "af486bd0413c4816b9a11e7c62a1b22b",
            "b4dd850fa5fe4095bf31dc901baf6318",
            "b35d616c976948ab9aaad7ec8382921a",
            "af85b33460c34564b77fa514c19b5316",
            "20195a6852a64179a219fa6ff69a44b0",
            "f679736192554501b1663598abdb7f08",
            "c189da4a1abd456d9ca6164f4baa6b41",
            "fb5aee1583f947aca08231ea7d36ca28",
            "1600b4ad71f342eebf240bd816a84af0",
            "116c7a2f61a1490d9c0b472ab7f7b244",
            "b3df5ecb6e924d09824d239fbdcac919",
            "04581988eccd41fdbda3f1292c22618e",
            "cd35dc92f2264f39bfbd364eb13f5cd1",
            "7776c48cb62a48849974f7de18822292",
            "521192dad50b410088f718512f551188",
            "ec311eb62da6473a8fb1ff0d9906779d",
            "6dd0bbc174ac48ac9bab79ea5260996e",
            "2397c3a16527479db172c5fbee480e06",
            "a07ce63a96c54e0c9a77359cd08630c2",
            "a20ff9c4cd324c8191b9346c8d6a66fc",
            "4587dfa83c034a73815b8f0c76bfaa3a",
            "c847f71d2cfd4e7897c2f1b592cf8b89",
            "3e178d06dc474cdfa649711952c05a6f",
            "14007276bc3c460498edd6ce6310f4de",
            "89cc27cac7294e549bd745c8a5dc7119",
            "58b5dd6f1ed54cf9a35617bf43bb06f4",
            "e33c9dafa9f14ae09ff70bccefe659e7",
            "335d3dc03b5b450ba3390ca879802e75",
            "097ffb2c76354ed8a5120b612623b741",
            "ebd1813d07b2407093f5cd505cea93fb"
          ]
        },
        "outputId": "3e3d0b83-eaf2-41ea-8e7d-083dd6fe106e"
      },
      "outputs": [
        {
          "output_type": "display_data",
          "data": {
            "text/plain": [
              "Downloading spiece.model:   0%|          | 0.00/742k [00:00<?, ?B/s]"
            ],
            "application/vnd.jupyter.widget-view+json": {
              "version_major": 2,
              "version_minor": 0,
              "model_id": "70c00294b16e451cbdc7d8e29d4210ae"
            }
          },
          "metadata": {}
        },
        {
          "output_type": "display_data",
          "data": {
            "text/plain": [
              "Downloading tokenizer.json:   0%|          | 0.00/1.25M [00:00<?, ?B/s]"
            ],
            "application/vnd.jupyter.widget-view+json": {
              "version_major": 2,
              "version_minor": 0,
              "model_id": "1600b4ad71f342eebf240bd816a84af0"
            }
          },
          "metadata": {}
        },
        {
          "output_type": "display_data",
          "data": {
            "text/plain": [
              "Downloading config.json:   0%|          | 0.00/684 [00:00<?, ?B/s]"
            ],
            "application/vnd.jupyter.widget-view+json": {
              "version_major": 2,
              "version_minor": 0,
              "model_id": "a20ff9c4cd324c8191b9346c8d6a66fc"
            }
          },
          "metadata": {}
        }
      ],
      "source": [
        "# https://huggingface.co/transformers/v3.3.1/pretrained_models.html\n",
        "# https://huggingface.co/docs/transformers/model_doc/bert\n",
        "\n",
        "# checkpoint = \"bert-base-cased\" #bert-base-uncased\n",
        "checkpoint =\"albert-base-v1\"\n",
        "max_length = 32\n",
        "\n",
        "tokenizer = AlbertTokenizerFast.from_pretrained(checkpoint, add_prefix_space=True)\n",
        "# tokenizer = AutoTokenizer.from_pretrained(checkpoint)"
      ]
    },
    {
      "cell_type": "code",
      "execution_count": 10,
      "metadata": {
        "id": "wa0mTKLEj0WS"
      },
      "outputs": [],
      "source": [
        "from transformers import DataCollatorForTokenClassification\n",
        "\n",
        "data_collator = DataCollatorForTokenClassification(tokenizer=tokenizer)\n"
      ]
    },
    {
      "cell_type": "markdown",
      "metadata": {
        "id": "EACgy0Ynf4Ty"
      },
      "source": [
        "# Dataset"
      ]
    },
    {
      "cell_type": "code",
      "execution_count": 11,
      "metadata": {
        "id": "2CGtbjFnuhNj"
      },
      "outputs": [],
      "source": [
        "# Taken from utils.read_dataset\n",
        "def read_dataset(path: str):\n",
        "    with open(path) as f:\n",
        "        dataset = json.load(f)\n",
        "\n",
        "    sentences, labels = {}, {}\n",
        "    for sentence_id, sentence in dataset.items():\n",
        "        sentence_id = sentence_id\n",
        "        sentences[sentence_id] = {\n",
        "            \"words\": sentence[\"words\"],\n",
        "            \"lemmas\": sentence[\"lemmas\"],\n",
        "            \"pos_tags\": sentence[\"pos_tags\"],\n",
        "            \"dependency_heads\": [int(head) for head in sentence[\"dependency_heads\"]],\n",
        "            \"dependency_relations\": sentence[\"dependency_relations\"],\n",
        "            \"predicates\": sentence[\"predicates\"],\n",
        "        }\n",
        "\n",
        "        labels[sentence_id] = {\n",
        "            \"predicates\": sentence[\"predicates\"],\n",
        "            \"roles\": {int(p): r for p, r in sentence[\"roles\"].items()}\n",
        "            if \"roles\" in sentence\n",
        "            else dict(),\n",
        "        }\n",
        "        \n",
        "    return sentences, labels"
      ]
    },
    {
      "cell_type": "code",
      "execution_count": 12,
      "metadata": {
        "id": "Ixtx3pE-eXdQ"
      },
      "outputs": [],
      "source": [
        "# Reading trainig data to ensure that we will have all the tags\n",
        "sentences, labels = read_dataset(en_train_path)\n",
        "\n",
        "role_tags = set()\n",
        "for sent_id in labels:\n",
        "  roles = list(labels[sent_id]['roles'].values())\n",
        "  for sent in roles:\n",
        "    for role in sent:\n",
        "      role_tags.add(role)\n",
        "role_tags.add('[PAD]')\n",
        "tags = list(role_tags)\n",
        "tags.sort()\n",
        "\n",
        "\n",
        "# dictionary and id conversion for tags \n",
        "id2tag_dict = {i: key for i, key in enumerate(tags)}\n",
        "tag2id_dict = {key: value for value, key in id2tag_dict.items()}\n",
        "\n",
        "\n",
        "\n",
        "def tags2ids(labels: List[List]) -> List[List]:\n",
        "  return [[tag2id_dict[label] for label in label_sent] for label_sent in labels]\n",
        "def tags2ids_(labels: List) -> List[List]:\n",
        "  for label in labels:\n",
        "    if not label in tag2id_dict:\n",
        "      print(label)\n",
        "      return []\n",
        "  return [tag2id_dict[label] for label in labels]\n",
        "\n",
        "def ids2tags(label_ids: List[List]) -> List[List]:\n",
        "  return [[id2tag_dict[id] for id in ids] for ids in label_ids]"
      ]
    },
    {
      "cell_type": "code",
      "execution_count": 13,
      "metadata": {
        "id": "iUV8l81ek91f"
      },
      "outputs": [],
      "source": [
        "# from the predicate senses(input to the 34 tasks), receiving predicate positions and predicate words\n",
        "def get_predicate_tokens(sentence):\n",
        "  predicates = list(sentence[\"predicates\"])\n",
        "  predicate_words = []\n",
        "  predicate_pos = []\n",
        "  for pos, pred in enumerate(predicates):\n",
        "    if pred != '_':\n",
        "      predicate_words.append(sentence['words'][pos])\n",
        "      predicate_pos.append(pos)\n",
        "  return predicate_words, predicate_pos"
      ]
    },
    {
      "cell_type": "code",
      "execution_count": 26,
      "metadata": {
        "id": "7-UkL2utuavU"
      },
      "outputs": [],
      "source": [
        "# make align argument classes (as a sentence) for each predicate and convert them into their ids\n",
        "def get_true_labels_for_classification(roles, n_words) -> List:\n",
        "\n",
        "  if not type(roles) is dict: #if no predicate, return a list of pad ids\n",
        "    return [[0]*n_words]\n",
        "\n",
        "  args_per_predicates = []\n",
        "  \n",
        "  for pred in roles.keys():#for each predicate collect arguments' ids\n",
        "    args_per_predicates.append(tags2ids_(roles[pred]))\n",
        "\n",
        "  if args_per_predicates==[]:#if no argument for a predicate\n",
        "    args_per_predicates = [[0]*n_words]\n",
        "  return args_per_predicates"
      ]
    },
    {
      "cell_type": "code",
      "source": [
        "# Tokenizer function for sentence as a list of words and predicate word together as\n",
        "# [CLS] sentence [SEP] predicate [SEP]\n",
        "def tokenize_funct(sentence, predicate_word):\n",
        "    return tokenizer.encode_plus(text=sentence[\"words\"],text_pair = [predicate_word], is_split_into_words=True, padding = 'max_length', truncation=True, max_length=max_length)\n",
        "\n",
        "    # return tokenizer.encode_plus(text=sentence[\"words\"],text_pair = [predicate_word], is_split_into_words=True, padding = True, truncation=True)# , max_length=max_length)"
      ],
      "metadata": {
        "id": "JrcDiORpgILT"
      },
      "execution_count": 15,
      "outputs": []
    },
    {
      "cell_type": "code",
      "source": [
        "# As output of BERT tokenizer might get bigger than original sentence length (play->play, ##ing)\n",
        "# function aligns each label with their associates tokens\n",
        "\n",
        "# modified from https://huggingface.co/docs/transformers/tasks/token_classification\n",
        "\n",
        "def tokenize_and_align_labels(sentence, predicate_word, predicate_pos, label = None):\n",
        "    tokenized_inputs = tokenize_funct(sentence, predicate_word)\n",
        "    word_ids = tokenized_inputs.word_ids()  # Map tokens to their respective word.\n",
        "    previous_word_idx = None\n",
        "    label_ids = []\n",
        "    pred_ind = []\n",
        "    for word_idx in word_ids:  # Set the special tokens to -100.\n",
        "        if word_idx is None:\n",
        "            label_ids.append(-100)\n",
        "            pred_ind.append(0)\n",
        "        else:\n",
        "            if word_idx == predicate_pos:\n",
        "                pred_ind.append(1)\n",
        "            else:\n",
        "                pred_ind.append(0)\n",
        "            if label!=None:\n",
        "              if word_idx != previous_word_idx:  # Only label the first token of a given word.\n",
        "                  label_ids.append(label[word_idx])\n",
        "              else:\n",
        "                  label_ids.append(-100)\n",
        "              \n",
        "        previous_word_idx = word_idx\n",
        "    if label!=None:\n",
        "      tokenized_inputs[\"labels\"] = label_ids\n",
        "    tokenized_inputs[\"verb_indicator\"] = pred_ind\n",
        "    return tokenized_inputs"
      ],
      "metadata": {
        "id": "CDVLXhSP8pwv"
      },
      "execution_count": 16,
      "outputs": []
    },
    {
      "cell_type": "code",
      "execution_count": 17,
      "metadata": {
        "id": "-Lsgco8nkkWG"
      },
      "outputs": [],
      "source": [
        "# Dataset class\n",
        "class Dataset(torch.utils.data.Dataset):\n",
        "  \n",
        "    def __init__(self, dataset_path: str):\n",
        "        self.x = []\n",
        "        self.build(dataset_path)\n",
        "\n",
        "    def __len__(self):\n",
        "        return len(self.x)\n",
        "\n",
        "    def __getitem__(self, idx):\n",
        "        return self.x[idx]\n",
        "\n",
        "    def build(self, dataset_path: str) -> None:\n",
        "        sentences, labels = read_dataset(dataset_path)\n",
        "        \n",
        "        for sentence_id in sentences:\n",
        "          sentence = sentences[sentence_id]\n",
        "          label = labels[sentence_id]\n",
        "          args = get_true_labels_for_classification(label[\"roles\"], len(sentence[\"words\"]))\n",
        "        \n",
        "          predicate_words, predicate_pos = get_predicate_tokens(sentence)\n",
        "          # in case of empty predicate\n",
        "          if predicate_words == []:\n",
        "            predicate_words = ['[PAD]']\n",
        "\n",
        "          for pred, pos, arg in zip(predicate_words, predicate_pos, args):\n",
        "            \n",
        "            tokenized_inputs = tokenize_and_align_labels(sentence, pred,pos, arg)\n",
        "            self.x.append(tokenized_inputs)\n",
        "            last = self.x[-1]\n",
        "\n",
        "        print(\"{} sentences in original\".format(len(sentences)))\n",
        "        print(\"{} sentences with duplicates\". format(len(self.x)))\n"
      ]
    },
    {
      "cell_type": "markdown",
      "metadata": {
        "id": "6bTMUDhEupBC"
      },
      "source": [
        "# Model"
      ]
    },
    {
      "cell_type": "code",
      "execution_count": 18,
      "metadata": {
        "id": "ViqkgXYLzXLC"
      },
      "outputs": [],
      "source": [
        "# the model architecture is taken from SimpleBERT paper\n",
        "\n",
        "class ArgClassModule(torch.nn.Module):\n",
        "    def __init__(self, \n",
        "                 hparams,\n",
        "                 *args, **kwargs) -> None:\n",
        "        super().__init__()\n",
        "\n",
        "        self.num_labels = hparams.num_labels\n",
        "        # layers AutoModel\n",
        "        self.bert_model = AlbertForTokenClassification.from_pretrained(hparams.language_model_name, output_hidden_states = True )\n",
        "        # self.bert_model = AutoModel.from_pretrained(hparams.language_model_name, output_hidden_states = True )\n",
        "\n",
        "        if not hparams.fine_tune_lm:\n",
        "            for param in self.bert_model.parameters():\n",
        "                param.requires_grad = False\n",
        "        self.dropout = torch.nn.Dropout(0.2)\n",
        "\n",
        "        self.predicate_embedder = torch.nn.Embedding(2, hparams.predicate_emb_dim)\n",
        "        self.LSTM = torch.nn.LSTM(self.bert_model.config.hidden_size + hparams.predicate_emb_dim, hparams.recurrent_hidden_layer_size, batch_first=True, bidirectional=True)\n",
        "        \n",
        "        self.linear1 = torch.nn.Linear(2*hparams.recurrent_hidden_layer_size, hparams.mlp_hidden_size)\n",
        "        self.linear2 = torch.nn.Linear(hparams.mlp_hidden_size, self.num_labels)\n",
        "        self.sigmoid = torch.nn.Sigmoid()\n",
        "\n",
        "        # self.classifier = torch.nn.Linear(\n",
        "            # self.bert_model.config.hidden_size, hparams.num_labels, bias=False\n",
        "        # )\n",
        "\n",
        "    def forward(\n",
        "        self,\n",
        "        input_ids: torch.Tensor = None,\n",
        "        attention_mask: torch.Tensor = None,\n",
        "        token_type_ids: torch.Tensor = None,\n",
        "        labels: torch.Tensor = None,\n",
        "        verb_indicator: torch.Tensor = None,\n",
        "        compute_predictions: bool = False,\n",
        "        compute_loss: bool = True,\n",
        "        *args,\n",
        "        **kwargs,\n",
        "    ) -> torch.Tensor:\n",
        "        # group model inputs and pass to the model\n",
        "        model_kwargs = {\n",
        "          \"input_ids\": input_ids, \n",
        "          \"attention_mask\": attention_mask\n",
        "        }\n",
        "        # not every model supports token_type_ids\n",
        "        if token_type_ids != None :\n",
        "          model_kwargs[\"token_type_ids\"] = token_type_ids\n",
        "\n",
        "\n",
        "        transformers_outputs = self.bert_model(input_ids = input_ids, \n",
        "                                               token_type_ids = verb_indicator, \n",
        "                                               attention_mask = attention_mask,)\n",
        "       \n",
        "        transformers_outputs_sum = self.dropout(transformers_outputs.hidden_states[-1])\n",
        "\n",
        "        predicate_embedding = self.predicate_embedder(verb_indicator)\n",
        "        embedded_text_input = torch.cat([self.dropout(transformers_outputs_sum), predicate_embedding], 2)\n",
        "        batch_size, sequence_length, _ = embedded_text_input.size()\n",
        "        recurrent_output, (hidden_text, _) = self.LSTM(embedded_text_input)\n",
        "        recurrent_output = recurrent_output.view(batch_size, sequence_length, 2, hidden_text.shape[-1])\n",
        "        fwd_output = recurrent_output[:, :, 0, :]\n",
        "        back_output = recurrent_output[:, :, 1, :]\n",
        "        recurrent_combined = torch.cat((fwd_output, back_output), 2)\n",
        "        lin1 = self.linear1(recurrent_combined)\n",
        "        logits = self.linear2(self.sigmoid(lin1))\n",
        "        # logits = self.classifier(transformers_outputs_sum)\n",
        "        output = {\"logits\": logits}\n",
        "        \n",
        "        if compute_predictions:\n",
        "            predictions = logits.argmax(dim=-1)\n",
        "            output[\"predictions\"] = predictions\n",
        "\n",
        "        if compute_loss and labels is not None:\n",
        "            output[\"loss\"] = self.compute_loss(logits, labels)\n",
        "\n",
        "        return output\n",
        "\n",
        "    def compute_loss(\n",
        "        self, logits: torch.Tensor, labels: torch.Tensor\n",
        "    ) -> torch.Tensor:\n",
        "        \"\"\"\n",
        "        Compute the loss of the model.\n",
        "        Args:\n",
        "            logits (`torch.Tensor`):\n",
        "                The logits of the model.\n",
        "            labels (`torch.Tensor`):\n",
        "                The labels of the model.\n",
        "        Returns:\n",
        "            obj:`torch.Tensor`: The loss of the model.\n",
        "        \"\"\"\n",
        "        return F.cross_entropy(\n",
        "            logits.view(-1, self.num_labels),\n",
        "            labels.view(-1),\n",
        "            ignore_index=-100,\n",
        "        )\n",
        "\n"
      ]
    },
    {
      "cell_type": "code",
      "execution_count": 19,
      "metadata": {
        "id": "NMlFbmgpu0NP"
      },
      "outputs": [],
      "source": [
        "project_folder = '/content/nlp2022-hw2'\n",
        "state_dict_path = os.path.join( project_folder, 'model' )"
      ]
    },
    {
      "cell_type": "markdown",
      "metadata": {
        "id": "FzFvlJFtonxz"
      },
      "source": [
        "## Evaluate and predict func"
      ]
    },
    {
      "cell_type": "code",
      "execution_count": 20,
      "metadata": {
        "id": "Sq86BWN-wlKd"
      },
      "outputs": [],
      "source": [
        "# Taken from evaluate.py\n",
        "def evaluate_argument_identification(labels, predictions, null_tag=\"_\"):\n",
        "    true_positives, false_positives, false_negatives = 0, 0, 0\n",
        "    for sentence_id in labels:\n",
        "        gold = labels[sentence_id][\"roles\"]\n",
        "        pred = predictions[sentence_id][\"roles\"]\n",
        "        predicate_indices = set(gold.keys()).union(pred.keys())\n",
        "        for idx in predicate_indices:\n",
        "            if idx in gold and idx not in pred:\n",
        "                false_negatives += sum(1 for role in gold[idx] if role != null_tag)\n",
        "            elif idx in pred and idx not in gold:\n",
        "                false_positives += sum(1 for role in pred[idx] if role != null_tag)\n",
        "            else:  # idx in both gold and pred\n",
        "                for r_g, r_p in zip(gold[idx], pred[idx]):\n",
        "                    if r_g != null_tag and r_p != null_tag:\n",
        "                        true_positives += 1\n",
        "                    elif r_g != null_tag and r_p == null_tag:\n",
        "                        false_negatives += 1\n",
        "                    elif r_g == null_tag and r_p != null_tag:\n",
        "                        false_positives += 1\n",
        "    \n",
        "    precision = true_positives / (true_positives + false_positives)\n",
        "    recall = true_positives / (true_positives + false_negatives)\n",
        "    f1 = 2 * (precision * recall) / (precision + recall)\n",
        "    return {\n",
        "        \"true_positives\": true_positives,\n",
        "        \"false_positives\": false_positives,\n",
        "        \"false_negatives\": false_negatives,\n",
        "        \"precision\": precision,\n",
        "        \"recall\": recall,\n",
        "        \"f1\": f1,\n",
        "    }"
      ]
    },
    {
      "cell_type": "code",
      "execution_count": 21,
      "metadata": {
        "id": "_bPSciV4Jwzr"
      },
      "outputs": [],
      "source": [
        "\n",
        "def predict(model_to_predict, weights_path, sentences, device):\n",
        "\n",
        "  model_to_predict.load_state_dict(torch.load(weights_path, map_location=torch.device(device)))\n",
        "  sentences_pbar = tqdm(enumerate(sentences), total=len(sentences))\n",
        "  \n",
        "  predictions = {}\n",
        "  for i, sentence_id in sentences_pbar:\n",
        "    roles = {}\n",
        "    sentence = sentences[sentence_id]\n",
        "    x = []\n",
        "  \n",
        "    predicate_words, predicate_pos = get_predicate_tokens(sentence)\n",
        "    # in case of empty predicate\n",
        "    if predicate_words==[]:\n",
        "      predicate_words = ['[PAD]']\n",
        "\n",
        "    for pred, pos in zip(predicate_words, predicate_pos):\n",
        "      tokenized_inputs = tokenize_and_align_labels(sentence, pred, pos)\n",
        "      x.append(tokenized_inputs)\n",
        "      batch = {k: torch.unsqueeze(torch.tensor(v), 0).to(device) for k, v in tokenized_inputs.items()}\n",
        "      \n",
        "      Y_hat = model_to_predict.forward(**batch, compute_predictions = True)\n",
        "      output = torch.squeeze(Y_hat['predictions'],0)\n",
        "      tags_per_sent =  ids2tags([[ (tag_dist).item() for tag_dist in output]])[0]\n",
        "\n",
        "      lab = postprocess(tags_per_sent, tokenized_inputs.word_ids())\n",
        "      roles[pos]=lab\n",
        "      \n",
        "     \n",
        "    predictions[sentence_id] = {\"roles\": roles}\n",
        "  return predictions"
      ]
    },
    {
      "cell_type": "code",
      "execution_count": 22,
      "metadata": {
        "id": "9neiP36_JqZa"
      },
      "outputs": [],
      "source": [
        "\n",
        "def evaluate_argument_classification(labels, predictions, null_tag=\"_\"):\n",
        "\n",
        "    true_positives, false_positives, false_negatives = 0, 0, 0\n",
        "    for sentence_id in labels:\n",
        "        gold = labels[sentence_id][\"roles\"]\n",
        "        pred = predictions[sentence_id][\"roles\"]\n",
        "        predicate_indices = set(gold.keys()).union(pred.keys())\n",
        "\n",
        "        for idx in predicate_indices:\n",
        "            if idx in gold and idx not in pred:\n",
        "                false_negatives += sum(1 for role in gold[idx] if role != null_tag)\n",
        "            elif idx in pred and idx not in gold:\n",
        "                false_positives += sum(1 for role in pred[idx] if role != null_tag)\n",
        "            else:  # idx in both gold and pred\n",
        "                for r_g, r_p in zip(gold[idx], pred[idx]):\n",
        "                    if r_g != null_tag and r_p != null_tag:\n",
        "                        if r_g == r_p:\n",
        "                            true_positives += 1\n",
        "                        else:\n",
        "                            false_positives += 1\n",
        "                            false_negatives += 1\n",
        "                    elif r_g != null_tag and r_p == null_tag:\n",
        "                        false_negatives += 1\n",
        "                    elif r_g == null_tag and r_p != null_tag:\n",
        "                        false_positives += 1\n",
        "    precision = true_positives / (true_positives + false_positives)\n",
        "    recall = true_positives / (true_positives + false_negatives)\n",
        "    f1 = 2 * (precision * recall) / (precision + recall)\n",
        "    return {\n",
        "        \"true_positives\": true_positives,\n",
        "        \"false_positives\": false_positives,\n",
        "        \"false_negatives\": false_negatives,\n",
        "        \"precision\": precision,\n",
        "        \"recall\": recall,\n",
        "        \"f1\": f1,\n",
        "    }"
      ]
    },
    {
      "cell_type": "code",
      "source": [
        "def postprocess(prediction, word_ids):\n",
        "\n",
        "    previous_word_idx = None\n",
        "    label_ids = []\n",
        "\n",
        "    for i, word_idx in enumerate(word_ids):  # Set the special tokens to -100.\n",
        "        # print(tokenizer.decode(sentence[i]))\n",
        "        # if word_idx is None:\n",
        "            # label_ids.append(-100)\n",
        "        # print(\"word ids: {}\".format(word_idx))\n",
        "        if not word_idx is None:\n",
        "        \n",
        "            if word_idx != previous_word_idx:  # Only label the first token of a given word.\n",
        "                # print(\"word:{}\\tword ids: {}\\tprev_idx:{}\\tprediction:{}\".format(tokenizer.decode(sentence[i]),word_idx,previous_word_idx, prediction[i] ))\n",
        "                label_ids.append(prediction[i])\n",
        "            # else:\n",
        "                # label_ids.append(-100)\n",
        "        previous_word_idx = word_idx\n",
        "    return label_ids"
      ],
      "metadata": {
        "id": "-uyWOBI2wvJI"
      },
      "execution_count": 23,
      "outputs": []
    },
    {
      "cell_type": "markdown",
      "metadata": {
        "id": "JBGKawZ9orpG"
      },
      "source": [
        "## Train"
      ]
    },
    {
      "cell_type": "code",
      "execution_count": 24,
      "metadata": {
        "id": "LGKRzLId8hmD"
      },
      "outputs": [],
      "source": [
        "def train(device, model: torch.nn.Module, epochs: int, optimizer: torch.optim.Optimizer):\n",
        "    epoch_loss = list()\n",
        "    val_epoch_loss = list()\n",
        "\n",
        "    project_folder = '/content/nlp2022-hw2'\n",
        "    state_dict_path = os.path.join( project_folder, 'model' )\n",
        "\n",
        "    early_stopping = True\n",
        "    early_stopping_mode = 'loss'\n",
        "    early_stopping_patience = 2\n",
        "    patience_counter = 0\n",
        "\n",
        "\n",
        "    number_of_training_steps = len([b for b in train_dataloader])\n",
        "\n",
        "\n",
        "    for epoch in range(epochs):  # loop over the dataset multiple times\n",
        "      batch_pbar = tqdm(enumerate(train_dataloader), total=number_of_training_steps)\n",
        "      losses = []\n",
        "      for i, batch in batch_pbar:\n",
        "        # zero the parameter gradients\n",
        "        optimizer.zero_grad()\n",
        "        # forward + backward + optimize\n",
        "        # move batch data to the specified device\n",
        "        batch = {k: v.to(device) for k, v in batch.items()}\n",
        "        \n",
        "        # ** operator converts batch items in named arguments, (e.g. 'input_ids', 'attention_mask_ids' ...), taken as input by the model forward pass\n",
        "        outputs = model(**batch)\n",
        "        loss = outputs[\"loss\"]\n",
        "        loss.backward()\n",
        "        optimizer.step()\n",
        "        batch_pbar.set_postfix({'loss': loss.item()})\n",
        "        losses.append(loss.item())\n",
        "      epoch_loss.append(torch.mean(torch.tensor(losses)))\n",
        "      print('loss {:.3f} \\n'.format( epoch_loss[-1]))\n",
        "      torch.save(model.state_dict(),\n",
        "             os.path.join(state_dict_path, 'state_{}.pt'.format(epoch)))\n",
        "\n",
        "\n",
        "      number_of_validation_steps = len([b for b in dev_dataloader])\n",
        "      eval_pbar = tqdm(enumerate(dev_dataloader), total=number_of_validation_steps)\n",
        "      val_losses = []\n",
        "      for i, batch in eval_pbar:\n",
        "          with torch.no_grad():\n",
        "              batch = {k: v.to(device) for k, v in batch.items()}\n",
        "              # ** operator converts batch items in named arguments, (e.g. 'input_ids', 'attention_mask_ids' ...), taken as input by the model forward pass\n",
        "              outputs = model(**batch, compute_predictions = True)\n",
        "              val_loss = outputs[\"loss\"]\n",
        "              batch_pbar.set_postfix({'loss': loss.item()})\n",
        "              val_losses.append(val_loss.item())\n",
        "      val_epoch_loss.append(torch.mean(torch.tensor(val_losses)))\n",
        "      print('val loss {:.3f} \\n'.format( val_epoch_loss[-1]))\n",
        "      # to  stop training before overfitting\n",
        "      if early_stopping:\n",
        "          # choose metric to monitor\n",
        "          stop = early_stopping_mode == 'loss' and epoch > 0 and val_epoch_loss[-1] >= val_epoch_loss[-2]\n",
        "          # set patience\n",
        "          if stop:\n",
        "              if patience_counter >= early_stopping_patience:\n",
        "                  # print('Early stop.')\n",
        "                  break\n",
        "              else:\n",
        "                  patience_counter += 1\n",
        "                  print(f'-- Patience {patience_counter} out of {early_stopping_patience}.\\n')\n",
        "    return epoch_loss, val_epoch_loss"
      ]
    },
    {
      "cell_type": "markdown",
      "metadata": {
        "id": "a5oIyghrouAE"
      },
      "source": [
        "# eXperiment"
      ]
    },
    {
      "cell_type": "code",
      "source": [
        "train_dataset = Dataset(en_train_path)\n",
        "dev_dataset = Dataset(en_dev_path)"
      ],
      "metadata": {
        "id": "vXZN_rUovRGL",
        "colab": {
          "base_uri": "https://localhost:8080/"
        },
        "outputId": "8320114b-3ea8-415c-8b32-28a2995cd600"
      },
      "execution_count": 28,
      "outputs": [
        {
          "output_type": "stream",
          "name": "stdout",
          "text": [
            "5501 sentences in original\n",
            "12562 sentences with duplicates\n",
            "1026 sentences in original\n",
            "2553 sentences with duplicates\n"
          ]
        }
      ]
    },
    {
      "cell_type": "code",
      "execution_count": 37,
      "metadata": {
        "id": "YlpAtMMdzzAy"
      },
      "outputs": [],
      "source": [
        "batch_size = 8\n",
        "\n",
        "num_workers = 2\n",
        "# optim\n",
        "learning_rate = 1e-4\n",
        "weight_decay = 0.0\n",
        "transformer_learning_rate = 5e-5\n",
        "transformer_weight_decay = 0.0001\n",
        "# training\n",
        "epochs = 1\n",
        "device = \"cuda\" if torch.cuda.is_available() else \"cpu\""
      ]
    },
    {
      "cell_type": "code",
      "execution_count": 30,
      "metadata": {
        "id": "wZ54ZceBkInt"
      },
      "outputs": [],
      "source": [
        "train_dataloader = DataLoader(\n",
        "    train_dataset, shuffle=True, batch_size=batch_size, collate_fn=data_collator\n",
        ")\n",
        "dev_dataloader = DataLoader(\n",
        "    dev_dataset, shuffle=True, batch_size=batch_size, collate_fn=data_collator\n",
        ")"
      ]
    },
    {
      "cell_type": "code",
      "source": [
        "checkpoint"
      ],
      "metadata": {
        "colab": {
          "base_uri": "https://localhost:8080/",
          "height": 35
        },
        "id": "vmYGwJUzgYhr",
        "outputId": "86fa8f9b-5039-47a0-85d9-e90df42751ec"
      },
      "execution_count": 31,
      "outputs": [
        {
          "output_type": "execute_result",
          "data": {
            "text/plain": [
              "'albert-base-v1'"
            ],
            "application/vnd.google.colaboratory.intrinsic+json": {
              "type": "string"
            }
          },
          "metadata": {},
          "execution_count": 31
        }
      ]
    },
    {
      "cell_type": "markdown",
      "source": [
        "## Model def"
      ],
      "metadata": {
        "id": "SKLPd8LHq4sT"
      }
    },
    {
      "cell_type": "code",
      "source": [
        "\n",
        "class HyperParams():\n",
        "\n",
        "    language_model_name = checkpoint\n",
        "    num_labels = 28\n",
        "    recurrent_hidden_layer_size = 768\n",
        "    mlp_hidden_size = 300\n",
        "    predicate_emb_dim = 10\n",
        "    fine_tune_lm = True\n",
        "\n",
        "    batch_size = 8\n",
        "    max_length = 32\n",
        "\n",
        "hparams = HyperParams()"
      ],
      "metadata": {
        "id": "y-B8ILbAvSm3"
      },
      "execution_count": 32,
      "outputs": []
    },
    {
      "cell_type": "code",
      "execution_count": 33,
      "metadata": {
        "id": "wUKIr8rqTRPv",
        "colab": {
          "base_uri": "https://localhost:8080/",
          "height": 954,
          "referenced_widgets": [
            "e7ef9bf1f45a40fea53844115898b2ec",
            "5528e824a1cb426b87744e10be27f69f",
            "57d7a3e344044c2388f3103b8b81276f",
            "0f14e9def9194358b629ecc1fba66236",
            "b8524a1a41db42fe8fd028a206285489",
            "f20a662a73a1471e904ae1004aa0248a",
            "d2f39586b20944f1adbe57f06c45e782",
            "dae76e7e3e46489184c3a976afdd0b62",
            "6884fc9772b740eeb05cb20a7fc25d36",
            "c03c128cbb0448b092cafdeda813ca4e",
            "6776ab3183014eeba82a1fb1b9e0a766"
          ]
        },
        "outputId": "479d9e21-848b-42af-fa6e-f3045a8d3d48"
      },
      "outputs": [
        {
          "output_type": "display_data",
          "data": {
            "text/plain": [
              "Downloading pytorch_model.bin:   0%|          | 0.00/45.2M [00:00<?, ?B/s]"
            ],
            "application/vnd.jupyter.widget-view+json": {
              "version_major": 2,
              "version_minor": 0,
              "model_id": "e7ef9bf1f45a40fea53844115898b2ec"
            }
          },
          "metadata": {}
        },
        {
          "output_type": "stream",
          "name": "stderr",
          "text": [
            "Some weights of the model checkpoint at albert-base-v1 were not used when initializing AlbertForTokenClassification: ['predictions.LayerNorm.bias', 'predictions.dense.bias', 'predictions.bias', 'predictions.decoder.weight', 'predictions.LayerNorm.weight', 'predictions.dense.weight', 'predictions.decoder.bias']\n",
            "- This IS expected if you are initializing AlbertForTokenClassification from the checkpoint of a model trained on another task or with another architecture (e.g. initializing a BertForSequenceClassification model from a BertForPreTraining model).\n",
            "- This IS NOT expected if you are initializing AlbertForTokenClassification from the checkpoint of a model that you expect to be exactly identical (initializing a BertForSequenceClassification model from a BertForSequenceClassification model).\n",
            "Some weights of AlbertForTokenClassification were not initialized from the model checkpoint at albert-base-v1 and are newly initialized: ['classifier.bias', 'classifier.weight']\n",
            "You should probably TRAIN this model on a down-stream task to be able to use it for predictions and inference.\n"
          ]
        },
        {
          "output_type": "execute_result",
          "data": {
            "text/plain": [
              "ArgClassModule(\n",
              "  (bert_model): AlbertForTokenClassification(\n",
              "    (albert): AlbertModel(\n",
              "      (embeddings): AlbertEmbeddings(\n",
              "        (word_embeddings): Embedding(30000, 128, padding_idx=0)\n",
              "        (position_embeddings): Embedding(512, 128)\n",
              "        (token_type_embeddings): Embedding(2, 128)\n",
              "        (LayerNorm): LayerNorm((128,), eps=1e-12, elementwise_affine=True)\n",
              "        (dropout): Dropout(p=0.1, inplace=False)\n",
              "      )\n",
              "      (encoder): AlbertTransformer(\n",
              "        (embedding_hidden_mapping_in): Linear(in_features=128, out_features=768, bias=True)\n",
              "        (albert_layer_groups): ModuleList(\n",
              "          (0): AlbertLayerGroup(\n",
              "            (albert_layers): ModuleList(\n",
              "              (0): AlbertLayer(\n",
              "                (full_layer_layer_norm): LayerNorm((768,), eps=1e-12, elementwise_affine=True)\n",
              "                (attention): AlbertAttention(\n",
              "                  (query): Linear(in_features=768, out_features=768, bias=True)\n",
              "                  (key): Linear(in_features=768, out_features=768, bias=True)\n",
              "                  (value): Linear(in_features=768, out_features=768, bias=True)\n",
              "                  (attention_dropout): Dropout(p=0.1, inplace=False)\n",
              "                  (output_dropout): Dropout(p=0.1, inplace=False)\n",
              "                  (dense): Linear(in_features=768, out_features=768, bias=True)\n",
              "                  (LayerNorm): LayerNorm((768,), eps=1e-12, elementwise_affine=True)\n",
              "                )\n",
              "                (ffn): Linear(in_features=768, out_features=3072, bias=True)\n",
              "                (ffn_output): Linear(in_features=3072, out_features=768, bias=True)\n",
              "                (activation): GELUActivation()\n",
              "                (dropout): Dropout(p=0.1, inplace=False)\n",
              "              )\n",
              "            )\n",
              "          )\n",
              "        )\n",
              "      )\n",
              "    )\n",
              "    (dropout): Dropout(p=0.1, inplace=False)\n",
              "    (classifier): Linear(in_features=768, out_features=2, bias=True)\n",
              "  )\n",
              "  (dropout): Dropout(p=0.2, inplace=False)\n",
              "  (predicate_embedder): Embedding(2, 10)\n",
              "  (LSTM): LSTM(778, 768, batch_first=True, bidirectional=True)\n",
              "  (linear1): Linear(in_features=1536, out_features=300, bias=True)\n",
              "  (linear2): Linear(in_features=300, out_features=28, bias=True)\n",
              "  (sigmoid): Sigmoid()\n",
              ")"
            ]
          },
          "metadata": {},
          "execution_count": 33
        }
      ],
      "source": [
        "# model = ArgClassModule(checkpoint, len(tag2id_dict.keys()),recurrent_hidden_layer_size=768, mlp_hidden_size=300,  fine_tune_lm = True)\n",
        "model = ArgClassModule(hparams)\n",
        "\n",
        "model.to(device)\n"
      ]
    },
    {
      "cell_type": "code",
      "execution_count": 34,
      "metadata": {
        "id": "fLkj2YQSzj2k"
      },
      "outputs": [],
      "source": [
        "from torch.optim import Adam\n",
        "\n",
        "# optimizer\n",
        "groups = [\n",
        "  {\n",
        "    \"params\": model.linear1.parameters(),\n",
        "    \"lr\": learning_rate,\n",
        "    \"weight_decay\": weight_decay,\n",
        "  },\n",
        "  {\n",
        "    \"params\": model.linear2.parameters(),\n",
        "    \"lr\": learning_rate,\n",
        "    \"weight_decay\": weight_decay,\n",
        "  },\n",
        "  # {\n",
        "  #   \"params\": model.classifier.parameters(),\n",
        "  #   \"lr\": learning_rate,\n",
        "  #   \"weight_decay\": weight_decay,\n",
        "  # },\n",
        "  {\n",
        "    \"params\": model.bert_model.parameters(),\n",
        "    \"lr\": transformer_learning_rate,\n",
        "    \"weight_decay\": transformer_weight_decay,\n",
        "  },\n",
        "]\n",
        "optimizer = Adam(groups)"
      ]
    },
    {
      "cell_type": "code",
      "source": [
        "torch.cuda.empty_cache()"
      ],
      "metadata": {
        "id": "q1mFPGaPWdRI"
      },
      "execution_count": 35,
      "outputs": []
    },
    {
      "cell_type": "markdown",
      "source": [
        "## Run Train"
      ],
      "metadata": {
        "id": "57_YfjKLimxS"
      }
    },
    {
      "cell_type": "code",
      "execution_count": 38,
      "metadata": {
        "colab": {
          "base_uri": "https://localhost:8080/"
        },
        "id": "9b4QMi6O--YQ",
        "outputId": "9b32930f-a99e-474a-cefb-c28e6fd1d334"
      },
      "outputs": [
        {
          "output_type": "stream",
          "name": "stderr",
          "text": [
            "100%|██████████| 1571/1571 [01:18<00:00, 20.14it/s, loss=0.129]\n"
          ]
        },
        {
          "output_type": "stream",
          "name": "stdout",
          "text": [
            "loss 0.297 \n",
            "\n"
          ]
        },
        {
          "output_type": "stream",
          "name": "stderr",
          "text": [
            "100%|██████████| 320/320 [00:04<00:00, 68.18it/s]"
          ]
        },
        {
          "output_type": "stream",
          "name": "stdout",
          "text": [
            "val loss 0.160 \n",
            "\n"
          ]
        },
        {
          "output_type": "stream",
          "name": "stderr",
          "text": [
            "\n"
          ]
        }
      ],
      "source": [
        "epoch_loss, val_epoch_loss = train(device, model, epochs = epochs, optimizer = optimizer)"
      ]
    },
    {
      "cell_type": "code",
      "execution_count": 39,
      "metadata": {
        "colab": {
          "base_uri": "https://localhost:8080/",
          "height": 300
        },
        "id": "bdCHVudDjR7E",
        "outputId": "af829e01-a7c9-4716-ef9c-f2ec611f475b"
      },
      "outputs": [
        {
          "output_type": "execute_result",
          "data": {
            "text/plain": [
              "[<matplotlib.lines.Line2D at 0x7fbf77ab3790>,\n",
              " <matplotlib.lines.Line2D at 0x7fbf77242950>]"
            ]
          },
          "metadata": {},
          "execution_count": 39
        },
        {
          "output_type": "display_data",
          "data": {
            "text/plain": [
              "<Figure size 432x288 with 1 Axes>"
            ],
            "image/png": "[encoded data removed]"
          },
          "metadata": {
            "needs_background": "light"
          }
        }
      ],
      "source": [
        "plt.plot(np.array(epoch_loss), 'r', np.array(val_epoch_loss), 'b')"
      ]
    },
    {
      "cell_type": "markdown",
      "metadata": {
        "id": "4VL6_j0nMku9"
      },
      "source": [
        "## Predict"
      ]
    },
    {
      "cell_type": "code",
      "execution_count": 40,
      "metadata": {
        "colab": {
          "base_uri": "https://localhost:8080/"
        },
        "id": "E1TWp-G2JyHD",
        "outputId": "67e8996e-6af0-4891-f4fa-dd478ded91c6"
      },
      "outputs": [
        {
          "output_type": "stream",
          "name": "stderr",
          "text": [
            "100%|██████████| 1026/1026 [00:30<00:00, 33.56it/s]\n"
          ]
        }
      ],
      "source": [
        "sentences, labels = read_dataset(en_dev_path)\n",
        "state_path = os.path.join(state_dict_path, 'state_0.pt')\n",
        "predictions = predict(model, state_path, sentences, device)"
      ]
    },
    {
      "cell_type": "code",
      "execution_count": 41,
      "metadata": {
        "colab": {
          "base_uri": "https://localhost:8080/"
        },
        "id": "vbv0j3Yqbq2s",
        "outputId": "47714474-5cf7-458f-c3da-4a294e9fa46a"
      },
      "outputs": [
        {
          "output_type": "execute_result",
          "data": {
            "text/plain": [
              "{'true_positives': 3488,\n",
              " 'false_positives': 505,\n",
              " 'false_negatives': 716,\n",
              " 'precision': 0.8735286751815677,\n",
              " 'recall': 0.829686013320647,\n",
              " 'f1': 0.8510430645358057}"
            ]
          },
          "metadata": {},
          "execution_count": 41
        }
      ],
      "source": [
        "evaluate_argument_identification(labels, predictions, null_tag=\"_\")\n"
      ]
    },
    {
      "cell_type": "code",
      "execution_count": 48,
      "metadata": {
        "colab": {
          "base_uri": "https://localhost:8080/"
        },
        "id": "jnqv6d5xjRPY",
        "outputId": "5a8a6fe2-1391-4138-8bd5-0ec681b099c6"
      },
      "outputs": [
        {
          "output_type": "execute_result",
          "data": {
            "text/plain": [
              "{'true_positives': 2074,\n",
              " 'false_positives': 1919,\n",
              " 'false_negatives': 2130,\n",
              " 'precision': 0.5194089656899574,\n",
              " 'recall': 0.4933396764985728,\n",
              " 'f1': 0.5060387946809809}"
            ]
          },
          "metadata": {},
          "execution_count": 48
        }
      ],
      "source": [
        "evaluate_argument_classification(labels, predictions, null_tag=\"_\")"
      ]
    },
    {
      "cell_type": "code",
      "source": [],
      "metadata": {
        "id": "uVyQd-sH5cAm"
      },
      "execution_count": 45,
      "outputs": []
    }
  ],
  "metadata": {
    "accelerator": "GPU",
    "colab": {
      "collapsed_sections": [
        "6bTMUDhEupBC",
        "JBGKawZ9orpG"
      ],
      "provenance": [],
      "toc_visible": true
    },
    "gpuClass": "standard",
    "kernelspec": {
      "display_name": "Python 3",
      "name": "python3"
    },
    "language_info": {
      "name": "python"
    },
    "widgets": {
      "application/vnd.jupyter.widget-state+json": {
        "70c00294b16e451cbdc7d8e29d4210ae": {
          "model_module": "@jupyter-widgets/controls",
          "model_name": "HBoxModel",
          "model_module_version": "1.5.0",
          "state": {
            "_dom_classes": [],
            "_model_module": "@jupyter-widgets/controls",
            "_model_module_version": "1.5.0",
            "_model_name": "HBoxModel",
            "_view_count": null,
            "_view_module": "@jupyter-widgets/controls",
            "_view_module_version": "1.5.0",
            "_view_name": "HBoxView",
            "box_style": "",
            "children": [
              "IPY_MODEL_fa9981993dee4b74b3d2c0330a7dcb5f",
              "IPY_MODEL_9e89dd23b25949dabd62167400d9fb25",
              "IPY_MODEL_af486bd0413c4816b9a11e7c62a1b22b"
            ],
            "layout": "IPY_MODEL_b4dd850fa5fe4095bf31dc901baf6318"
          }
        },
        "fa9981993dee4b74b3d2c0330a7dcb5f": {
          "model_module": "@jupyter-widgets/controls",
          "model_name": "HTMLModel",
          "model_module_version": "1.5.0",
          "state": {
            "_dom_classes": [],
            "_model_module": "@jupyter-widgets/controls",
            "_model_module_version": "1.5.0",
            "_model_name": "HTMLModel",
            "_view_count": null,
            "_view_module": "@jupyter-widgets/controls",
            "_view_module_version": "1.5.0",
            "_view_name": "HTMLView",
            "description": "",
            "description_tooltip": null,
            "layout": "IPY_MODEL_b35d616c976948ab9aaad7ec8382921a",
            "placeholder": "​",
            "style": "IPY_MODEL_af85b33460c34564b77fa514c19b5316",
            "value": "Downloading spiece.model: 100%"
          }
        },
        "9e89dd23b25949dabd62167400d9fb25": {
          "model_module": "@jupyter-widgets/controls",
          "model_name": "FloatProgressModel",
          "model_module_version": "1.5.0",
          "state": {
            "_dom_classes": [],
            "_model_module": "@jupyter-widgets/controls",
            "_model_module_version": "1.5.0",
            "_model_name": "FloatProgressModel",
            "_view_count": null,
            "_view_module": "@jupyter-widgets/controls",
            "_view_module_version": "1.5.0",
            "_view_name": "ProgressView",
            "bar_style": "success",
            "description": "",
            "description_tooltip": null,
            "layout": "IPY_MODEL_20195a6852a64179a219fa6ff69a44b0",
            "max": 760289,
            "min": 0,
            "orientation": "horizontal",
            "style": "IPY_MODEL_f679736192554501b1663598abdb7f08",
            "value": 760289
          }
        },
        "af486bd0413c4816b9a11e7c62a1b22b": {
          "model_module": "@jupyter-widgets/controls",
          "model_name": "HTMLModel",
          "model_module_version": "1.5.0",
          "state": {
            "_dom_classes": [],
            "_model_module": "@jupyter-widgets/controls",
            "_model_module_version": "1.5.0",
            "_model_name": "HTMLModel",
            "_view_count": null,
            "_view_module": "@jupyter-widgets/controls",
            "_view_module_version": "1.5.0",
            "_view_name": "HTMLView",
            "description": "",
            "description_tooltip": null,
            "layout": "IPY_MODEL_c189da4a1abd456d9ca6164f4baa6b41",
            "placeholder": "​",
            "style": "IPY_MODEL_fb5aee1583f947aca08231ea7d36ca28",
            "value": " 742k/742k [00:00&lt;00:00, 660kB/s]"
          }
        },
        "b4dd850fa5fe4095bf31dc901baf6318": {
          "model_module": "@jupyter-widgets/base",
          "model_name": "LayoutModel",
          "model_module_version": "1.2.0",
          "state": {
            "_model_module": "@jupyter-widgets/base",
            "_model_module_version": "1.2.0",
            "_model_name": "LayoutModel",
            "_view_count": null,
            "_view_module": "@jupyter-widgets/base",
            "_view_module_version": "1.2.0",
            "_view_name": "LayoutView",
            "align_content": null,
            "align_items": null,
            "align_self": null,
            "border": null,
            "bottom": null,
            "display": null,
            "flex": null,
            "flex_flow": null,
            "grid_area": null,
            "grid_auto_columns": null,
            "grid_auto_flow": null,
            "grid_auto_rows": null,
            "grid_column": null,
            "grid_gap": null,
            "grid_row": null,
            "grid_template_areas": null,
            "grid_template_columns": null,
            "grid_template_rows": null,
            "height": null,
            "justify_content": null,
            "justify_items": null,
            "left": null,
            "margin": null,
            "max_height": null,
            "max_width": null,
            "min_height": null,
            "min_width": null,
            "object_fit": null,
            "object_position": null,
            "order": null,
            "overflow": null,
            "overflow_x": null,
            "overflow_y": null,
            "padding": null,
            "right": null,
            "top": null,
            "visibility": null,
            "width": null
          }
        },
        "b35d616c976948ab9aaad7ec8382921a": {
          "model_module": "@jupyter-widgets/base",
          "model_name": "LayoutModel",
          "model_module_version": "1.2.0",
          "state": {
            "_model_module": "@jupyter-widgets/base",
            "_model_module_version": "1.2.0",
            "_model_name": "LayoutModel",
            "_view_count": null,
            "_view_module": "@jupyter-widgets/base",
            "_view_module_version": "1.2.0",
            "_view_name": "LayoutView",
            "align_content": null,
            "align_items": null,
            "align_self": null,
            "border": null,
            "bottom": null,
            "display": null,
            "flex": null,
            "flex_flow": null,
            "grid_area": null,
            "grid_auto_columns": null,
            "grid_auto_flow": null,
            "grid_auto_rows": null,
            "grid_column": null,
            "grid_gap": null,
            "grid_row": null,
            "grid_template_areas": null,
            "grid_template_columns": null,
            "grid_template_rows": null,
            "height": null,
            "justify_content": null,
            "justify_items": null,
            "left": null,
            "margin": null,
            "max_height": null,
            "max_width": null,
            "min_height": null,
            "min_width": null,
            "object_fit": null,
            "object_position": null,
            "order": null,
            "overflow": null,
            "overflow_x": null,
            "overflow_y": null,
            "padding": null,
            "right": null,
            "top": null,
            "visibility": null,
            "width": null
          }
        },
        "af85b33460c34564b77fa514c19b5316": {
          "model_module": "@jupyter-widgets/controls",
          "model_name": "DescriptionStyleModel",
          "model_module_version": "1.5.0",
          "state": {
            "_model_module": "@jupyter-widgets/controls",
            "_model_module_version": "1.5.0",
            "_model_name": "DescriptionStyleModel",
            "_view_count": null,
            "_view_module": "@jupyter-widgets/base",
            "_view_module_version": "1.2.0",
            "_view_name": "StyleView",
            "description_width": ""
          }
        },
        "20195a6852a64179a219fa6ff69a44b0": {
          "model_module": "@jupyter-widgets/base",
          "model_name": "LayoutModel",
          "model_module_version": "1.2.0",
          "state": {
            "_model_module": "@jupyter-widgets/base",
            "_model_module_version": "1.2.0",
            "_model_name": "LayoutModel",
            "_view_count": null,
            "_view_module": "@jupyter-widgets/base",
            "_view_module_version": "1.2.0",
            "_view_name": "LayoutView",
            "align_content": null,
            "align_items": null,
            "align_self": null,
            "border": null,
            "bottom": null,
            "display": null,
            "flex": null,
            "flex_flow": null,
            "grid_area": null,
            "grid_auto_columns": null,
            "grid_auto_flow": null,
            "grid_auto_rows": null,
            "grid_column": null,
            "grid_gap": null,
            "grid_row": null,
            "grid_template_areas": null,
            "grid_template_columns": null,
            "grid_template_rows": null,
            "height": null,
            "justify_content": null,
            "justify_items": null,
            "left": null,
            "margin": null,
            "max_height": null,
            "max_width": null,
            "min_height": null,
            "min_width": null,
            "object_fit": null,
            "object_position": null,
            "order": null,
            "overflow": null,
            "overflow_x": null,
            "overflow_y": null,
            "padding": null,
            "right": null,
            "top": null,
            "visibility": null,
            "width": null
          }
        },
        "f679736192554501b1663598abdb7f08": {
          "model_module": "@jupyter-widgets/controls",
          "model_name": "ProgressStyleModel",
          "model_module_version": "1.5.0",
          "state": {
            "_model_module": "@jupyter-widgets/controls",
            "_model_module_version": "1.5.0",
            "_model_name": "ProgressStyleModel",
            "_view_count": null,
            "_view_module": "@jupyter-widgets/base",
            "_view_module_version": "1.2.0",
            "_view_name": "StyleView",
            "bar_color": null,
            "description_width": ""
          }
        },
        "c189da4a1abd456d9ca6164f4baa6b41": {
          "model_module": "@jupyter-widgets/base",
          "model_name": "LayoutModel",
          "model_module_version": "1.2.0",
          "state": {
            "_model_module": "@jupyter-widgets/base",
            "_model_module_version": "1.2.0",
            "_model_name": "LayoutModel",
            "_view_count": null,
            "_view_module": "@jupyter-widgets/base",
            "_view_module_version": "1.2.0",
            "_view_name": "LayoutView",
            "align_content": null,
            "align_items": null,
            "align_self": null,
            "border": null,
            "bottom": null,
            "display": null,
            "flex": null,
            "flex_flow": null,
            "grid_area": null,
            "grid_auto_columns": null,
            "grid_auto_flow": null,
            "grid_auto_rows": null,
            "grid_column": null,
            "grid_gap": null,
            "grid_row": null,
            "grid_template_areas": null,
            "grid_template_columns": null,
            "grid_template_rows": null,
            "height": null,
            "justify_content": null,
            "justify_items": null,
            "left": null,
            "margin": null,
            "max_height": null,
            "max_width": null,
            "min_height": null,
            "min_width": null,
            "object_fit": null,
            "object_position": null,
            "order": null,
            "overflow": null,
            "overflow_x": null,
            "overflow_y": null,
            "padding": null,
            "right": null,
            "top": null,
            "visibility": null,
            "width": null
          }
        },
        "fb5aee1583f947aca08231ea7d36ca28": {
          "model_module": "@jupyter-widgets/controls",
          "model_name": "DescriptionStyleModel",
          "model_module_version": "1.5.0",
          "state": {
            "_model_module": "@jupyter-widgets/controls",
            "_model_module_version": "1.5.0",
            "_model_name": "DescriptionStyleModel",
            "_view_count": null,
            "_view_module": "@jupyter-widgets/base",
            "_view_module_version": "1.2.0",
            "_view_name": "StyleView",
            "description_width": ""
          }
        },
        "1600b4ad71f342eebf240bd816a84af0": {
          "model_module": "@jupyter-widgets/controls",
          "model_name": "HBoxModel",
          "model_module_version": "1.5.0",
          "state": {
            "_dom_classes": [],
            "_model_module": "@jupyter-widgets/controls",
            "_model_module_version": "1.5.0",
            "_model_name": "HBoxModel",
            "_view_count": null,
            "_view_module": "@jupyter-widgets/controls",
            "_view_module_version": "1.5.0",
            "_view_name": "HBoxView",
            "box_style": "",
            "children": [
              "IPY_MODEL_116c7a2f61a1490d9c0b472ab7f7b244",
              "IPY_MODEL_b3df5ecb6e924d09824d239fbdcac919",
              "IPY_MODEL_04581988eccd41fdbda3f1292c22618e"
            ],
            "layout": "IPY_MODEL_cd35dc92f2264f39bfbd364eb13f5cd1"
          }
        },
        "116c7a2f61a1490d9c0b472ab7f7b244": {
          "model_module": "@jupyter-widgets/controls",
          "model_name": "HTMLModel",
          "model_module_version": "1.5.0",
          "state": {
            "_dom_classes": [],
            "_model_module": "@jupyter-widgets/controls",
            "_model_module_version": "1.5.0",
            "_model_name": "HTMLModel",
            "_view_count": null,
            "_view_module": "@jupyter-widgets/controls",
            "_view_module_version": "1.5.0",
            "_view_name": "HTMLView",
            "description": "",
            "description_tooltip": null,
            "layout": "IPY_MODEL_7776c48cb62a48849974f7de18822292",
            "placeholder": "​",
            "style": "IPY_MODEL_521192dad50b410088f718512f551188",
            "value": "Downloading tokenizer.json: 100%"
          }
        },
        "b3df5ecb6e924d09824d239fbdcac919": {
          "model_module": "@jupyter-widgets/controls",
          "model_name": "FloatProgressModel",
          "model_module_version": "1.5.0",
          "state": {
            "_dom_classes": [],
            "_model_module": "@jupyter-widgets/controls",
            "_model_module_version": "1.5.0",
            "_model_name": "FloatProgressModel",
            "_view_count": null,
            "_view_module": "@jupyter-widgets/controls",
            "_view_module_version": "1.5.0",
            "_view_name": "ProgressView",
            "bar_style": "success",
            "description": "",
            "description_tooltip": null,
            "layout": "IPY_MODEL_ec311eb62da6473a8fb1ff0d9906779d",
            "max": 1312669,
            "min": 0,
            "orientation": "horizontal",
            "style": "IPY_MODEL_6dd0bbc174ac48ac9bab79ea5260996e",
            "value": 1312669
          }
        },
        "04581988eccd41fdbda3f1292c22618e": {
          "model_module": "@jupyter-widgets/controls",
          "model_name": "HTMLModel",
          "model_module_version": "1.5.0",
          "state": {
            "_dom_classes": [],
            "_model_module": "@jupyter-widgets/controls",
            "_model_module_version": "1.5.0",
            "_model_name": "HTMLModel",
            "_view_count": null,
            "_view_module": "@jupyter-widgets/controls",
            "_view_module_version": "1.5.0",
            "_view_name": "HTMLView",
            "description": "",
            "description_tooltip": null,
            "layout": "IPY_MODEL_2397c3a16527479db172c5fbee480e06",
            "placeholder": "​",
            "style": "IPY_MODEL_a07ce63a96c54e0c9a77359cd08630c2",
            "value": " 1.25M/1.25M [00:01&lt;00:00, 1.24MB/s]"
          }
        },
        "cd35dc92f2264f39bfbd364eb13f5cd1": {
          "model_module": "@jupyter-widgets/base",
          "model_name": "LayoutModel",
          "model_module_version": "1.2.0",
          "state": {
            "_model_module": "@jupyter-widgets/base",
            "_model_module_version": "1.2.0",
            "_model_name": "LayoutModel",
            "_view_count": null,
            "_view_module": "@jupyter-widgets/base",
            "_view_module_version": "1.2.0",
            "_view_name": "LayoutView",
            "align_content": null,
            "align_items": null,
            "align_self": null,
            "border": null,
            "bottom": null,
            "display": null,
            "flex": null,
            "flex_flow": null,
            "grid_area": null,
            "grid_auto_columns": null,
            "grid_auto_flow": null,
            "grid_auto_rows": null,
            "grid_column": null,
            "grid_gap": null,
            "grid_row": null,
            "grid_template_areas": null,
            "grid_template_columns": null,
            "grid_template_rows": null,
            "height": null,
            "justify_content": null,
            "justify_items": null,
            "left": null,
            "margin": null,
            "max_height": null,
            "max_width": null,
            "min_height": null,
            "min_width": null,
            "object_fit": null,
            "object_position": null,
            "order": null,
            "overflow": null,
            "overflow_x": null,
            "overflow_y": null,
            "padding": null,
            "right": null,
            "top": null,
            "visibility": null,
            "width": null
          }
        },
        "7776c48cb62a48849974f7de18822292": {
          "model_module": "@jupyter-widgets/base",
          "model_name": "LayoutModel",
          "model_module_version": "1.2.0",
          "state": {
            "_model_module": "@jupyter-widgets/base",
            "_model_module_version": "1.2.0",
            "_model_name": "LayoutModel",
            "_view_count": null,
            "_view_module": "@jupyter-widgets/base",
            "_view_module_version": "1.2.0",
            "_view_name": "LayoutView",
            "align_content": null,
            "align_items": null,
            "align_self": null,
            "border": null,
            "bottom": null,
            "display": null,
            "flex": null,
            "flex_flow": null,
            "grid_area": null,
            "grid_auto_columns": null,
            "grid_auto_flow": null,
            "grid_auto_rows": null,
            "grid_column": null,
            "grid_gap": null,
            "grid_row": null,
            "grid_template_areas": null,
            "grid_template_columns": null,
            "grid_template_rows": null,
            "height": null,
            "justify_content": null,
            "justify_items": null,
            "left": null,
            "margin": null,
            "max_height": null,
            "max_width": null,
            "min_height": null,
            "min_width": null,
            "object_fit": null,
            "object_position": null,
            "order": null,
            "overflow": null,
            "overflow_x": null,
            "overflow_y": null,
            "padding": null,
            "right": null,
            "top": null,
            "visibility": null,
            "width": null
          }
        },
        "521192dad50b410088f718512f551188": {
          "model_module": "@jupyter-widgets/controls",
          "model_name": "DescriptionStyleModel",
          "model_module_version": "1.5.0",
          "state": {
            "_model_module": "@jupyter-widgets/controls",
            "_model_module_version": "1.5.0",
            "_model_name": "DescriptionStyleModel",
            "_view_count": null,
            "_view_module": "@jupyter-widgets/base",
            "_view_module_version": "1.2.0",
            "_view_name": "StyleView",
            "description_width": ""
          }
        },
        "ec311eb62da6473a8fb1ff0d9906779d": {
          "model_module": "@jupyter-widgets/base",
          "model_name": "LayoutModel",
          "model_module_version": "1.2.0",
          "state": {
            "_model_module": "@jupyter-widgets/base",
            "_model_module_version": "1.2.0",
            "_model_name": "LayoutModel",
            "_view_count": null,
            "_view_module": "@jupyter-widgets/base",
            "_view_module_version": "1.2.0",
            "_view_name": "LayoutView",
            "align_content": null,
            "align_items": null,
            "align_self": null,
            "border": null,
            "bottom": null,
            "display": null,
            "flex": null,
            "flex_flow": null,
            "grid_area": null,
            "grid_auto_columns": null,
            "grid_auto_flow": null,
            "grid_auto_rows": null,
            "grid_column": null,
            "grid_gap": null,
            "grid_row": null,
            "grid_template_areas": null,
            "grid_template_columns": null,
            "grid_template_rows": null,
            "height": null,
            "justify_content": null,
            "justify_items": null,
            "left": null,
            "margin": null,
            "max_height": null,
            "max_width": null,
            "min_height": null,
            "min_width": null,
            "object_fit": null,
            "object_position": null,
            "order": null,
            "overflow": null,
            "overflow_x": null,
            "overflow_y": null,
            "padding": null,
            "right": null,
            "top": null,
            "visibility": null,
            "width": null
          }
        },
        "6dd0bbc174ac48ac9bab79ea5260996e": {
          "model_module": "@jupyter-widgets/controls",
          "model_name": "ProgressStyleModel",
          "model_module_version": "1.5.0",
          "state": {
            "_model_module": "@jupyter-widgets/controls",
            "_model_module_version": "1.5.0",
            "_model_name": "ProgressStyleModel",
            "_view_count": null,
            "_view_module": "@jupyter-widgets/base",
            "_view_module_version": "1.2.0",
            "_view_name": "StyleView",
            "bar_color": null,
            "description_width": ""
          }
        },
        "2397c3a16527479db172c5fbee480e06": {
          "model_module": "@jupyter-widgets/base",
          "model_name": "LayoutModel",
          "model_module_version": "1.2.0",
          "state": {
            "_model_module": "@jupyter-widgets/base",
            "_model_module_version": "1.2.0",
            "_model_name": "LayoutModel",
            "_view_count": null,
            "_view_module": "@jupyter-widgets/base",
            "_view_module_version": "1.2.0",
            "_view_name": "LayoutView",
            "align_content": null,
            "align_items": null,
            "align_self": null,
            "border": null,
            "bottom": null,
            "display": null,
            "flex": null,
            "flex_flow": null,
            "grid_area": null,
            "grid_auto_columns": null,
            "grid_auto_flow": null,
            "grid_auto_rows": null,
            "grid_column": null,
            "grid_gap": null,
            "grid_row": null,
            "grid_template_areas": null,
            "grid_template_columns": null,
            "grid_template_rows": null,
            "height": null,
            "justify_content": null,
            "justify_items": null,
            "left": null,
            "margin": null,
            "max_height": null,
            "max_width": null,
            "min_height": null,
            "min_width": null,
            "object_fit": null,
            "object_position": null,
            "order": null,
            "overflow": null,
            "overflow_x": null,
            "overflow_y": null,
            "padding": null,
            "right": null,
            "top": null,
            "visibility": null,
            "width": null
          }
        },
        "a07ce63a96c54e0c9a77359cd08630c2": {
          "model_module": "@jupyter-widgets/controls",
          "model_name": "DescriptionStyleModel",
          "model_module_version": "1.5.0",
          "state": {
            "_model_module": "@jupyter-widgets/controls",
            "_model_module_version": "1.5.0",
            "_model_name": "DescriptionStyleModel",
            "_view_count": null,
            "_view_module": "@jupyter-widgets/base",
            "_view_module_version": "1.2.0",
            "_view_name": "StyleView",
            "description_width": ""
          }
        },
        "a20ff9c4cd324c8191b9346c8d6a66fc": {
          "model_module": "@jupyter-widgets/controls",
          "model_name": "HBoxModel",
          "model_module_version": "1.5.0",
          "state": {
            "_dom_classes": [],
            "_model_module": "@jupyter-widgets/controls",
            "_model_module_version": "1.5.0",
            "_model_name": "HBoxModel",
            "_view_count": null,
            "_view_module": "@jupyter-widgets/controls",
            "_view_module_version": "1.5.0",
            "_view_name": "HBoxView",
            "box_style": "",
            "children": [
              "IPY_MODEL_4587dfa83c034a73815b8f0c76bfaa3a",
              "IPY_MODEL_c847f71d2cfd4e7897c2f1b592cf8b89",
              "IPY_MODEL_3e178d06dc474cdfa649711952c05a6f"
            ],
            "layout": "IPY_MODEL_14007276bc3c460498edd6ce6310f4de"
          }
        },
        "4587dfa83c034a73815b8f0c76bfaa3a": {
          "model_module": "@jupyter-widgets/controls",
          "model_name": "HTMLModel",
          "model_module_version": "1.5.0",
          "state": {
            "_dom_classes": [],
            "_model_module": "@jupyter-widgets/controls",
            "_model_module_version": "1.5.0",
            "_model_name": "HTMLModel",
            "_view_count": null,
            "_view_module": "@jupyter-widgets/controls",
            "_view_module_version": "1.5.0",
            "_view_name": "HTMLView",
            "description": "",
            "description_tooltip": null,
            "layout": "IPY_MODEL_89cc27cac7294e549bd745c8a5dc7119",
            "placeholder": "​",
            "style": "IPY_MODEL_58b5dd6f1ed54cf9a35617bf43bb06f4",
            "value": "Downloading config.json: 100%"
          }
        },
        "c847f71d2cfd4e7897c2f1b592cf8b89": {
          "model_module": "@jupyter-widgets/controls",
          "model_name": "FloatProgressModel",
          "model_module_version": "1.5.0",
          "state": {
            "_dom_classes": [],
            "_model_module": "@jupyter-widgets/controls",
            "_model_module_version": "1.5.0",
            "_model_name": "FloatProgressModel",
            "_view_count": null,
            "_view_module": "@jupyter-widgets/controls",
            "_view_module_version": "1.5.0",
            "_view_name": "ProgressView",
            "bar_style": "success",
            "description": "",
            "description_tooltip": null,
            "layout": "IPY_MODEL_e33c9dafa9f14ae09ff70bccefe659e7",
            "max": 684,
            "min": 0,
            "orientation": "horizontal",
            "style": "IPY_MODEL_335d3dc03b5b450ba3390ca879802e75",
            "value": 684
          }
        },
        "3e178d06dc474cdfa649711952c05a6f": {
          "model_module": "@jupyter-widgets/controls",
          "model_name": "HTMLModel",
          "model_module_version": "1.5.0",
          "state": {
            "_dom_classes": [],
            "_model_module": "@jupyter-widgets/controls",
            "_model_module_version": "1.5.0",
            "_model_name": "HTMLModel",
            "_view_count": null,
            "_view_module": "@jupyter-widgets/controls",
            "_view_module_version": "1.5.0",
            "_view_name": "HTMLView",
            "description": "",
            "description_tooltip": null,
            "layout": "IPY_MODEL_097ffb2c76354ed8a5120b612623b741",
            "placeholder": "​",
            "style": "IPY_MODEL_ebd1813d07b2407093f5cd505cea93fb",
            "value": " 684/684 [00:00&lt;00:00, 7.35kB/s]"
          }
        },
        "14007276bc3c460498edd6ce6310f4de": {
          "model_module": "@jupyter-widgets/base",
          "model_name": "LayoutModel",
          "model_module_version": "1.2.0",
          "state": {
            "_model_module": "@jupyter-widgets/base",
            "_model_module_version": "1.2.0",
            "_model_name": "LayoutModel",
            "_view_count": null,
            "_view_module": "@jupyter-widgets/base",
            "_view_module_version": "1.2.0",
            "_view_name": "LayoutView",
            "align_content": null,
            "align_items": null,
            "align_self": null,
            "border": null,
            "bottom": null,
            "display": null,
            "flex": null,
            "flex_flow": null,
            "grid_area": null,
            "grid_auto_columns": null,
            "grid_auto_flow": null,
            "grid_auto_rows": null,
            "grid_column": null,
            "grid_gap": null,
            "grid_row": null,
            "grid_template_areas": null,
            "grid_template_columns": null,
            "grid_template_rows": null,
            "height": null,
            "justify_content": null,
            "justify_items": null,
            "left": null,
            "margin": null,
            "max_height": null,
            "max_width": null,
            "min_height": null,
            "min_width": null,
            "object_fit": null,
            "object_position": null,
            "order": null,
            "overflow": null,
            "overflow_x": null,
            "overflow_y": null,
            "padding": null,
            "right": null,
            "top": null,
            "visibility": null,
            "width": null
          }
        },
        "89cc27cac7294e549bd745c8a5dc7119": {
          "model_module": "@jupyter-widgets/base",
          "model_name": "LayoutModel",
          "model_module_version": "1.2.0",
          "state": {
            "_model_module": "@jupyter-widgets/base",
            "_model_module_version": "1.2.0",
            "_model_name": "LayoutModel",
            "_view_count": null,
            "_view_module": "@jupyter-widgets/base",
            "_view_module_version": "1.2.0",
            "_view_name": "LayoutView",
            "align_content": null,
            "align_items": null,
            "align_self": null,
            "border": null,
            "bottom": null,
            "display": null,
            "flex": null,
            "flex_flow": null,
            "grid_area": null,
            "grid_auto_columns": null,
            "grid_auto_flow": null,
            "grid_auto_rows": null,
            "grid_column": null,
            "grid_gap": null,
            "grid_row": null,
            "grid_template_areas": null,
            "grid_template_columns": null,
            "grid_template_rows": null,
            "height": null,
            "justify_content": null,
            "justify_items": null,
            "left": null,
            "margin": null,
            "max_height": null,
            "max_width": null,
            "min_height": null,
            "min_width": null,
            "object_fit": null,
            "object_position": null,
            "order": null,
            "overflow": null,
            "overflow_x": null,
            "overflow_y": null,
            "padding": null,
            "right": null,
            "top": null,
            "visibility": null,
            "width": null
          }
        },
        "58b5dd6f1ed54cf9a35617bf43bb06f4": {
          "model_module": "@jupyter-widgets/controls",
          "model_name": "DescriptionStyleModel",
          "model_module_version": "1.5.0",
          "state": {
            "_model_module": "@jupyter-widgets/controls",
            "_model_module_version": "1.5.0",
            "_model_name": "DescriptionStyleModel",
            "_view_count": null,
            "_view_module": "@jupyter-widgets/base",
            "_view_module_version": "1.2.0",
            "_view_name": "StyleView",
            "description_width": ""
          }
        },
        "e33c9dafa9f14ae09ff70bccefe659e7": {
          "model_module": "@jupyter-widgets/base",
          "model_name": "LayoutModel",
          "model_module_version": "1.2.0",
          "state": {
            "_model_module": "@jupyter-widgets/base",
            "_model_module_version": "1.2.0",
            "_model_name": "LayoutModel",
            "_view_count": null,
            "_view_module": "@jupyter-widgets/base",
            "_view_module_version": "1.2.0",
            "_view_name": "LayoutView",
            "align_content": null,
            "align_items": null,
            "align_self": null,
            "border": null,
            "bottom": null,
            "display": null,
            "flex": null,
            "flex_flow": null,
            "grid_area": null,
            "grid_auto_columns": null,
            "grid_auto_flow": null,
            "grid_auto_rows": null,
            "grid_column": null,
            "grid_gap": null,
            "grid_row": null,
            "grid_template_areas": null,
            "grid_template_columns": null,
            "grid_template_rows": null,
            "height": null,
            "justify_content": null,
            "justify_items": null,
            "left": null,
            "margin": null,
            "max_height": null,
            "max_width": null,
            "min_height": null,
            "min_width": null,
            "object_fit": null,
            "object_position": null,
            "order": null,
            "overflow": null,
            "overflow_x": null,
            "overflow_y": null,
            "padding": null,
            "right": null,
            "top": null,
            "visibility": null,
            "width": null
          }
        },
        "335d3dc03b5b450ba3390ca879802e75": {
          "model_module": "@jupyter-widgets/controls",
          "model_name": "ProgressStyleModel",
          "model_module_version": "1.5.0",
          "state": {
            "_model_module": "@jupyter-widgets/controls",
            "_model_module_version": "1.5.0",
            "_model_name": "ProgressStyleModel",
            "_view_count": null,
            "_view_module": "@jupyter-widgets/base",
            "_view_module_version": "1.2.0",
            "_view_name": "StyleView",
            "bar_color": null,
            "description_width": ""
          }
        },
        "097ffb2c76354ed8a5120b612623b741": {
          "model_module": "@jupyter-widgets/base",
          "model_name": "LayoutModel",
          "model_module_version": "1.2.0",
          "state": {
            "_model_module": "@jupyter-widgets/base",
            "_model_module_version": "1.2.0",
            "_model_name": "LayoutModel",
            "_view_count": null,
            "_view_module": "@jupyter-widgets/base",
            "_view_module_version": "1.2.0",
            "_view_name": "LayoutView",
            "align_content": null,
            "align_items": null,
            "align_self": null,
            "border": null,
            "bottom": null,
            "display": null,
            "flex": null,
            "flex_flow": null,
            "grid_area": null,
            "grid_auto_columns": null,
            "grid_auto_flow": null,
            "grid_auto_rows": null,
            "grid_column": null,
            "grid_gap": null,
            "grid_row": null,
            "grid_template_areas": null,
            "grid_template_columns": null,
            "grid_template_rows": null,
            "height": null,
            "justify_content": null,
            "justify_items": null,
            "left": null,
            "margin": null,
            "max_height": null,
            "max_width": null,
            "min_height": null,
            "min_width": null,
            "object_fit": null,
            "object_position": null,
            "order": null,
            "overflow": null,
            "overflow_x": null,
            "overflow_y": null,
            "padding": null,
            "right": null,
            "top": null,
            "visibility": null,
            "width": null
          }
        },
        "ebd1813d07b2407093f5cd505cea93fb": {
          "model_module": "@jupyter-widgets/controls",
          "model_name": "DescriptionStyleModel",
          "model_module_version": "1.5.0",
          "state": {
            "_model_module": "@jupyter-widgets/controls",
            "_model_module_version": "1.5.0",
            "_model_name": "DescriptionStyleModel",
            "_view_count": null,
            "_view_module": "@jupyter-widgets/base",
            "_view_module_version": "1.2.0",
            "_view_name": "StyleView",
            "description_width": ""
          }
        },
        "e7ef9bf1f45a40fea53844115898b2ec": {
          "model_module": "@jupyter-widgets/controls",
          "model_name": "HBoxModel",
          "model_module_version": "1.5.0",
          "state": {
            "_dom_classes": [],
            "_model_module": "@jupyter-widgets/controls",
            "_model_module_version": "1.5.0",
            "_model_name": "HBoxModel",
            "_view_count": null,
            "_view_module": "@jupyter-widgets/controls",
            "_view_module_version": "1.5.0",
            "_view_name": "HBoxView",
            "box_style": "",
            "children": [
              "IPY_MODEL_5528e824a1cb426b87744e10be27f69f",
              "IPY_MODEL_57d7a3e344044c2388f3103b8b81276f",
              "IPY_MODEL_0f14e9def9194358b629ecc1fba66236"
            ],
            "layout": "IPY_MODEL_b8524a1a41db42fe8fd028a206285489"
          }
        },
        "5528e824a1cb426b87744e10be27f69f": {
          "model_module": "@jupyter-widgets/controls",
          "model_name": "HTMLModel",
          "model_module_version": "1.5.0",
          "state": {
            "_dom_classes": [],
            "_model_module": "@jupyter-widgets/controls",
            "_model_module_version": "1.5.0",
            "_model_name": "HTMLModel",
            "_view_count": null,
            "_view_module": "@jupyter-widgets/controls",
            "_view_module_version": "1.5.0",
            "_view_name": "HTMLView",
            "description": "",
            "description_tooltip": null,
            "layout": "IPY_MODEL_f20a662a73a1471e904ae1004aa0248a",
            "placeholder": "​",
            "style": "IPY_MODEL_d2f39586b20944f1adbe57f06c45e782",
            "value": "Downloading pytorch_model.bin: 100%"
          }
        },
        "57d7a3e344044c2388f3103b8b81276f": {
          "model_module": "@jupyter-widgets/controls",
          "model_name": "FloatProgressModel",
          "model_module_version": "1.5.0",
          "state": {
            "_dom_classes": [],
            "_model_module": "@jupyter-widgets/controls",
            "_model_module_version": "1.5.0",
            "_model_name": "FloatProgressModel",
            "_view_count": null,
            "_view_module": "@jupyter-widgets/controls",
            "_view_module_version": "1.5.0",
            "_view_name": "ProgressView",
            "bar_style": "success",
            "description": "",
            "description_tooltip": null,
            "layout": "IPY_MODEL_dae76e7e3e46489184c3a976afdd0b62",
            "max": 47376396,
            "min": 0,
            "orientation": "horizontal",
            "style": "IPY_MODEL_6884fc9772b740eeb05cb20a7fc25d36",
            "value": 47376396
          }
        },
        "0f14e9def9194358b629ecc1fba66236": {
          "model_module": "@jupyter-widgets/controls",
          "model_name": "HTMLModel",
          "model_module_version": "1.5.0",
          "state": {
            "_dom_classes": [],
            "_model_module": "@jupyter-widgets/controls",
            "_model_module_version": "1.5.0",
            "_model_name": "HTMLModel",
            "_view_count": null,
            "_view_module": "@jupyter-widgets/controls",
            "_view_module_version": "1.5.0",
            "_view_name": "HTMLView",
            "description": "",
            "description_tooltip": null,
            "layout": "IPY_MODEL_c03c128cbb0448b092cafdeda813ca4e",
            "placeholder": "​",
            "style": "IPY_MODEL_6776ab3183014eeba82a1fb1b9e0a766",
            "value": " 45.2M/45.2M [00:03&lt;00:00, 19.2MB/s]"
          }
        },
        "b8524a1a41db42fe8fd028a206285489": {
          "model_module": "@jupyter-widgets/base",
          "model_name": "LayoutModel",
          "model_module_version": "1.2.0",
          "state": {
            "_model_module": "@jupyter-widgets/base",
            "_model_module_version": "1.2.0",
            "_model_name": "LayoutModel",
            "_view_count": null,
            "_view_module": "@jupyter-widgets/base",
            "_view_module_version": "1.2.0",
            "_view_name": "LayoutView",
            "align_content": null,
            "align_items": null,
            "align_self": null,
            "border": null,
            "bottom": null,
            "display": null,
            "flex": null,
            "flex_flow": null,
            "grid_area": null,
            "grid_auto_columns": null,
            "grid_auto_flow": null,
            "grid_auto_rows": null,
            "grid_column": null,
            "grid_gap": null,
            "grid_row": null,
            "grid_template_areas": null,
            "grid_template_columns": null,
            "grid_template_rows": null,
            "height": null,
            "justify_content": null,
            "justify_items": null,
            "left": null,
            "margin": null,
            "max_height": null,
            "max_width": null,
            "min_height": null,
            "min_width": null,
            "object_fit": null,
            "object_position": null,
            "order": null,
            "overflow": null,
            "overflow_x": null,
            "overflow_y": null,
            "padding": null,
            "right": null,
            "top": null,
            "visibility": null,
            "width": null
          }
        },
        "f20a662a73a1471e904ae1004aa0248a": {
          "model_module": "@jupyter-widgets/base",
          "model_name": "LayoutModel",
          "model_module_version": "1.2.0",
          "state": {
            "_model_module": "@jupyter-widgets/base",
            "_model_module_version": "1.2.0",
            "_model_name": "LayoutModel",
            "_view_count": null,
            "_view_module": "@jupyter-widgets/base",
            "_view_module_version": "1.2.0",
            "_view_name": "LayoutView",
            "align_content": null,
            "align_items": null,
            "align_self": null,
            "border": null,
            "bottom": null,
            "display": null,
            "flex": null,
            "flex_flow": null,
            "grid_area": null,
            "grid_auto_columns": null,
            "grid_auto_flow": null,
            "grid_auto_rows": null,
            "grid_column": null,
            "grid_gap": null,
            "grid_row": null,
            "grid_template_areas": null,
            "grid_template_columns": null,
            "grid_template_rows": null,
            "height": null,
            "justify_content": null,
            "justify_items": null,
            "left": null,
            "margin": null,
            "max_height": null,
            "max_width": null,
            "min_height": null,
            "min_width": null,
            "object_fit": null,
            "object_position": null,
            "order": null,
            "overflow": null,
            "overflow_x": null,
            "overflow_y": null,
            "padding": null,
            "right": null,
            "top": null,
            "visibility": null,
            "width": null
          }
        },
        "d2f39586b20944f1adbe57f06c45e782": {
          "model_module": "@jupyter-widgets/controls",
          "model_name": "DescriptionStyleModel",
          "model_module_version": "1.5.0",
          "state": {
            "_model_module": "@jupyter-widgets/controls",
            "_model_module_version": "1.5.0",
            "_model_name": "DescriptionStyleModel",
            "_view_count": null,
            "_view_module": "@jupyter-widgets/base",
            "_view_module_version": "1.2.0",
            "_view_name": "StyleView",
            "description_width": ""
          }
        },
        "dae76e7e3e46489184c3a976afdd0b62": {
          "model_module": "@jupyter-widgets/base",
          "model_name": "LayoutModel",
          "model_module_version": "1.2.0",
          "state": {
            "_model_module": "@jupyter-widgets/base",
            "_model_module_version": "1.2.0",
            "_model_name": "LayoutModel",
            "_view_count": null,
            "_view_module": "@jupyter-widgets/base",
            "_view_module_version": "1.2.0",
            "_view_name": "LayoutView",
            "align_content": null,
            "align_items": null,
            "align_self": null,
            "border": null,
            "bottom": null,
            "display": null,
            "flex": null,
            "flex_flow": null,
            "grid_area": null,
            "grid_auto_columns": null,
            "grid_auto_flow": null,
            "grid_auto_rows": null,
            "grid_column": null,
            "grid_gap": null,
            "grid_row": null,
            "grid_template_areas": null,
            "grid_template_columns": null,
            "grid_template_rows": null,
            "height": null,
            "justify_content": null,
            "justify_items": null,
            "left": null,
            "margin": null,
            "max_height": null,
            "max_width": null,
            "min_height": null,
            "min_width": null,
            "object_fit": null,
            "object_position": null,
            "order": null,
            "overflow": null,
            "overflow_x": null,
            "overflow_y": null,
            "padding": null,
            "right": null,
            "top": null,
            "visibility": null,
            "width": null
          }
        },
        "6884fc9772b740eeb05cb20a7fc25d36": {
          "model_module": "@jupyter-widgets/controls",
          "model_name": "ProgressStyleModel",
          "model_module_version": "1.5.0",
          "state": {
            "_model_module": "@jupyter-widgets/controls",
            "_model_module_version": "1.5.0",
            "_model_name": "ProgressStyleModel",
            "_view_count": null,
            "_view_module": "@jupyter-widgets/base",
            "_view_module_version": "1.2.0",
            "_view_name": "StyleView",
            "bar_color": null,
            "description_width": ""
          }
        },
        "c03c128cbb0448b092cafdeda813ca4e": {
          "model_module": "@jupyter-widgets/base",
          "model_name": "LayoutModel",
          "model_module_version": "1.2.0",
          "state": {
            "_model_module": "@jupyter-widgets/base",
            "_model_module_version": "1.2.0",
            "_model_name": "LayoutModel",
            "_view_count": null,
            "_view_module": "@jupyter-widgets/base",
            "_view_module_version": "1.2.0",
            "_view_name": "LayoutView",
            "align_content": null,
            "align_items": null,
            "align_self": null,
            "border": null,
            "bottom": null,
            "display": null,
            "flex": null,
            "flex_flow": null,
            "grid_area": null,
            "grid_auto_columns": null,
            "grid_auto_flow": null,
            "grid_auto_rows": null,
            "grid_column": null,
            "grid_gap": null,
            "grid_row": null,
            "grid_template_areas": null,
            "grid_template_columns": null,
            "grid_template_rows": null,
            "height": null,
            "justify_content": null,
            "justify_items": null,
            "left": null,
            "margin": null,
            "max_height": null,
            "max_width": null,
            "min_height": null,
            "min_width": null,
            "object_fit": null,
            "object_position": null,
            "order": null,
            "overflow": null,
            "overflow_x": null,
            "overflow_y": null,
            "padding": null,
            "right": null,
            "top": null,
            "visibility": null,
            "width": null
          }
        },
        "6776ab3183014eeba82a1fb1b9e0a766": {
          "model_module": "@jupyter-widgets/controls",
          "model_name": "DescriptionStyleModel",
          "model_module_version": "1.5.0",
          "state": {
            "_model_module": "@jupyter-widgets/controls",
            "_model_module_version": "1.5.0",
            "_model_name": "DescriptionStyleModel",
            "_view_count": null,
            "_view_module": "@jupyter-widgets/base",
            "_view_module_version": "1.2.0",
            "_view_name": "StyleView",
            "description_width": ""
          }
        }
      }
    }
  },
  "nbformat": 4,
  "nbformat_minor": 0
}